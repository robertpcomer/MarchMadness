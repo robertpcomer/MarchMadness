{
 "cells": [
  {
   "cell_type": "markdown",
   "id": "7d3efef5",
   "metadata": {},
   "source": [
    "Starting this with a lookback of the teams that have won the whole thing "
   ]
  },
  {
   "cell_type": "code",
   "execution_count": 63,
   "id": "131e546b",
   "metadata": {},
   "outputs": [
    {
     "data": {
      "text/html": [
       "<div>\n",
       "<style scoped>\n",
       "    .dataframe tbody tr th:only-of-type {\n",
       "        vertical-align: middle;\n",
       "    }\n",
       "\n",
       "    .dataframe tbody tr th {\n",
       "        vertical-align: top;\n",
       "    }\n",
       "\n",
       "    .dataframe thead th {\n",
       "        text-align: right;\n",
       "    }\n",
       "</style>\n",
       "<table border=\"1\" class=\"dataframe\">\n",
       "  <thead>\n",
       "    <tr style=\"text-align: right;\">\n",
       "      <th></th>\n",
       "      <th>Season</th>\n",
       "      <th>DayNum</th>\n",
       "      <th>WTeamID</th>\n",
       "    </tr>\n",
       "  </thead>\n",
       "  <tbody>\n",
       "    <tr>\n",
       "      <th>1180</th>\n",
       "      <td>2021</td>\n",
       "      <td>154</td>\n",
       "      <td>1124</td>\n",
       "    </tr>\n",
       "    <tr>\n",
       "      <th>1247</th>\n",
       "      <td>2022</td>\n",
       "      <td>154</td>\n",
       "      <td>1242</td>\n",
       "    </tr>\n",
       "    <tr>\n",
       "      <th>1314</th>\n",
       "      <td>2023</td>\n",
       "      <td>154</td>\n",
       "      <td>1163</td>\n",
       "    </tr>\n",
       "  </tbody>\n",
       "</table>\n",
       "</div>"
      ],
      "text/plain": [
       "      Season  DayNum  WTeamID\n",
       "1180    2021     154     1124\n",
       "1247    2022     154     1242\n",
       "1314    2023     154     1163"
      ]
     },
     "execution_count": 63,
     "metadata": {},
     "output_type": "execute_result"
    }
   ],
   "source": [
    "import pandas as pd\n",
    "import numpy as np\n",
    "teamnamedf = pd.read_csv('MTeams.csv')\n",
    "\n",
    "# Sample data creation for demonstration.\n",
    "# Assuming the real CSV file is named 'basketball_games.csv' and contains the mentioned columns.\n",
    "data = pd.read_csv('MNCAATourneyDetailedResults.csv')\n",
    "# Creating a DataFrame from the sample data\n",
    "df = pd.DataFrame(data)\n",
    "\n",
    "# Filtering for seasons greater than 2010\n",
    "filtered_df = df[df['Season'] > 2020]\n",
    "\n",
    "# Finding the WTeamID with the maximum DayNum for each distinct Season\n",
    "result_df = filtered_df.loc[filtered_df.groupby('Season')['DayNum'].idxmax(), ['Season', 'DayNum', 'WTeamID']]\n",
    "\n",
    "result_df\n"
   ]
  },
  {
   "cell_type": "code",
   "execution_count": 64,
   "id": "2c181882",
   "metadata": {},
   "outputs": [
    {
     "data": {
      "text/html": [
       "<div>\n",
       "<style scoped>\n",
       "    .dataframe tbody tr th:only-of-type {\n",
       "        vertical-align: middle;\n",
       "    }\n",
       "\n",
       "    .dataframe tbody tr th {\n",
       "        vertical-align: top;\n",
       "    }\n",
       "\n",
       "    .dataframe thead th {\n",
       "        text-align: right;\n",
       "    }\n",
       "</style>\n",
       "<table border=\"1\" class=\"dataframe\">\n",
       "  <thead>\n",
       "    <tr style=\"text-align: right;\">\n",
       "      <th></th>\n",
       "      <th>Season</th>\n",
       "      <th>DayNum</th>\n",
       "      <th>WTeamID</th>\n",
       "      <th>ConfAbbrev</th>\n",
       "      <th>Champion</th>\n",
       "      <th>RunnerUp</th>\n",
       "      <th>Semifinalists</th>\n",
       "      <th>Quarterfinalists</th>\n",
       "    </tr>\n",
       "  </thead>\n",
       "  <tbody>\n",
       "    <tr>\n",
       "      <th>0</th>\n",
       "      <td>2021</td>\n",
       "      <td>154</td>\n",
       "      <td>1124</td>\n",
       "      <td>a_sun</td>\n",
       "      <td>1251</td>\n",
       "      <td>1466</td>\n",
       "      <td>[]</td>\n",
       "      <td>[1391, 1195]</td>\n",
       "    </tr>\n",
       "    <tr>\n",
       "      <th>1</th>\n",
       "      <td>2021</td>\n",
       "      <td>154</td>\n",
       "      <td>1124</td>\n",
       "      <td>a_ten</td>\n",
       "      <td>1382</td>\n",
       "      <td>1433</td>\n",
       "      <td>[]</td>\n",
       "      <td>[]</td>\n",
       "    </tr>\n",
       "    <tr>\n",
       "      <th>2</th>\n",
       "      <td>2021</td>\n",
       "      <td>154</td>\n",
       "      <td>1124</td>\n",
       "      <td>aac</td>\n",
       "      <td>1222</td>\n",
       "      <td>1153</td>\n",
       "      <td>[1455, 1272]</td>\n",
       "      <td>[1374, 1408, 1416, 1378]</td>\n",
       "    </tr>\n",
       "    <tr>\n",
       "      <th>3</th>\n",
       "      <td>2021</td>\n",
       "      <td>154</td>\n",
       "      <td>1124</td>\n",
       "      <td>acc</td>\n",
       "      <td>1210</td>\n",
       "      <td>1199</td>\n",
       "      <td>[1314]</td>\n",
       "      <td>[1274, 1439, 1393]</td>\n",
       "    </tr>\n",
       "    <tr>\n",
       "      <th>4</th>\n",
       "      <td>2021</td>\n",
       "      <td>154</td>\n",
       "      <td>1124</td>\n",
       "      <td>aec</td>\n",
       "      <td>1216</td>\n",
       "      <td>1262</td>\n",
       "      <td>[]</td>\n",
       "      <td>[]</td>\n",
       "    </tr>\n",
       "    <tr>\n",
       "      <th>...</th>\n",
       "      <td>...</td>\n",
       "      <td>...</td>\n",
       "      <td>...</td>\n",
       "      <td>...</td>\n",
       "      <td>...</td>\n",
       "      <td>...</td>\n",
       "      <td>...</td>\n",
       "      <td>...</td>\n",
       "    </tr>\n",
       "    <tr>\n",
       "      <th>90</th>\n",
       "      <td>2023</td>\n",
       "      <td>154</td>\n",
       "      <td>1163</td>\n",
       "      <td>summit</td>\n",
       "      <td>1331</td>\n",
       "      <td>1295</td>\n",
       "      <td>[1355, 1472]</td>\n",
       "      <td>[1377, 1442]</td>\n",
       "    </tr>\n",
       "    <tr>\n",
       "      <th>91</th>\n",
       "      <td>2023</td>\n",
       "      <td>154</td>\n",
       "      <td>1163</td>\n",
       "      <td>sun_belt</td>\n",
       "      <td>1418</td>\n",
       "      <td>1375</td>\n",
       "      <td>[1241, 1402]</td>\n",
       "      <td>[1407, 1379, 1267, 1204]</td>\n",
       "    </tr>\n",
       "    <tr>\n",
       "      <th>92</th>\n",
       "      <td>2023</td>\n",
       "      <td>154</td>\n",
       "      <td>1163</td>\n",
       "      <td>swac</td>\n",
       "      <td>1411</td>\n",
       "      <td>1212</td>\n",
       "      <td>[1238, 1105]</td>\n",
       "      <td>[1380, 1341]</td>\n",
       "    </tr>\n",
       "    <tr>\n",
       "      <th>93</th>\n",
       "      <td>2023</td>\n",
       "      <td>154</td>\n",
       "      <td>1163</td>\n",
       "      <td>wac</td>\n",
       "      <td>1213</td>\n",
       "      <td>1381</td>\n",
       "      <td>[1358, 1430]</td>\n",
       "      <td>[1370, 1465, 1469, 1470]</td>\n",
       "    </tr>\n",
       "    <tr>\n",
       "      <th>94</th>\n",
       "      <td>2023</td>\n",
       "      <td>154</td>\n",
       "      <td>1163</td>\n",
       "      <td>wcc</td>\n",
       "      <td>1211</td>\n",
       "      <td>1388</td>\n",
       "      <td>[1362, 1140]</td>\n",
       "      <td>[]</td>\n",
       "    </tr>\n",
       "  </tbody>\n",
       "</table>\n",
       "<p>95 rows × 8 columns</p>\n",
       "</div>"
      ],
      "text/plain": [
       "    Season  DayNum  WTeamID ConfAbbrev  Champion  RunnerUp Semifinalists  \\\n",
       "0     2021     154     1124      a_sun      1251      1466            []   \n",
       "1     2021     154     1124      a_ten      1382      1433            []   \n",
       "2     2021     154     1124        aac      1222      1153  [1455, 1272]   \n",
       "3     2021     154     1124        acc      1210      1199        [1314]   \n",
       "4     2021     154     1124        aec      1216      1262            []   \n",
       "..     ...     ...      ...        ...       ...       ...           ...   \n",
       "90    2023     154     1163     summit      1331      1295  [1355, 1472]   \n",
       "91    2023     154     1163   sun_belt      1418      1375  [1241, 1402]   \n",
       "92    2023     154     1163       swac      1411      1212  [1238, 1105]   \n",
       "93    2023     154     1163        wac      1213      1381  [1358, 1430]   \n",
       "94    2023     154     1163        wcc      1211      1388  [1362, 1140]   \n",
       "\n",
       "            Quarterfinalists  \n",
       "0               [1391, 1195]  \n",
       "1                         []  \n",
       "2   [1374, 1408, 1416, 1378]  \n",
       "3         [1274, 1439, 1393]  \n",
       "4                         []  \n",
       "..                       ...  \n",
       "90              [1377, 1442]  \n",
       "91  [1407, 1379, 1267, 1204]  \n",
       "92              [1380, 1341]  \n",
       "93  [1370, 1465, 1469, 1470]  \n",
       "94                        []  \n",
       "\n",
       "[95 rows x 8 columns]"
      ]
     },
     "execution_count": 64,
     "metadata": {},
     "output_type": "execute_result"
    }
   ],
   "source": [
    "conf_df = pd.read_csv('MconferenceTourneyGames.csv')\n",
    "# conf_df =  conf_df[conf_df['ConfAbbrev'] == \"big_east\"]\n",
    "conf_df_filtered = conf_df[conf_df['Season'] > 2003]\n",
    "\n",
    "\n",
    "unique_confs = conf_df_filtered[['Season', 'ConfAbbrev']].drop_duplicates()\n",
    "\n",
    "# For each unique season and conference pair, find the champion, runner-up, semifinalists, and quarterfinalists.\n",
    "def tournament_details(row, df):\n",
    "    season = row['Season']\n",
    "    conf = row['ConfAbbrev']\n",
    "    conf_games = df[(df['Season'] == season) & (df['ConfAbbrev'] == conf)]\n",
    "    max_day = conf_games['DayNum'].max()\n",
    "    champ_game = conf_games[conf_games['DayNum'] == max_day]\n",
    "    champion = champ_game['WTeamID'].values[0]\n",
    "    runner_up = champ_game['LTeamID'].values[0]\n",
    "    semifinal_day = max_day - 1\n",
    "    quarterfinal_day = max_day - 2\n",
    "    semifinalists = conf_games[conf_games['DayNum'] == semifinal_day]['LTeamID'].tolist()\n",
    "    quarterfinalists = conf_games[conf_games['DayNum'] == quarterfinal_day]['LTeamID'].tolist()\n",
    "    return pd.Series([champion, runner_up, semifinalists, quarterfinalists])\n",
    "\n",
    "# Apply the function to each unique conference-season pair\n",
    "unique_confs[['Champion', 'RunnerUp', 'Semifinalists', 'Quarterfinalists']] = unique_confs.apply(lambda row: tournament_details(row, conf_df_filtered), axis=1)\n",
    "\n",
    "# Merge this tournament detail with the main result DataFrame on Season\n",
    "final_df_enhanced = pd.merge(result_df, unique_confs, on=['Season'], how='left')\n",
    "\n",
    "final_df_enhanced\n"
   ]
  },
  {
   "cell_type": "code",
   "execution_count": 65,
   "id": "0219b61a",
   "metadata": {},
   "outputs": [
    {
     "data": {
      "text/html": [
       "<div>\n",
       "<style scoped>\n",
       "    .dataframe tbody tr th:only-of-type {\n",
       "        vertical-align: middle;\n",
       "    }\n",
       "\n",
       "    .dataframe tbody tr th {\n",
       "        vertical-align: top;\n",
       "    }\n",
       "\n",
       "    .dataframe thead th {\n",
       "        text-align: right;\n",
       "    }\n",
       "</style>\n",
       "<table border=\"1\" class=\"dataframe\">\n",
       "  <thead>\n",
       "    <tr style=\"text-align: right;\">\n",
       "      <th></th>\n",
       "      <th>Season</th>\n",
       "      <th>DayNum</th>\n",
       "      <th>WTeamID</th>\n",
       "      <th>ConfAbbrev</th>\n",
       "      <th>TournamentResult</th>\n",
       "    </tr>\n",
       "  </thead>\n",
       "  <tbody>\n",
       "    <tr>\n",
       "      <th>1180</th>\n",
       "      <td>2021</td>\n",
       "      <td>154</td>\n",
       "      <td>1124</td>\n",
       "      <td>big_twelve</td>\n",
       "      <td>Semifinalist</td>\n",
       "    </tr>\n",
       "    <tr>\n",
       "      <th>1247</th>\n",
       "      <td>2022</td>\n",
       "      <td>154</td>\n",
       "      <td>1242</td>\n",
       "      <td>big_twelve</td>\n",
       "      <td>Champion</td>\n",
       "    </tr>\n",
       "    <tr>\n",
       "      <th>1314</th>\n",
       "      <td>2023</td>\n",
       "      <td>154</td>\n",
       "      <td>1163</td>\n",
       "      <td>big_east</td>\n",
       "      <td>Semifinalist</td>\n",
       "    </tr>\n",
       "  </tbody>\n",
       "</table>\n",
       "</div>"
      ],
      "text/plain": [
       "      Season  DayNum  WTeamID  ConfAbbrev TournamentResult\n",
       "1180    2021     154     1124  big_twelve     Semifinalist\n",
       "1247    2022     154     1242  big_twelve         Champion\n",
       "1314    2023     154     1163    big_east     Semifinalist"
      ]
     },
     "execution_count": 65,
     "metadata": {},
     "output_type": "execute_result"
    }
   ],
   "source": [
    "tournament_results_df = unique_confs[['Season', 'ConfAbbrev', 'Champion', 'RunnerUp', 'Semifinalists', 'Quarterfinalists']].copy()\n",
    "\n",
    "def determine_tournament_position_v2(row):\n",
    "    season = row['Season']\n",
    "    team_id = row['WTeamID']\n",
    "    tournament_info = tournament_results_df[tournament_results_df['Season'] == season]\n",
    "\n",
    "    # Initialize variables\n",
    "    conf = None\n",
    "    position = None\n",
    "\n",
    "    # Check for champion, runner-up, semifinalist, quarterfinalist by iterating through the rows\n",
    "    for _, t_row in tournament_info.iterrows():\n",
    "        # Direct match for Champion and RunnerUp\n",
    "        if team_id == t_row['Champion']:\n",
    "            conf = t_row['ConfAbbrev']\n",
    "            position = 'Champion'\n",
    "            break\n",
    "        elif team_id == t_row['RunnerUp']:\n",
    "            conf = t_row['ConfAbbrev']\n",
    "            position = 'RunnerUp'\n",
    "            break\n",
    "        # Check within lists for Semifinalists and Quarterfinalists\n",
    "        elif any(team_id == semi_id for semi_id in t_row['Semifinalists']):\n",
    "            conf = t_row['ConfAbbrev']\n",
    "            position = 'Semifinalist'\n",
    "            break\n",
    "        elif any(team_id == quarter_id for quarter_id in t_row['Quarterfinalists']):\n",
    "            conf = t_row['ConfAbbrev']\n",
    "            position = 'Quarterfinalist'\n",
    "            break\n",
    "\n",
    "    return pd.Series([conf, position])\n",
    "\n",
    "# Re-apply the corrected function to the results dataframe\n",
    "result_df[['ConfAbbrev', 'TournamentResult']] = result_df.apply(determine_tournament_position_v2, axis=1)\n",
    "\n",
    "result_df"
   ]
  },
  {
   "cell_type": "code",
   "execution_count": 66,
   "id": "2e4c8caf",
   "metadata": {},
   "outputs": [
    {
     "data": {
      "text/html": [
       "<div>\n",
       "<style scoped>\n",
       "    .dataframe tbody tr th:only-of-type {\n",
       "        vertical-align: middle;\n",
       "    }\n",
       "\n",
       "    .dataframe tbody tr th {\n",
       "        vertical-align: top;\n",
       "    }\n",
       "\n",
       "    .dataframe thead th {\n",
       "        text-align: right;\n",
       "    }\n",
       "</style>\n",
       "<table border=\"1\" class=\"dataframe\">\n",
       "  <thead>\n",
       "    <tr style=\"text-align: right;\">\n",
       "      <th></th>\n",
       "      <th>Season</th>\n",
       "      <th>ConfAbbrev</th>\n",
       "      <th>ConfTournamentPlace</th>\n",
       "      <th>TeamID</th>\n",
       "    </tr>\n",
       "  </thead>\n",
       "  <tbody>\n",
       "    <tr>\n",
       "      <th>0</th>\n",
       "      <td>2021</td>\n",
       "      <td>a_sun</td>\n",
       "      <td>Champion</td>\n",
       "      <td>1251</td>\n",
       "    </tr>\n",
       "    <tr>\n",
       "      <th>1</th>\n",
       "      <td>2021</td>\n",
       "      <td>a_sun</td>\n",
       "      <td>RunnerUp</td>\n",
       "      <td>1466</td>\n",
       "    </tr>\n",
       "    <tr>\n",
       "      <th>2</th>\n",
       "      <td>2021</td>\n",
       "      <td>a_sun</td>\n",
       "      <td>Quarterfinalist</td>\n",
       "      <td>1391</td>\n",
       "    </tr>\n",
       "    <tr>\n",
       "      <th>3</th>\n",
       "      <td>2021</td>\n",
       "      <td>a_sun</td>\n",
       "      <td>Quarterfinalist</td>\n",
       "      <td>1195</td>\n",
       "    </tr>\n",
       "    <tr>\n",
       "      <th>4</th>\n",
       "      <td>2021</td>\n",
       "      <td>a_ten</td>\n",
       "      <td>Champion</td>\n",
       "      <td>1382</td>\n",
       "    </tr>\n",
       "    <tr>\n",
       "      <th>...</th>\n",
       "      <td>...</td>\n",
       "      <td>...</td>\n",
       "      <td>...</td>\n",
       "      <td>...</td>\n",
       "    </tr>\n",
       "    <tr>\n",
       "      <th>195</th>\n",
       "      <td>2022</td>\n",
       "      <td>a_ten</td>\n",
       "      <td>Quarterfinalist</td>\n",
       "      <td>1433</td>\n",
       "    </tr>\n",
       "    <tr>\n",
       "      <th>196</th>\n",
       "      <td>2022</td>\n",
       "      <td>a_ten</td>\n",
       "      <td>Quarterfinalist</td>\n",
       "      <td>1382</td>\n",
       "    </tr>\n",
       "    <tr>\n",
       "      <th>197</th>\n",
       "      <td>2022</td>\n",
       "      <td>aac</td>\n",
       "      <td>Champion</td>\n",
       "      <td>1222</td>\n",
       "    </tr>\n",
       "    <tr>\n",
       "      <th>198</th>\n",
       "      <td>2022</td>\n",
       "      <td>aac</td>\n",
       "      <td>RunnerUp</td>\n",
       "      <td>1272</td>\n",
       "    </tr>\n",
       "    <tr>\n",
       "      <th>199</th>\n",
       "      <td>2022</td>\n",
       "      <td>aac</td>\n",
       "      <td>Semifinalist</td>\n",
       "      <td>1408</td>\n",
       "    </tr>\n",
       "  </tbody>\n",
       "</table>\n",
       "<p>200 rows × 4 columns</p>\n",
       "</div>"
      ],
      "text/plain": [
       "     Season ConfAbbrev ConfTournamentPlace  TeamID\n",
       "0      2021      a_sun            Champion    1251\n",
       "1      2021      a_sun            RunnerUp    1466\n",
       "2      2021      a_sun     Quarterfinalist    1391\n",
       "3      2021      a_sun     Quarterfinalist    1195\n",
       "4      2021      a_ten            Champion    1382\n",
       "..      ...        ...                 ...     ...\n",
       "195    2022      a_ten     Quarterfinalist    1433\n",
       "196    2022      a_ten     Quarterfinalist    1382\n",
       "197    2022        aac            Champion    1222\n",
       "198    2022        aac            RunnerUp    1272\n",
       "199    2022        aac        Semifinalist    1408\n",
       "\n",
       "[200 rows x 4 columns]"
      ]
     },
     "execution_count": 66,
     "metadata": {},
     "output_type": "execute_result"
    }
   ],
   "source": [
    "df = final_df_enhanced\n",
    "\n",
    "# Remove the 'WTeamID' and 'DayNum' columns\n",
    "df.drop(columns=['WTeamID', 'DayNum'], inplace=True)\n",
    "\n",
    "# Initialize a list to hold the new row-wise data\n",
    "rows = []\n",
    "\n",
    "# Iterate over each row in the dataframe to transform and accumulate the data\n",
    "for _, row in df.iterrows():\n",
    "    season, conf = row['Season'], row['ConfAbbrev']\n",
    "    # Champion\n",
    "    rows.append([season, conf, 'Champion', row['Champion']])\n",
    "    # RunnerUp\n",
    "    rows.append([season, conf, 'RunnerUp', row['RunnerUp']])\n",
    "    # Semifinalists\n",
    "    for team in row['Semifinalists']:\n",
    "        rows.append([season, conf, 'Semifinalist', team])\n",
    "    # Quarterfinalists\n",
    "    for team in row['Quarterfinalists']:\n",
    "        rows.append([season, conf, 'Quarterfinalist', team])\n",
    "\n",
    "# Create a new DataFrame from the rows list\n",
    "df_transformed = pd.DataFrame(rows, columns=['Season', 'ConfAbbrev', 'ConfTournamentPlace', 'TeamID'])\n",
    "\n",
    "df_transformed.head(200)"
   ]
  },
  {
   "cell_type": "code",
   "execution_count": 67,
   "id": "3c2e9dc7",
   "metadata": {},
   "outputs": [
    {
     "data": {
      "text/html": [
       "<div>\n",
       "<style scoped>\n",
       "    .dataframe tbody tr th:only-of-type {\n",
       "        vertical-align: middle;\n",
       "    }\n",
       "\n",
       "    .dataframe tbody tr th {\n",
       "        vertical-align: top;\n",
       "    }\n",
       "\n",
       "    .dataframe thead th {\n",
       "        text-align: right;\n",
       "    }\n",
       "</style>\n",
       "<table border=\"1\" class=\"dataframe\">\n",
       "  <thead>\n",
       "    <tr style=\"text-align: right;\">\n",
       "      <th></th>\n",
       "      <th>Season</th>\n",
       "      <th>TeamID</th>\n",
       "      <th>GamesPlayed</th>\n",
       "    </tr>\n",
       "  </thead>\n",
       "  <tbody>\n",
       "    <tr>\n",
       "      <th>0</th>\n",
       "      <td>2003</td>\n",
       "      <td>1112</td>\n",
       "      <td>4.0</td>\n",
       "    </tr>\n",
       "    <tr>\n",
       "      <th>1</th>\n",
       "      <td>2003</td>\n",
       "      <td>1113</td>\n",
       "      <td>2.0</td>\n",
       "    </tr>\n",
       "    <tr>\n",
       "      <th>2</th>\n",
       "      <td>2003</td>\n",
       "      <td>1120</td>\n",
       "      <td>3.0</td>\n",
       "    </tr>\n",
       "    <tr>\n",
       "      <th>3</th>\n",
       "      <td>2003</td>\n",
       "      <td>1139</td>\n",
       "      <td>3.0</td>\n",
       "    </tr>\n",
       "    <tr>\n",
       "      <th>4</th>\n",
       "      <td>2003</td>\n",
       "      <td>1141</td>\n",
       "      <td>2.0</td>\n",
       "    </tr>\n",
       "    <tr>\n",
       "      <th>...</th>\n",
       "      <td>...</td>\n",
       "      <td>...</td>\n",
       "      <td>...</td>\n",
       "    </tr>\n",
       "    <tr>\n",
       "      <th>1330</th>\n",
       "      <td>2023</td>\n",
       "      <td>1429</td>\n",
       "      <td>1.0</td>\n",
       "    </tr>\n",
       "    <tr>\n",
       "      <th>1331</th>\n",
       "      <td>2023</td>\n",
       "      <td>1433</td>\n",
       "      <td>1.0</td>\n",
       "    </tr>\n",
       "    <tr>\n",
       "      <th>1332</th>\n",
       "      <td>2023</td>\n",
       "      <td>1436</td>\n",
       "      <td>1.0</td>\n",
       "    </tr>\n",
       "    <tr>\n",
       "      <th>1333</th>\n",
       "      <td>2023</td>\n",
       "      <td>1438</td>\n",
       "      <td>1.0</td>\n",
       "    </tr>\n",
       "    <tr>\n",
       "      <th>1334</th>\n",
       "      <td>2023</td>\n",
       "      <td>1452</td>\n",
       "      <td>1.0</td>\n",
       "    </tr>\n",
       "  </tbody>\n",
       "</table>\n",
       "<p>1335 rows × 3 columns</p>\n",
       "</div>"
      ],
      "text/plain": [
       "      Season  TeamID  GamesPlayed\n",
       "0       2003    1112          4.0\n",
       "1       2003    1113          2.0\n",
       "2       2003    1120          3.0\n",
       "3       2003    1139          3.0\n",
       "4       2003    1141          2.0\n",
       "...      ...     ...          ...\n",
       "1330    2023    1429          1.0\n",
       "1331    2023    1433          1.0\n",
       "1332    2023    1436          1.0\n",
       "1333    2023    1438          1.0\n",
       "1334    2023    1452          1.0\n",
       "\n",
       "[1335 rows x 3 columns]"
      ]
     },
     "execution_count": 67,
     "metadata": {},
     "output_type": "execute_result"
    }
   ],
   "source": [
    "games_df = data\n",
    "\n",
    "team_season_games = games_df.groupby(['Season', 'WTeamID']).size().reset_index(name='Wins').rename(columns={'WTeamID': 'TeamID'})\n",
    "team_season_losses = games_df.groupby(['Season', 'LTeamID']).size().reset_index(name='Losses').rename(columns={'LTeamID': 'TeamID'})\n",
    "\n",
    "# Merge the win and loss counts on Season and TeamID, filling missing values with 0\n",
    "team_games_combined = pd.merge(team_season_games, team_season_losses, on=['Season', 'TeamID'], how='outer').fillna(0)\n",
    "\n",
    "# Calculate total games played\n",
    "team_games_combined['GamesPlayed'] = team_games_combined['Wins'] + team_games_combined['Losses']\n",
    "\n",
    "# Drop the Wins and Losses columns as they are not required for the final output\n",
    "team_games_combined.drop(columns=['Wins', 'Losses'], inplace=True)\n",
    "\n",
    "team_games_combined"
   ]
  },
  {
   "cell_type": "code",
   "execution_count": 68,
   "id": "1e5f33d4",
   "metadata": {},
   "outputs": [
    {
     "name": "stdout",
     "output_type": "stream",
     "text": [
      "     Season ConfAbbrev ConfTournamentPlace  TeamID  GamesPlayed\n",
      "0      2021      a_sun            Champion    1251          1.0\n",
      "1      2021      a_ten            Champion    1382          1.0\n",
      "2      2021        aac            Champion    1222          5.0\n",
      "3      2021        aac        Semifinalist    1455          1.0\n",
      "4      2021        acc            Champion    1210          1.0\n",
      "..      ...        ...                 ...     ...          ...\n",
      "187    2023   sun_belt            Champion    1418          1.0\n",
      "188    2023       swac            Champion    1411          1.0\n",
      "189    2023        wac            Champion    1213          1.0\n",
      "190    2023        wcc            Champion    1211          4.0\n",
      "191    2023        wcc            RunnerUp    1388          2.0\n",
      "\n",
      "[192 rows x 5 columns]\n"
     ]
    }
   ],
   "source": [
    "conf_tourney_competitors_ncaa_tourney_results = pd.merge(df_transformed,team_games_combined, on=['Season', 'TeamID'], how='inner')\n",
    "print(conf_tourney_competitors_ncaa_tourney_results )"
   ]
  },
  {
   "cell_type": "code",
   "execution_count": 69,
   "id": "1e8db020",
   "metadata": {
    "scrolled": true
   },
   "outputs": [
    {
     "data": {
      "image/png": "[encoded data removed]",
      "text/plain": [
       "<Figure size 1000x600 with 1 Axes>"
      ]
     },
     "metadata": {},
     "output_type": "display_data"
    }
   ],
   "source": [
    "\n",
    "import matplotlib.pyplot as plt\n",
    "import seaborn as sns\n",
    "\n",
    "plt.figure(figsize=(10, 6))\n",
    "sns.boxplot(data=conf_tourney_competitors_ncaa_tourney_results, x='ConfTournamentPlace', y='GamesPlayed')\n",
    "plt.title('Games Played by Conference Tournament Place')\n",
    "plt.xlabel('Conference Tournament Place')\n",
    "plt.ylabel('Games Played')\n",
    "plt.xticks(rotation=45)\n",
    "plt.show()"
   ]
  },
  {
   "cell_type": "code",
   "execution_count": 70,
   "id": "8e900762",
   "metadata": {},
   "outputs": [
    {
     "name": "stdout",
     "output_type": "stream",
     "text": [
      "      Season Seed  TeamID  SeedNum\n",
      "0       1985  W01    1207        1\n",
      "1       1985  W02    1210        2\n",
      "2       1985  W03    1228        3\n",
      "3       1985  W04    1260        4\n",
      "4       1985  W05    1374        5\n",
      "...      ...  ...     ...      ...\n",
      "2485    2023  Z12    1433       12\n",
      "2486    2023  Z13    1233       13\n",
      "2487    2023  Z14    1213       14\n",
      "2488    2023  Z15    1421       15\n",
      "2489    2023  Z16    1224       16\n",
      "\n",
      "[2490 rows x 4 columns]\n"
     ]
    }
   ],
   "source": [
    "teamSeeds_df = pd.read_csv('MNCAATourneySeeds.csv')\n",
    "teamSeeds_df['SeedNum'] = teamSeeds_df['Seed'].str.extract('(\\d+)').astype(int)\n",
    "\n",
    "# Filter the DataFrame for rows where the seed number is less than 8\n",
    "teamSeeds_df = teamSeeds_df[teamSeeds_df['SeedNum'] < 17]\n",
    "\n",
    "# Drop the temporary SeedNum column if no longer needed\n",
    "# teamSeeds_df = filtered_df.drop(columns=['SeedNum'])\n",
    "\n",
    "filtered_df\n",
    "print(teamSeeds_df)\n",
    "\n"
   ]
  },
  {
   "cell_type": "code",
   "execution_count": 71,
   "id": "a6b1999e",
   "metadata": {},
   "outputs": [
    {
     "name": "stdout",
     "output_type": "stream",
     "text": [
      "     Season ConfAbbrev ConfTournamentPlace  TeamID  GamesPlayed  Seed  SeedNum\n",
      "0      2021      a_sun            Champion    1251          1.0   Y13       13\n",
      "1      2021      a_ten            Champion    1382          1.0   W09        9\n",
      "2      2021        aac            Champion    1222          5.0   Y02        2\n",
      "3      2021        aac        Semifinalist    1455          1.0  X11b       11\n",
      "4      2021        acc            Champion    1210          1.0   Y09        9\n",
      "..      ...        ...                 ...     ...          ...   ...      ...\n",
      "187    2023   sun_belt            Champion    1418          1.0   W13       13\n",
      "188    2023       swac            Champion    1411          1.0  W16b       16\n",
      "189    2023        wac            Champion    1213          1.0   Z14       14\n",
      "190    2023        wcc            Champion    1211          4.0   Z03        3\n",
      "191    2023        wcc            RunnerUp    1388          2.0   Z05        5\n",
      "\n",
      "[192 rows x 7 columns]\n"
     ]
    }
   ],
   "source": [
    "top8conftourneyResults = pd.merge(conf_tourney_competitors_ncaa_tourney_results,teamSeeds_df, on=['Season', 'TeamID'], how='inner')\n",
    "print(top8conftourneyResults)"
   ]
  },
  {
   "cell_type": "code",
   "execution_count": 72,
   "id": "905540f0",
   "metadata": {},
   "outputs": [
    {
     "data": {
      "image/png": "[encoded data removed]",
      "text/plain": [
       "<Figure size 1000x600 with 1 Axes>"
      ]
     },
     "metadata": {},
     "output_type": "display_data"
    }
   ],
   "source": [
    "import matplotlib.pyplot as plt\n",
    "import seaborn as sns\n",
    "\n",
    "plt.figure(figsize=(10, 6))\n",
    "sns.boxplot(data=top8conftourneyResults, x='ConfTournamentPlace', y='GamesPlayed')\n",
    "plt.title('Games Played by Conference Tournament Place')\n",
    "plt.xlabel('Conference Tournament Place')\n",
    "plt.ylabel('Games Played')\n",
    "plt.xticks(rotation=45)\n",
    "plt.show()"
   ]
  },
  {
   "cell_type": "code",
   "execution_count": 73,
   "id": "8b6e4a79",
   "metadata": {},
   "outputs": [
    {
     "data": {
      "image/png": "[encoded data removed]",
      "text/plain": [
       "<Figure size 1000x600 with 1 Axes>"
      ]
     },
     "metadata": {},
     "output_type": "display_data"
    }
   ],
   "source": [
    "avg_games_played = top8conftourneyResults.groupby('ConfTournamentPlace')['GamesPlayed'].mean().reset_index()\n",
    "\n",
    "# Plotting the average games played\n",
    "plt.figure(figsize=(10, 6))\n",
    "sns.barplot(data=avg_games_played, x='ConfTournamentPlace', y='GamesPlayed', palette=\"Set2\")\n",
    "plt.title('Average Games Played by Conference Tournament Place')\n",
    "plt.xlabel('Conference Tournament Place')\n",
    "plt.ylabel('Average Games Played')\n",
    "plt.xticks(rotation=45)\n",
    "plt.show()"
   ]
  },
  {
   "cell_type": "code",
   "execution_count": 74,
   "id": "bb85a5b4",
   "metadata": {},
   "outputs": [
    {
     "data": {
      "image/png": "[encoded data removed]",
      "text/plain": [
       "<Figure size 1200x800 with 1 Axes>"
      ]
     },
     "metadata": {},
     "output_type": "display_data"
    }
   ],
   "source": [
    "plt.figure(figsize=(12, 8))\n",
    "sns.barplot(data=top8conftourneyResults, x='ConfTournamentPlace', y='GamesPlayed', hue='SeedNum', palette=\"viridis\")\n",
    "plt.title('Average Games Played by Conference Tournament Place and Seed')\n",
    "plt.xlabel('Conference Tournament Place')\n",
    "plt.ylabel('Average Games Played')\n",
    "plt.legend(title='Seed Number', bbox_to_anchor=(1.05, 1), loc='upper left')\n",
    "plt.xticks(rotation=45)\n",
    "plt.show()"
   ]
  },
  {
   "cell_type": "code",
   "execution_count": 75,
   "id": "5c21d72e",
   "metadata": {},
   "outputs": [
    {
     "name": "stderr",
     "output_type": "stream",
     "text": [
      "No artists with labels found to put in legend.  Note that artists whose label start with an underscore are ignored when legend() is called with no argument.\n"
     ]
    },
    {
     "data": {
      "image/png": "[encoded data removed]",
      "text/plain": [
       "<Figure size 1200x800 with 1 Axes>"
      ]
     },
     "metadata": {},
     "output_type": "display_data"
    }
   ],
   "source": [
    "plt.figure(figsize=(12, 8))\n",
    "sns.barplot(data=top8conftourneyResults,  y='GamesPlayed', x='SeedNum', palette=\"viridis\")\n",
    "plt.title('Average Games Played by Conference Tournament Place and Seed')\n",
    "plt.xlabel('Conference Tournament Place')\n",
    "plt.ylabel('Average Games Played')\n",
    "plt.legend(title='Seed Number', bbox_to_anchor=(1.05, 1), loc='upper left')\n",
    "plt.xticks(rotation=45)\n",
    "plt.show()"
   ]
  },
  {
   "cell_type": "code",
   "execution_count": 76,
   "id": "21be1ff5",
   "metadata": {},
   "outputs": [
    {
     "data": {
      "application/vnd.plotly.v1+json": {
       "config": {
        "plotlyServerURL": "https://plot.ly"
       },
       "data": [
        {
         "connector": {
          "line": {
           "color": "rgb(63, 63, 63)"
          }
         },
         "measure": [
          "absolute",
          "relative",
          "relative",
          "relative",
          "relative",
          "relative",
          "relative",
          "relative",
          "relative",
          "relative",
          "relative",
          "relative",
          "relative",
          "relative",
          "relative",
          "relative"
         ],
         "name": "Average Games Played",
         "orientation": "v",
         "text": [
          "3.55",
          "-0.64",
          "-0.05",
          "0.14",
          "-0.36",
          "-0.64",
          "-0.43",
          "0.57",
          "0.02",
          "-0.60",
          "-0.17",
          "0.06",
          "-0.21",
          "-0.17",
          "0.55",
          "-0.25"
         ],
         "textposition": "outside",
         "type": "waterfall",
         "x": [
          "1",
          "2",
          "3",
          "4",
          "5",
          "6",
          "7",
          "8",
          "9",
          "10",
          "11",
          "12",
          "13",
          "14",
          "15",
          "16"
         ],
         "y": [
          0,
          -0.6363636363636362,
          -0.051948051948051965,
          0.1428571428571428,
          -0.36363636363636376,
          -0.6363636363636362,
          -0.4285714285714286,
          0.5714285714285714,
          0.023809523809523725,
          -0.5952380952380951,
          -0.17142857142857149,
          0.06153846153846154,
          -0.21153846153846145,
          -0.16666666666666674,
          0.5530303030303032,
          -0.24747474747474763
         ]
        }
       ],
       "layout": {
        "showlegend": true,
        "template": {
         "data": {
          "bar": [
           {
            "error_x": {
             "color": "#2a3f5f"
            },
            "error_y": {
             "color": "#2a3f5f"
            },
            "marker": {
             "line": {
              "color": "#E5ECF6",
              "width": 0.5
             },
             "pattern": {
              "fillmode": "overlay",
              "size": 10,
              "solidity": 0.2
             }
            },
            "type": "bar"
           }
          ],
          "barpolar": [
           {
            "marker": {
             "line": {
              "color": "#E5ECF6",
              "width": 0.5
             },
             "pattern": {
              "fillmode": "overlay",
              "size": 10,
              "solidity": 0.2
             }
            },
            "type": "barpolar"
           }
          ],
          "carpet": [
           {
            "aaxis": {
             "endlinecolor": "#2a3f5f",
             "gridcolor": "white",
             "linecolor": "white",
             "minorgridcolor": "white",
             "startlinecolor": "#2a3f5f"
            },
            "baxis": {
             "endlinecolor": "#2a3f5f",
             "gridcolor": "white",
             "linecolor": "white",
             "minorgridcolor": "white",
             "startlinecolor": "#2a3f5f"
            },
            "type": "carpet"
           }
          ],
          "choropleth": [
           {
            "colorbar": {
             "outlinewidth": 0,
             "ticks": ""
            },
            "type": "choropleth"
           }
          ],
          "contour": [
           {
            "colorbar": {
             "outlinewidth": 0,
             "ticks": ""
            },
            "colorscale": [
             [
              0,
              "#0d0887"
             ],
             [
              0.1111111111111111,
              "#46039f"
             ],
             [
              0.2222222222222222,
              "#7201a8"
             ],
             [
              0.3333333333333333,
              "#9c179e"
             ],
             [
              0.4444444444444444,
              "#bd3786"
             ],
             [
              0.5555555555555556,
              "#d8576b"
             ],
             [
              0.6666666666666666,
              "#ed7953"
             ],
             [
              0.7777777777777778,
              "#fb9f3a"
             ],
             [
              0.8888888888888888,
              "#fdca26"
             ],
             [
              1,
              "#f0f921"
             ]
            ],
            "type": "contour"
           }
          ],
          "contourcarpet": [
           {
            "colorbar": {
             "outlinewidth": 0,
             "ticks": ""
            },
            "type": "contourcarpet"
           }
          ],
          "heatmap": [
           {
            "colorbar": {
             "outlinewidth": 0,
             "ticks": ""
            },
            "colorscale": [
             [
              0,
              "#0d0887"
             ],
             [
              0.1111111111111111,
              "#46039f"
             ],
             [
              0.2222222222222222,
              "#7201a8"
             ],
             [
              0.3333333333333333,
              "#9c179e"
             ],
             [
              0.4444444444444444,
              "#bd3786"
             ],
             [
              0.5555555555555556,
              "#d8576b"
             ],
             [
              0.6666666666666666,
              "#ed7953"
             ],
             [
              0.7777777777777778,
              "#fb9f3a"
             ],
             [
              0.8888888888888888,
              "#fdca26"
             ],
             [
              1,
              "#f0f921"
             ]
            ],
            "type": "heatmap"
           }
          ],
          "heatmapgl": [
           {
            "colorbar": {
             "outlinewidth": 0,
             "ticks": ""
            },
            "colorscale": [
             [
              0,
              "#0d0887"
             ],
             [
              0.1111111111111111,
              "#46039f"
             ],
             [
              0.2222222222222222,
              "#7201a8"
             ],
             [
              0.3333333333333333,
              "#9c179e"
             ],
             [
              0.4444444444444444,
              "#bd3786"
             ],
             [
              0.5555555555555556,
              "#d8576b"
             ],
             [
              0.6666666666666666,
              "#ed7953"
             ],
             [
              0.7777777777777778,
              "#fb9f3a"
             ],
             [
              0.8888888888888888,
              "#fdca26"
             ],
             [
              1,
              "#f0f921"
             ]
            ],
            "type": "heatmapgl"
           }
          ],
          "histogram": [
           {
            "marker": {
             "pattern": {
              "fillmode": "overlay",
              "size": 10,
              "solidity": 0.2
             }
            },
            "type": "histogram"
           }
          ],
          "histogram2d": [
           {
            "colorbar": {
             "outlinewidth": 0,
             "ticks": ""
            },
            "colorscale": [
             [
              0,
              "#0d0887"
             ],
             [
              0.1111111111111111,
              "#46039f"
             ],
             [
              0.2222222222222222,
              "#7201a8"
             ],
             [
              0.3333333333333333,
              "#9c179e"
             ],
             [
              0.4444444444444444,
              "#bd3786"
             ],
             [
              0.5555555555555556,
              "#d8576b"
             ],
             [
              0.6666666666666666,
              "#ed7953"
             ],
             [
              0.7777777777777778,
              "#fb9f3a"
             ],
             [
              0.8888888888888888,
              "#fdca26"
             ],
             [
              1,
              "#f0f921"
             ]
            ],
            "type": "histogram2d"
           }
          ],
          "histogram2dcontour": [
           {
            "colorbar": {
             "outlinewidth": 0,
             "ticks": ""
            },
            "colorscale": [
             [
              0,
              "#0d0887"
             ],
             [
              0.1111111111111111,
              "#46039f"
             ],
             [
              0.2222222222222222,
              "#7201a8"
             ],
             [
              0.3333333333333333,
              "#9c179e"
             ],
             [
              0.4444444444444444,
              "#bd3786"
             ],
             [
              0.5555555555555556,
              "#d8576b"
             ],
             [
              0.6666666666666666,
              "#ed7953"
             ],
             [
              0.7777777777777778,
              "#fb9f3a"
             ],
             [
              0.8888888888888888,
              "#fdca26"
             ],
             [
              1,
              "#f0f921"
             ]
            ],
            "type": "histogram2dcontour"
           }
          ],
          "mesh3d": [
           {
            "colorbar": {
             "outlinewidth": 0,
             "ticks": ""
            },
            "type": "mesh3d"
           }
          ],
          "parcoords": [
           {
            "line": {
             "colorbar": {
              "outlinewidth": 0,
              "ticks": ""
             }
            },
            "type": "parcoords"
           }
          ],
          "pie": [
           {
            "automargin": true,
            "type": "pie"
           }
          ],
          "scatter": [
           {
            "fillpattern": {
             "fillmode": "overlay",
             "size": 10,
             "solidity": 0.2
            },
            "type": "scatter"
           }
          ],
          "scatter3d": [
           {
            "line": {
             "colorbar": {
              "outlinewidth": 0,
              "ticks": ""
             }
            },
            "marker": {
             "colorbar": {
              "outlinewidth": 0,
              "ticks": ""
             }
            },
            "type": "scatter3d"
           }
          ],
          "scattercarpet": [
           {
            "marker": {
             "colorbar": {
              "outlinewidth": 0,
              "ticks": ""
             }
            },
            "type": "scattercarpet"
           }
          ],
          "scattergeo": [
           {
            "marker": {
             "colorbar": {
              "outlinewidth": 0,
              "ticks": ""
             }
            },
            "type": "scattergeo"
           }
          ],
          "scattergl": [
           {
            "marker": {
             "colorbar": {
              "outlinewidth": 0,
              "ticks": ""
             }
            },
            "type": "scattergl"
           }
          ],
          "scattermapbox": [
           {
            "marker": {
             "colorbar": {
              "outlinewidth": 0,
              "ticks": ""
             }
            },
            "type": "scattermapbox"
           }
          ],
          "scatterpolar": [
           {
            "marker": {
             "colorbar": {
              "outlinewidth": 0,
              "ticks": ""
             }
            },
            "type": "scatterpolar"
           }
          ],
          "scatterpolargl": [
           {
            "marker": {
             "colorbar": {
              "outlinewidth": 0,
              "ticks": ""
             }
            },
            "type": "scatterpolargl"
           }
          ],
          "scatterternary": [
           {
            "marker": {
             "colorbar": {
              "outlinewidth": 0,
              "ticks": ""
             }
            },
            "type": "scatterternary"
           }
          ],
          "surface": [
           {
            "colorbar": {
             "outlinewidth": 0,
             "ticks": ""
            },
            "colorscale": [
             [
              0,
              "#0d0887"
             ],
             [
              0.1111111111111111,
              "#46039f"
             ],
             [
              0.2222222222222222,
              "#7201a8"
             ],
             [
              0.3333333333333333,
              "#9c179e"
             ],
             [
              0.4444444444444444,
              "#bd3786"
             ],
             [
              0.5555555555555556,
              "#d8576b"
             ],
             [
              0.6666666666666666,
              "#ed7953"
             ],
             [
              0.7777777777777778,
              "#fb9f3a"
             ],
             [
              0.8888888888888888,
              "#fdca26"
             ],
             [
              1,
              "#f0f921"
             ]
            ],
            "type": "surface"
           }
          ],
          "table": [
           {
            "cells": {
             "fill": {
              "color": "#EBF0F8"
             },
             "line": {
              "color": "white"
             }
            },
            "header": {
             "fill": {
              "color": "#C8D4E3"
             },
             "line": {
              "color": "white"
             }
            },
            "type": "table"
           }
          ]
         },
         "layout": {
          "annotationdefaults": {
           "arrowcolor": "#2a3f5f",
           "arrowhead": 0,
           "arrowwidth": 1
          },
          "autotypenumbers": "strict",
          "coloraxis": {
           "colorbar": {
            "outlinewidth": 0,
            "ticks": ""
           }
          },
          "colorscale": {
           "diverging": [
            [
             0,
             "#8e0152"
            ],
            [
             0.1,
             "#c51b7d"
            ],
            [
             0.2,
             "#de77ae"
            ],
            [
             0.3,
             "#f1b6da"
            ],
            [
             0.4,
             "#fde0ef"
            ],
            [
             0.5,
             "#f7f7f7"
            ],
            [
             0.6,
             "#e6f5d0"
            ],
            [
             0.7,
             "#b8e186"
            ],
            [
             0.8,
             "#7fbc41"
            ],
            [
             0.9,
             "#4d9221"
            ],
            [
             1,
             "#276419"
            ]
           ],
           "sequential": [
            [
             0,
             "#0d0887"
            ],
            [
             0.1111111111111111,
             "#46039f"
            ],
            [
             0.2222222222222222,
             "#7201a8"
            ],
            [
             0.3333333333333333,
             "#9c179e"
            ],
            [
             0.4444444444444444,
             "#bd3786"
            ],
            [
             0.5555555555555556,
             "#d8576b"
            ],
            [
             0.6666666666666666,
             "#ed7953"
            ],
            [
             0.7777777777777778,
             "#fb9f3a"
            ],
            [
             0.8888888888888888,
             "#fdca26"
            ],
            [
             1,
             "#f0f921"
            ]
           ],
           "sequentialminus": [
            [
             0,
             "#0d0887"
            ],
            [
             0.1111111111111111,
             "#46039f"
            ],
            [
             0.2222222222222222,
             "#7201a8"
            ],
            [
             0.3333333333333333,
             "#9c179e"
            ],
            [
             0.4444444444444444,
             "#bd3786"
            ],
            [
             0.5555555555555556,
             "#d8576b"
            ],
            [
             0.6666666666666666,
             "#ed7953"
            ],
            [
             0.7777777777777778,
             "#fb9f3a"
            ],
            [
             0.8888888888888888,
             "#fdca26"
            ],
            [
             1,
             "#f0f921"
            ]
           ]
          },
          "colorway": [
           "#636efa",
           "#EF553B",
           "#00cc96",
           "#ab63fa",
           "#FFA15A",
           "#19d3f3",
           "#FF6692",
           "#B6E880",
           "#FF97FF",
           "#FECB52"
          ],
          "font": {
           "color": "#2a3f5f"
          },
          "geo": {
           "bgcolor": "white",
           "lakecolor": "white",
           "landcolor": "#E5ECF6",
           "showlakes": true,
           "showland": true,
           "subunitcolor": "white"
          },
          "hoverlabel": {
           "align": "left"
          },
          "hovermode": "closest",
          "mapbox": {
           "style": "light"
          },
          "paper_bgcolor": "white",
          "plot_bgcolor": "#E5ECF6",
          "polar": {
           "angularaxis": {
            "gridcolor": "white",
            "linecolor": "white",
            "ticks": ""
           },
           "bgcolor": "#E5ECF6",
           "radialaxis": {
            "gridcolor": "white",
            "linecolor": "white",
            "ticks": ""
           }
          },
          "scene": {
           "xaxis": {
            "backgroundcolor": "#E5ECF6",
            "gridcolor": "white",
            "gridwidth": 2,
            "linecolor": "white",
            "showbackground": true,
            "ticks": "",
            "zerolinecolor": "white"
           },
           "yaxis": {
            "backgroundcolor": "#E5ECF6",
            "gridcolor": "white",
            "gridwidth": 2,
            "linecolor": "white",
            "showbackground": true,
            "ticks": "",
            "zerolinecolor": "white"
           },
           "zaxis": {
            "backgroundcolor": "#E5ECF6",
            "gridcolor": "white",
            "gridwidth": 2,
            "linecolor": "white",
            "showbackground": true,
            "ticks": "",
            "zerolinecolor": "white"
           }
          },
          "shapedefaults": {
           "line": {
            "color": "#2a3f5f"
           }
          },
          "ternary": {
           "aaxis": {
            "gridcolor": "white",
            "linecolor": "white",
            "ticks": ""
           },
           "baxis": {
            "gridcolor": "white",
            "linecolor": "white",
            "ticks": ""
           },
           "bgcolor": "#E5ECF6",
           "caxis": {
            "gridcolor": "white",
            "linecolor": "white",
            "ticks": ""
           }
          },
          "title": {
           "x": 0.05
          },
          "xaxis": {
           "automargin": true,
           "gridcolor": "white",
           "linecolor": "white",
           "ticks": "",
           "title": {
            "standoff": 15
           },
           "zerolinecolor": "white",
           "zerolinewidth": 2
          },
          "yaxis": {
           "automargin": true,
           "gridcolor": "white",
           "linecolor": "white",
           "ticks": "",
           "title": {
            "standoff": 15
           },
           "zerolinecolor": "white",
           "zerolinewidth": 2
          }
         }
        },
        "title": {
         "text": "Delta of Average Games Played by Seed Number <br>Team needed to finish 4th or better in conf tourney<br>Last 20 Years"
        },
        "xaxis": {
         "title": {
          "text": "Seed Number"
         }
        },
        "yaxis": {
         "title": {
          "text": "Delta in Average Games Played"
         }
        }
       }
      }
     },
     "metadata": {},
     "output_type": "display_data"
    },
    {
     "name": "stdout",
     "output_type": "stream",
     "text": [
      "    SeedNum  GamesPlayed  Count\n",
      "0         1     3.545455     11\n",
      "1         2     2.909091     11\n",
      "2         3     2.857143      7\n",
      "3         4     3.000000      8\n",
      "4         5     2.636364     11\n",
      "5         6     2.000000      7\n",
      "6         7     1.571429      7\n",
      "7         8     2.142857      7\n",
      "8         9     2.166667      6\n",
      "9        10     1.571429      7\n",
      "10       11     1.400000      5\n",
      "11       12     1.461538     13\n",
      "12       13     1.250000     12\n",
      "13       14     1.083333     12\n",
      "14       15     1.636364     11\n",
      "15       16     1.388889     18\n"
     ]
    }
   ],
   "source": [
    "import plotly.graph_objects as go\n",
    "import numpy as np\n",
    "df = top8conftourneyResults\n",
    "df = df[df['ConfTournamentPlace']!=\"Quarterfinalist\"]\n",
    "\n",
    "# Assuming 'df' is your DataFrame with detailed game records, including SeedNum\n",
    "# Calculate the average games played for each SeedNum\n",
    "avg_games_played_by_seed = df.groupby('SeedNum').agg(\n",
    "    GamesPlayed=pd.NamedAgg(column='GamesPlayed', aggfunc='mean'),\n",
    "    Count=pd.NamedAgg(column='GamesPlayed', aggfunc='count')  # Counting records per SeedNum\n",
    ").reset_index()\n",
    "\n",
    "\n",
    "# Sort the DataFrame by SeedNum to ensure the order is correct\n",
    "avg_games_played_by_seed = avg_games_played_by_seed.sort_values(by='SeedNum')\n",
    "\n",
    "# Calculate the deltas for the waterfall chart\n",
    "# For the waterfall chart, the first delta is the average games played by the 1 seed\n",
    "# Subsequent deltas are the changes from one seed to the next\n",
    "deltas = np.diff(avg_games_played_by_seed['GamesPlayed'], prepend=avg_games_played_by_seed['GamesPlayed'].iloc[0])\n",
    "\n",
    "# Adjust the measures array for the waterfall chart\n",
    "measures = ['relative'] * len(deltas)\n",
    "measures[0] = 'absolute'  # The first value is the starting point (absolute)\n",
    "\n",
    "# Text for the annotations\n",
    "text_values = [f\"{delta:.2f}\" if i != 0 else f\"{avg_games_played_by_seed['GamesPlayed'].iloc[0]:.2f}\" for i, delta in enumerate(deltas)]\n",
    "\n",
    "# Create the waterfall chart\n",
    "fig = go.Figure(go.Waterfall(\n",
    "    name=\"Average Games Played\",\n",
    "    orientation=\"v\",\n",
    "    measure=measures,\n",
    "    x=avg_games_played_by_seed['SeedNum'].astype(str).tolist(),\n",
    "    textposition=\"outside\",\n",
    "    text=text_values,\n",
    "    y=deltas,\n",
    "    connector={\"line\":{\"color\":\"rgb(63, 63, 63)\"}},\n",
    "))\n",
    "\n",
    "fig.update_layout(\n",
    "    title=\"Delta of Average Games Played by Seed Number <br>Team needed to finish 4th or better in conf tourney<br>Last 20 Years\",\n",
    "    xaxis_title=\"Seed Number\",\n",
    "    yaxis_title=\"Delta in Average Games Played\",\n",
    "    showlegend=True\n",
    ")\n",
    "\n",
    "fig.show()\n",
    "print(avg_games_played_by_seed)"
   ]
  },
  {
   "cell_type": "markdown",
   "id": "57a053c6",
   "metadata": {},
   "source": [
    "-- 2003-2024\n",
    "\n",
    "#1s and #2s - not the same degree of elite \n",
    "#6,#7,#8,#11 - similar durations for tourney runs\n",
    "#9,#10, #12 - not dead last, but pretty close\n",
    "#16 is the better upset choice if the team is contending in their conference play\n",
    "\n",
    "What do #1/2 seeds look like that lost in the first round\n",
    "\n",
    "2021-2024\n",
    "Totally different \n"
   ]
  },
  {
   "cell_type": "code",
   "execution_count": 77,
   "id": "1295e525",
   "metadata": {},
   "outputs": [
    {
     "name": "stdout",
     "output_type": "stream",
     "text": [
      "     Season  ConfAbbrev ConfTournamentPlace  TeamID  GamesPlayed Seed  SeedNum\n",
      "17     2021     big_ten            RunnerUp    1326          1.0  Z02        2\n",
      "114    2022         sec        Semifinalist    1246          1.0  W02        2\n",
      "144    2023     big_ten            Champion    1345          1.0  W01        1\n",
      "172    2023  pac_twelve            Champion    1112          1.0  X02        2\n"
     ]
    }
   ],
   "source": [
    "seeds = [1,2]\n",
    "topseeds = top8conftourneyResults[top8conftourneyResults['SeedNum'].isin(seeds)]\n",
    "topseedslosefirst = topseeds[topseeds['GamesPlayed']==1]\n",
    "print(topseedslosefirst)"
   ]
  },
  {
   "cell_type": "markdown",
   "id": "9a3d605b",
   "metadata": {},
   "source": [
    "https://ncaaorg.s3.amazonaws.com/championships/sports/basketball/rules/men/2020-21PRMBB_RulesChanges.pdf\n",
    "\n",
    "To amend Rule 2-11.6 by providing that the shot clock shall be reset to 20 seconds or the time remaining as set \n",
    "forth in subsections c. and d. of this rule when the offensive team retains or gains possession of the ball for a \n",
    "throw-in in the front court. Exception: When no reset is required per Rule 2-11.6.a or there is a change of team \n",
    "possession in the backcourt and the ball remains live. To accomplish this objective, the change would further \n",
    "require that Rule 2-11.6.b.8 only be applicable when the alternating possession arrow favors the defense. If the \n",
    "arrow favors the offense, there would be a 20-second reset under Rule 2-11.6.c. \n",
    " \n",
    "Rationale: The rule was changed initially last year to 1) increase the pace of play, 2) increase the number of \n",
    "possessions per team and 3) increase scoring. This amendment would correct an omission from last year’s rule \n",
    "and facilitate a clearer understanding of the rule for players, coaches and officials and further encourage the three \n",
    "objectives of this original rule."
   ]
  },
  {
   "cell_type": "code",
   "execution_count": 78,
   "id": "e0dc2a8a",
   "metadata": {},
   "outputs": [
    {
     "data": {
      "text/plain": [
       "({'Average WScore (2000-2010)': 74.80143376464906,\n",
       "  'Average LScore (2000-2010)': 62.73630424282482},\n",
       " {'Average WScore (2010-2015)': 73.87725645374034,\n",
       "  'Average LScore (2010-2015)': 62.05381571509327},\n",
       " {'Average WScore (2015-2020)': 78.02184718100891,\n",
       "  'Average LScore (2015-2020)': 65.98030415430267},\n",
       " {'Average WScore (2021-2024)': 76.95354227021333,\n",
       "  'Average LScore (2021-2024)': 65.01632868053727})"
      ]
     },
     "execution_count": 78,
     "metadata": {},
     "output_type": "execute_result"
    }
   ],
   "source": [
    "import pandas as pd\n",
    "df = pd.read_csv('MRegularSeasonDetailedResults.csv')\n",
    "# Assuming df is your DataFrame\n",
    "\n",
    "# Convert Season to integer if it's not already, to perform comparisons\n",
    "df['Season'] = df['Season'].astype(int)\n",
    "\n",
    "# Split the DataFrame into two based on the season\n",
    "df_2000_2010 = df[(df['Season'] >= 2000) & (df['Season'] <= 2010)]\n",
    "df_2010_2015 = df[(df['Season'] >= 2011) & (df['Season'] <= 2015)]\n",
    "df_2015_2020 = df[(df['Season'] >= 2016) & (df['Season'] <= 2020)]\n",
    "\n",
    "df_2021_2024 = df[(df['Season'] >= 2021) & (df['Season'] <= 2024)]\n",
    "\n",
    "# Calculate the average scores for each period\n",
    "avg_scores_2000_2010 = {\n",
    "    'Average WScore (2000-2010)': df_2000_2010['WScore'].mean(),\n",
    "    'Average LScore (2000-2010)': df_2000_2010['LScore'].mean()\n",
    "}\n",
    "avg_scores_2010_2015 = {\n",
    "    'Average WScore (2010-2015)': df_2010_2015['WScore'].mean(),\n",
    "    'Average LScore (2010-2015)': df_2010_2015['LScore'].mean()\n",
    "}\n",
    "\n",
    "avg_scores_2015_2020 = {\n",
    "    'Average WScore (2015-2020)': df_2015_2020['WScore'].mean(),\n",
    "    'Average LScore (2015-2020)': df_2015_2020['LScore'].mean()\n",
    "}\n",
    "\n",
    "\n",
    "avg_scores_2021_2024 = {\n",
    "    'Average WScore (2021-2024)': df_2021_2024['WScore'].mean(),\n",
    "    'Average LScore (2021-2024)': df_2021_2024['LScore'].mean()\n",
    "}\n",
    "\n",
    "# Output the results\n",
    "avg_scores_2000_2010,avg_scores_2010_2015,avg_scores_2015_2020, avg_scores_2021_2024"
   ]
  },
  {
   "cell_type": "code",
   "execution_count": 79,
   "id": "efac0f35",
   "metadata": {},
   "outputs": [
    {
     "name": "stdout",
     "output_type": "stream",
     "text": [
      "Average WScore and LScore by Season:\n",
      "    Season     WScore     LScore\n",
      "0     2003  75.795061  63.756932\n",
      "1     2004  74.971122  62.990155\n",
      "2     2005  74.693690  62.635294\n",
      "3     2006  74.587555  62.666597\n",
      "4     2007  74.829467  62.761650\n",
      "5     2008  74.962425  62.755375\n",
      "6     2009  74.033721  61.980377\n",
      "7     2010  74.652480  62.484325\n",
      "8     2011  74.374190  62.470644\n",
      "9     2012  73.379973  61.415953\n",
      "10    2013  72.840789  60.908083\n",
      "11    2014  76.101268  64.452070\n",
      "12    2015  72.680799  61.007845\n",
      "13    2016  78.295958  66.327063\n",
      "14    2017  78.645783  66.615199\n",
      "15    2018  79.080296  66.919149\n",
      "16    2019  77.887424  65.790591\n",
      "17    2020  76.177928  64.230105\n",
      "18    2021  76.808301  64.807004\n",
      "19    2022  75.920112  64.170627\n",
      "20    2023  76.618886  64.871831\n",
      "21    2024  78.856084  66.483385\n"
     ]
    }
   ],
   "source": [
    "# Convert Season to integer if it's not already, for consistency\n",
    "df['Season'] = df['Season'].astype(int)\n",
    "\n",
    "# Group by the 'Season' and calculate the mean for 'WScore' and 'LScore'\n",
    "seasonal_averages = df.groupby('Season')[['WScore', 'LScore']].mean()\n",
    "\n",
    "# Reset index to make 'Season' a column again for easier access\n",
    "seasonal_averages.reset_index(inplace=True)\n",
    "\n",
    "# Print out the results\n",
    "print(\"Average WScore and LScore by Season:\")\n",
    "print(seasonal_averages)"
   ]
  },
  {
   "cell_type": "code",
   "execution_count": 80,
   "id": "d8ce8fc3",
   "metadata": {},
   "outputs": [
    {
     "data": {
      "text/html": [
       "<div>\n",
       "<style scoped>\n",
       "    .dataframe tbody tr th:only-of-type {\n",
       "        vertical-align: middle;\n",
       "    }\n",
       "\n",
       "    .dataframe tbody tr th {\n",
       "        vertical-align: top;\n",
       "    }\n",
       "\n",
       "    .dataframe thead th {\n",
       "        text-align: right;\n",
       "    }\n",
       "</style>\n",
       "<table border=\"1\" class=\"dataframe\">\n",
       "  <thead>\n",
       "    <tr style=\"text-align: right;\">\n",
       "      <th></th>\n",
       "      <th>Season</th>\n",
       "      <th>ScoreAvg</th>\n",
       "      <th>3paAvg</th>\n",
       "      <th>3pmAvg</th>\n",
       "      <th>FTAAvg</th>\n",
       "      <th>BlkAvg</th>\n",
       "      <th>PFAvg</th>\n",
       "      <th>TOAvg</th>\n",
       "    </tr>\n",
       "  </thead>\n",
       "  <tbody>\n",
       "    <tr>\n",
       "      <th>0</th>\n",
       "      <td>2003</td>\n",
       "      <td>69.775997</td>\n",
       "      <td>18.049068</td>\n",
       "      <td>6.259857</td>\n",
       "      <td>20.652730</td>\n",
       "      <td>3.262240</td>\n",
       "      <td>19.146880</td>\n",
       "      <td>14.907387</td>\n",
       "    </tr>\n",
       "    <tr>\n",
       "      <th>1</th>\n",
       "      <td>2004</td>\n",
       "      <td>68.980639</td>\n",
       "      <td>18.197769</td>\n",
       "      <td>6.267338</td>\n",
       "      <td>20.672063</td>\n",
       "      <td>3.190221</td>\n",
       "      <td>19.060271</td>\n",
       "      <td>14.852439</td>\n",
       "    </tr>\n",
       "    <tr>\n",
       "      <th>2</th>\n",
       "      <td>2005</td>\n",
       "      <td>68.664492</td>\n",
       "      <td>18.300321</td>\n",
       "      <td>6.337112</td>\n",
       "      <td>20.277326</td>\n",
       "      <td>3.268128</td>\n",
       "      <td>18.644171</td>\n",
       "      <td>14.698930</td>\n",
       "    </tr>\n",
       "    <tr>\n",
       "      <th>3</th>\n",
       "      <td>2006</td>\n",
       "      <td>68.627076</td>\n",
       "      <td>18.351902</td>\n",
       "      <td>6.395207</td>\n",
       "      <td>20.023649</td>\n",
       "      <td>3.272651</td>\n",
       "      <td>18.466470</td>\n",
       "      <td>14.707063</td>\n",
       "    </tr>\n",
       "    <tr>\n",
       "      <th>4</th>\n",
       "      <td>2007</td>\n",
       "      <td>68.795558</td>\n",
       "      <td>18.796054</td>\n",
       "      <td>6.551160</td>\n",
       "      <td>20.172120</td>\n",
       "      <td>3.247967</td>\n",
       "      <td>18.714654</td>\n",
       "      <td>14.564446</td>\n",
       "    </tr>\n",
       "    <tr>\n",
       "      <th>5</th>\n",
       "      <td>2008</td>\n",
       "      <td>68.858900</td>\n",
       "      <td>19.004455</td>\n",
       "      <td>6.663858</td>\n",
       "      <td>20.071567</td>\n",
       "      <td>3.306992</td>\n",
       "      <td>18.626574</td>\n",
       "      <td>14.446930</td>\n",
       "    </tr>\n",
       "    <tr>\n",
       "      <th>6</th>\n",
       "      <td>2009</td>\n",
       "      <td>68.007049</td>\n",
       "      <td>18.265384</td>\n",
       "      <td>6.254525</td>\n",
       "      <td>20.112974</td>\n",
       "      <td>3.250619</td>\n",
       "      <td>18.436083</td>\n",
       "      <td>13.960373</td>\n",
       "    </tr>\n",
       "    <tr>\n",
       "      <th>7</th>\n",
       "      <td>2010</td>\n",
       "      <td>68.568402</td>\n",
       "      <td>18.069637</td>\n",
       "      <td>6.172810</td>\n",
       "      <td>20.934733</td>\n",
       "      <td>3.438818</td>\n",
       "      <td>18.678320</td>\n",
       "      <td>13.774463</td>\n",
       "    </tr>\n",
       "    <tr>\n",
       "      <th>8</th>\n",
       "      <td>2011</td>\n",
       "      <td>68.422417</td>\n",
       "      <td>18.113610</td>\n",
       "      <td>6.234941</td>\n",
       "      <td>20.846931</td>\n",
       "      <td>3.395825</td>\n",
       "      <td>18.831395</td>\n",
       "      <td>13.518014</td>\n",
       "    </tr>\n",
       "    <tr>\n",
       "      <th>9</th>\n",
       "      <td>2012</td>\n",
       "      <td>67.397963</td>\n",
       "      <td>18.019227</td>\n",
       "      <td>6.186179</td>\n",
       "      <td>19.935180</td>\n",
       "      <td>3.376356</td>\n",
       "      <td>18.157719</td>\n",
       "      <td>13.493147</td>\n",
       "    </tr>\n",
       "    <tr>\n",
       "      <th>10</th>\n",
       "      <td>2013</td>\n",
       "      <td>66.874436</td>\n",
       "      <td>18.059117</td>\n",
       "      <td>6.124248</td>\n",
       "      <td>19.686372</td>\n",
       "      <td>3.434680</td>\n",
       "      <td>17.753008</td>\n",
       "      <td>13.309023</td>\n",
       "    </tr>\n",
       "    <tr>\n",
       "      <th>11</th>\n",
       "      <td>2014</td>\n",
       "      <td>70.276669</td>\n",
       "      <td>18.148545</td>\n",
       "      <td>6.249907</td>\n",
       "      <td>22.396401</td>\n",
       "      <td>3.595953</td>\n",
       "      <td>19.249814</td>\n",
       "      <td>12.341384</td>\n",
       "    </tr>\n",
       "    <tr>\n",
       "      <th>12</th>\n",
       "      <td>2015</td>\n",
       "      <td>66.844322</td>\n",
       "      <td>18.477307</td>\n",
       "      <td>6.340680</td>\n",
       "      <td>20.049496</td>\n",
       "      <td>3.431080</td>\n",
       "      <td>18.313784</td>\n",
       "      <td>12.537635</td>\n",
       "    </tr>\n",
       "    <tr>\n",
       "      <th>13</th>\n",
       "      <td>2016</td>\n",
       "      <td>72.311511</td>\n",
       "      <td>20.397560</td>\n",
       "      <td>7.070870</td>\n",
       "      <td>21.180201</td>\n",
       "      <td>3.418700</td>\n",
       "      <td>19.411902</td>\n",
       "      <td>12.668001</td>\n",
       "    </tr>\n",
       "    <tr>\n",
       "      <th>14</th>\n",
       "      <td>2017</td>\n",
       "      <td>72.630491</td>\n",
       "      <td>20.987952</td>\n",
       "      <td>7.349768</td>\n",
       "      <td>20.456812</td>\n",
       "      <td>3.368304</td>\n",
       "      <td>18.923818</td>\n",
       "      <td>13.022892</td>\n",
       "    </tr>\n",
       "    <tr>\n",
       "      <th>15</th>\n",
       "      <td>2018</td>\n",
       "      <td>72.999722</td>\n",
       "      <td>21.716744</td>\n",
       "      <td>7.628585</td>\n",
       "      <td>19.465310</td>\n",
       "      <td>3.357909</td>\n",
       "      <td>18.190564</td>\n",
       "      <td>12.900833</td>\n",
       "    </tr>\n",
       "    <tr>\n",
       "      <th>16</th>\n",
       "      <td>2019</td>\n",
       "      <td>71.839008</td>\n",
       "      <td>22.289218</td>\n",
       "      <td>7.667216</td>\n",
       "      <td>19.057478</td>\n",
       "      <td>3.287113</td>\n",
       "      <td>17.886784</td>\n",
       "      <td>12.971993</td>\n",
       "    </tr>\n",
       "    <tr>\n",
       "      <th>17</th>\n",
       "      <td>2020</td>\n",
       "      <td>70.204017</td>\n",
       "      <td>21.551520</td>\n",
       "      <td>7.169857</td>\n",
       "      <td>18.703735</td>\n",
       "      <td>3.189846</td>\n",
       "      <td>17.705049</td>\n",
       "      <td>13.179242</td>\n",
       "    </tr>\n",
       "    <tr>\n",
       "      <th>18</th>\n",
       "      <td>2021</td>\n",
       "      <td>70.807652</td>\n",
       "      <td>21.587030</td>\n",
       "      <td>7.297406</td>\n",
       "      <td>18.201167</td>\n",
       "      <td>3.171855</td>\n",
       "      <td>5.109728</td>\n",
       "      <td>12.708042</td>\n",
       "    </tr>\n",
       "    <tr>\n",
       "      <th>19</th>\n",
       "      <td>2022</td>\n",
       "      <td>70.045370</td>\n",
       "      <td>21.703648</td>\n",
       "      <td>7.305239</td>\n",
       "      <td>17.450047</td>\n",
       "      <td>3.225351</td>\n",
       "      <td>16.793358</td>\n",
       "      <td>12.075585</td>\n",
       "    </tr>\n",
       "    <tr>\n",
       "      <th>20</th>\n",
       "      <td>2023</td>\n",
       "      <td>70.745359</td>\n",
       "      <td>21.371474</td>\n",
       "      <td>7.274188</td>\n",
       "      <td>18.105587</td>\n",
       "      <td>3.169225</td>\n",
       "      <td>17.052213</td>\n",
       "      <td>11.906998</td>\n",
       "    </tr>\n",
       "    <tr>\n",
       "      <th>21</th>\n",
       "      <td>2024</td>\n",
       "      <td>72.669735</td>\n",
       "      <td>21.792613</td>\n",
       "      <td>7.348195</td>\n",
       "      <td>19.242768</td>\n",
       "      <td>3.406526</td>\n",
       "      <td>17.128735</td>\n",
       "      <td>11.434616</td>\n",
       "    </tr>\n",
       "  </tbody>\n",
       "</table>\n",
       "</div>"
      ],
      "text/plain": [
       "    Season   ScoreAvg     3paAvg    3pmAvg     FTAAvg    BlkAvg      PFAvg  \\\n",
       "0     2003  69.775997  18.049068  6.259857  20.652730  3.262240  19.146880   \n",
       "1     2004  68.980639  18.197769  6.267338  20.672063  3.190221  19.060271   \n",
       "2     2005  68.664492  18.300321  6.337112  20.277326  3.268128  18.644171   \n",
       "3     2006  68.627076  18.351902  6.395207  20.023649  3.272651  18.466470   \n",
       "4     2007  68.795558  18.796054  6.551160  20.172120  3.247967  18.714654   \n",
       "5     2008  68.858900  19.004455  6.663858  20.071567  3.306992  18.626574   \n",
       "6     2009  68.007049  18.265384  6.254525  20.112974  3.250619  18.436083   \n",
       "7     2010  68.568402  18.069637  6.172810  20.934733  3.438818  18.678320   \n",
       "8     2011  68.422417  18.113610  6.234941  20.846931  3.395825  18.831395   \n",
       "9     2012  67.397963  18.019227  6.186179  19.935180  3.376356  18.157719   \n",
       "10    2013  66.874436  18.059117  6.124248  19.686372  3.434680  17.753008   \n",
       "11    2014  70.276669  18.148545  6.249907  22.396401  3.595953  19.249814   \n",
       "12    2015  66.844322  18.477307  6.340680  20.049496  3.431080  18.313784   \n",
       "13    2016  72.311511  20.397560  7.070870  21.180201  3.418700  19.411902   \n",
       "14    2017  72.630491  20.987952  7.349768  20.456812  3.368304  18.923818   \n",
       "15    2018  72.999722  21.716744  7.628585  19.465310  3.357909  18.190564   \n",
       "16    2019  71.839008  22.289218  7.667216  19.057478  3.287113  17.886784   \n",
       "17    2020  70.204017  21.551520  7.169857  18.703735  3.189846  17.705049   \n",
       "18    2021  70.807652  21.587030  7.297406  18.201167  3.171855   5.109728   \n",
       "19    2022  70.045370  21.703648  7.305239  17.450047  3.225351  16.793358   \n",
       "20    2023  70.745359  21.371474  7.274188  18.105587  3.169225  17.052213   \n",
       "21    2024  72.669735  21.792613  7.348195  19.242768  3.406526  17.128735   \n",
       "\n",
       "        TOAvg  \n",
       "0   14.907387  \n",
       "1   14.852439  \n",
       "2   14.698930  \n",
       "3   14.707063  \n",
       "4   14.564446  \n",
       "5   14.446930  \n",
       "6   13.960373  \n",
       "7   13.774463  \n",
       "8   13.518014  \n",
       "9   13.493147  \n",
       "10  13.309023  \n",
       "11  12.341384  \n",
       "12  12.537635  \n",
       "13  12.668001  \n",
       "14  13.022892  \n",
       "15  12.900833  \n",
       "16  12.971993  \n",
       "17  13.179242  \n",
       "18  12.708042  \n",
       "19  12.075585  \n",
       "20  11.906998  \n",
       "21  11.434616  "
      ]
     },
     "execution_count": 80,
     "metadata": {},
     "output_type": "execute_result"
    }
   ],
   "source": [
    "\n",
    "df = pd.read_csv('MRegularSeasonDetailedResults.csv')\n",
    "df['Season'] = df['Season'].astype(int)\n",
    "# Add a new column for the total score of each game\n",
    "df['ScoreAvg'] = (df['WScore'] + df['LScore'])/2\n",
    "df['3paAvg'] = (df['WFGA3'] + df['LFGA3'])/2\n",
    "df['3pmAvg'] = (df['WFGM3'] + df['LFGM3'])/2\n",
    "df['FTAAvg'] = (df['WFTA'] + df['LFTA'])/2\n",
    "df['BlkAvg'] = (df['WBlk'] + df['LBlk'])/2\n",
    "df['PFAvg'] = (df['WPF'] + df['LPF'])/2\n",
    "df['TOAvg'] = (df['WTO'] + df['LTO'])/2\n",
    "\n",
    "\n",
    "\n",
    "\n",
    "\n",
    "\n",
    "\n",
    "# Calculate the overall game average score\n",
    "\n",
    "\n",
    "# Now calculate the average WScore and LScore for each season\n",
    "seasonal_averages = df.groupby('Season')[['ScoreAvg','3paAvg','3pmAvg','FTAAvg','BlkAvg','PFAvg','TOAvg']].mean().reset_index()\n",
    "\n",
    "seasonal_averages"
   ]
  },
  {
   "cell_type": "code",
   "execution_count": 81,
   "id": "8e04b832",
   "metadata": {},
   "outputs": [
    {
     "data": {
      "text/html": [
       "<style type=\"text/css\">\n",
       "#T_0e5bd_row0_col1 {\n",
       "  width: 10em;\n",
       "  background: linear-gradient(90deg, #d65f5f 95.6%, transparent 95.6%);\n",
       "}\n",
       "#T_0e5bd_row0_col2, #T_0e5bd_row10_col2, #T_0e5bd_row19_col7 {\n",
       "  width: 10em;\n",
       "  background: linear-gradient(90deg, #d65f5f 81.0%, transparent 81.0%);\n",
       "}\n",
       "#T_0e5bd_row0_col4 {\n",
       "  width: 10em;\n",
       "  background: linear-gradient(90deg, #d65f5f 92.2%, transparent 92.2%);\n",
       "}\n",
       "#T_0e5bd_row0_col6, #T_0e5bd_row2_col7 {\n",
       "  width: 10em;\n",
       "  background: linear-gradient(90deg, #d65f5f 98.6%, transparent 98.6%);\n",
       "}\n",
       "#T_0e5bd_row0_col7, #T_0e5bd_row11_col4, #T_0e5bd_row13_col6, #T_0e5bd_row15_col1, #T_0e5bd_row16_col2 {\n",
       "  width: 10em;\n",
       "  background: linear-gradient(90deg, #d65f5f 100.0%, transparent 100.0%);\n",
       "}\n",
       "#T_0e5bd_row1_col1 {\n",
       "  width: 10em;\n",
       "  background: linear-gradient(90deg, #d65f5f 94.5%, transparent 94.5%);\n",
       "}\n",
       "#T_0e5bd_row1_col2 {\n",
       "  width: 10em;\n",
       "  background: linear-gradient(90deg, #d65f5f 81.6%, transparent 81.6%);\n",
       "}\n",
       "#T_0e5bd_row1_col4, #T_0e5bd_row9_col1 {\n",
       "  width: 10em;\n",
       "  background: linear-gradient(90deg, #d65f5f 92.3%, transparent 92.3%);\n",
       "}\n",
       "#T_0e5bd_row1_col6 {\n",
       "  width: 10em;\n",
       "  background: linear-gradient(90deg, #d65f5f 98.2%, transparent 98.2%);\n",
       "}\n",
       "#T_0e5bd_row1_col7 {\n",
       "  width: 10em;\n",
       "  background: linear-gradient(90deg, #d65f5f 99.6%, transparent 99.6%);\n",
       "}\n",
       "#T_0e5bd_row2_col1 {\n",
       "  width: 10em;\n",
       "  background: linear-gradient(90deg, #d65f5f 94.1%, transparent 94.1%);\n",
       "}\n",
       "#T_0e5bd_row2_col2 {\n",
       "  width: 10em;\n",
       "  background: linear-gradient(90deg, #d65f5f 82.1%, transparent 82.1%);\n",
       "}\n",
       "#T_0e5bd_row2_col4, #T_0e5bd_row9_col7 {\n",
       "  width: 10em;\n",
       "  background: linear-gradient(90deg, #d65f5f 90.5%, transparent 90.5%);\n",
       "}\n",
       "#T_0e5bd_row2_col6, #T_0e5bd_row5_col6, #T_0e5bd_row19_col1 {\n",
       "  width: 10em;\n",
       "  background: linear-gradient(90deg, #d65f5f 96.0%, transparent 96.0%);\n",
       "}\n",
       "#T_0e5bd_row3_col1 {\n",
       "  width: 10em;\n",
       "  background: linear-gradient(90deg, #d65f5f 94.0%, transparent 94.0%);\n",
       "}\n",
       "#T_0e5bd_row3_col2 {\n",
       "  width: 10em;\n",
       "  background: linear-gradient(90deg, #d65f5f 82.3%, transparent 82.3%);\n",
       "}\n",
       "#T_0e5bd_row3_col4 {\n",
       "  width: 10em;\n",
       "  background: linear-gradient(90deg, #d65f5f 89.4%, transparent 89.4%);\n",
       "}\n",
       "#T_0e5bd_row3_col6 {\n",
       "  width: 10em;\n",
       "  background: linear-gradient(90deg, #d65f5f 95.1%, transparent 95.1%);\n",
       "}\n",
       "#T_0e5bd_row3_col7 {\n",
       "  width: 10em;\n",
       "  background: linear-gradient(90deg, #d65f5f 98.7%, transparent 98.7%);\n",
       "}\n",
       "#T_0e5bd_row4_col1, #T_0e5bd_row14_col2 {\n",
       "  width: 10em;\n",
       "  background: linear-gradient(90deg, #d65f5f 94.2%, transparent 94.2%);\n",
       "}\n",
       "#T_0e5bd_row4_col2 {\n",
       "  width: 10em;\n",
       "  background: linear-gradient(90deg, #d65f5f 84.3%, transparent 84.3%);\n",
       "}\n",
       "#T_0e5bd_row4_col4 {\n",
       "  width: 10em;\n",
       "  background: linear-gradient(90deg, #d65f5f 90.1%, transparent 90.1%);\n",
       "}\n",
       "#T_0e5bd_row4_col6 {\n",
       "  width: 10em;\n",
       "  background: linear-gradient(90deg, #d65f5f 96.4%, transparent 96.4%);\n",
       "}\n",
       "#T_0e5bd_row4_col7 {\n",
       "  width: 10em;\n",
       "  background: linear-gradient(90deg, #d65f5f 97.7%, transparent 97.7%);\n",
       "}\n",
       "#T_0e5bd_row5_col1, #T_0e5bd_row12_col6 {\n",
       "  width: 10em;\n",
       "  background: linear-gradient(90deg, #d65f5f 94.3%, transparent 94.3%);\n",
       "}\n",
       "#T_0e5bd_row5_col2 {\n",
       "  width: 10em;\n",
       "  background: linear-gradient(90deg, #d65f5f 85.3%, transparent 85.3%);\n",
       "}\n",
       "#T_0e5bd_row5_col4 {\n",
       "  width: 10em;\n",
       "  background: linear-gradient(90deg, #d65f5f 89.6%, transparent 89.6%);\n",
       "}\n",
       "#T_0e5bd_row5_col7, #T_0e5bd_row20_col1 {\n",
       "  width: 10em;\n",
       "  background: linear-gradient(90deg, #d65f5f 96.9%, transparent 96.9%);\n",
       "}\n",
       "#T_0e5bd_row6_col1 {\n",
       "  width: 10em;\n",
       "  background: linear-gradient(90deg, #d65f5f 93.2%, transparent 93.2%);\n",
       "}\n",
       "#T_0e5bd_row6_col2 {\n",
       "  width: 10em;\n",
       "  background: linear-gradient(90deg, #d65f5f 81.9%, transparent 81.9%);\n",
       "}\n",
       "#T_0e5bd_row6_col4 {\n",
       "  width: 10em;\n",
       "  background: linear-gradient(90deg, #d65f5f 89.8%, transparent 89.8%);\n",
       "}\n",
       "#T_0e5bd_row6_col6 {\n",
       "  width: 10em;\n",
       "  background: linear-gradient(90deg, #d65f5f 95.0%, transparent 95.0%);\n",
       "}\n",
       "#T_0e5bd_row6_col7 {\n",
       "  width: 10em;\n",
       "  background: linear-gradient(90deg, #d65f5f 93.6%, transparent 93.6%);\n",
       "}\n",
       "#T_0e5bd_row7_col1 {\n",
       "  width: 10em;\n",
       "  background: linear-gradient(90deg, #d65f5f 93.9%, transparent 93.9%);\n",
       "}\n",
       "#T_0e5bd_row7_col2 {\n",
       "  width: 10em;\n",
       "  background: linear-gradient(90deg, #d65f5f 81.1%, transparent 81.1%);\n",
       "}\n",
       "#T_0e5bd_row7_col4, #T_0e5bd_row9_col6 {\n",
       "  width: 10em;\n",
       "  background: linear-gradient(90deg, #d65f5f 93.5%, transparent 93.5%);\n",
       "}\n",
       "#T_0e5bd_row7_col6, #T_0e5bd_row17_col1 {\n",
       "  width: 10em;\n",
       "  background: linear-gradient(90deg, #d65f5f 96.2%, transparent 96.2%);\n",
       "}\n",
       "#T_0e5bd_row7_col7 {\n",
       "  width: 10em;\n",
       "  background: linear-gradient(90deg, #d65f5f 92.4%, transparent 92.4%);\n",
       "}\n",
       "#T_0e5bd_row8_col1, #T_0e5bd_row15_col6 {\n",
       "  width: 10em;\n",
       "  background: linear-gradient(90deg, #d65f5f 93.7%, transparent 93.7%);\n",
       "}\n",
       "#T_0e5bd_row8_col2, #T_0e5bd_row18_col4 {\n",
       "  width: 10em;\n",
       "  background: linear-gradient(90deg, #d65f5f 81.3%, transparent 81.3%);\n",
       "}\n",
       "#T_0e5bd_row8_col4 {\n",
       "  width: 10em;\n",
       "  background: linear-gradient(90deg, #d65f5f 93.1%, transparent 93.1%);\n",
       "}\n",
       "#T_0e5bd_row8_col6, #T_0e5bd_row18_col1 {\n",
       "  width: 10em;\n",
       "  background: linear-gradient(90deg, #d65f5f 97.0%, transparent 97.0%);\n",
       "}\n",
       "#T_0e5bd_row8_col7 {\n",
       "  width: 10em;\n",
       "  background: linear-gradient(90deg, #d65f5f 90.7%, transparent 90.7%);\n",
       "}\n",
       "#T_0e5bd_row9_col2, #T_0e5bd_row20_col4 {\n",
       "  width: 10em;\n",
       "  background: linear-gradient(90deg, #d65f5f 80.8%, transparent 80.8%);\n",
       "}\n",
       "#T_0e5bd_row9_col4 {\n",
       "  width: 10em;\n",
       "  background: linear-gradient(90deg, #d65f5f 89.0%, transparent 89.0%);\n",
       "}\n",
       "#T_0e5bd_row10_col1, #T_0e5bd_row12_col1 {\n",
       "  width: 10em;\n",
       "  background: linear-gradient(90deg, #d65f5f 91.6%, transparent 91.6%);\n",
       "}\n",
       "#T_0e5bd_row10_col4 {\n",
       "  width: 10em;\n",
       "  background: linear-gradient(90deg, #d65f5f 87.9%, transparent 87.9%);\n",
       "}\n",
       "#T_0e5bd_row10_col6, #T_0e5bd_row13_col2 {\n",
       "  width: 10em;\n",
       "  background: linear-gradient(90deg, #d65f5f 91.5%, transparent 91.5%);\n",
       "}\n",
       "#T_0e5bd_row10_col7 {\n",
       "  width: 10em;\n",
       "  background: linear-gradient(90deg, #d65f5f 89.3%, transparent 89.3%);\n",
       "}\n",
       "#T_0e5bd_row11_col1 {\n",
       "  width: 10em;\n",
       "  background: linear-gradient(90deg, #d65f5f 96.3%, transparent 96.3%);\n",
       "}\n",
       "#T_0e5bd_row11_col2 {\n",
       "  width: 10em;\n",
       "  background: linear-gradient(90deg, #d65f5f 81.4%, transparent 81.4%);\n",
       "}\n",
       "#T_0e5bd_row11_col6 {\n",
       "  width: 10em;\n",
       "  background: linear-gradient(90deg, #d65f5f 99.2%, transparent 99.2%);\n",
       "}\n",
       "#T_0e5bd_row11_col7 {\n",
       "  width: 10em;\n",
       "  background: linear-gradient(90deg, #d65f5f 82.8%, transparent 82.8%);\n",
       "}\n",
       "#T_0e5bd_row12_col2 {\n",
       "  width: 10em;\n",
       "  background: linear-gradient(90deg, #d65f5f 82.9%, transparent 82.9%);\n",
       "}\n",
       "#T_0e5bd_row12_col4 {\n",
       "  width: 10em;\n",
       "  background: linear-gradient(90deg, #d65f5f 89.5%, transparent 89.5%);\n",
       "}\n",
       "#T_0e5bd_row12_col7 {\n",
       "  width: 10em;\n",
       "  background: linear-gradient(90deg, #d65f5f 84.1%, transparent 84.1%);\n",
       "}\n",
       "#T_0e5bd_row13_col1 {\n",
       "  width: 10em;\n",
       "  background: linear-gradient(90deg, #d65f5f 99.1%, transparent 99.1%);\n",
       "}\n",
       "#T_0e5bd_row13_col4 {\n",
       "  width: 10em;\n",
       "  background: linear-gradient(90deg, #d65f5f 94.6%, transparent 94.6%);\n",
       "}\n",
       "#T_0e5bd_row13_col7 {\n",
       "  width: 10em;\n",
       "  background: linear-gradient(90deg, #d65f5f 85.0%, transparent 85.0%);\n",
       "}\n",
       "#T_0e5bd_row14_col1, #T_0e5bd_row21_col1 {\n",
       "  width: 10em;\n",
       "  background: linear-gradient(90deg, #d65f5f 99.5%, transparent 99.5%);\n",
       "}\n",
       "#T_0e5bd_row14_col4 {\n",
       "  width: 10em;\n",
       "  background: linear-gradient(90deg, #d65f5f 91.3%, transparent 91.3%);\n",
       "}\n",
       "#T_0e5bd_row14_col6 {\n",
       "  width: 10em;\n",
       "  background: linear-gradient(90deg, #d65f5f 97.5%, transparent 97.5%);\n",
       "}\n",
       "#T_0e5bd_row14_col7 {\n",
       "  width: 10em;\n",
       "  background: linear-gradient(90deg, #d65f5f 87.4%, transparent 87.4%);\n",
       "}\n",
       "#T_0e5bd_row15_col2, #T_0e5bd_row19_col2 {\n",
       "  width: 10em;\n",
       "  background: linear-gradient(90deg, #d65f5f 97.4%, transparent 97.4%);\n",
       "}\n",
       "#T_0e5bd_row15_col4 {\n",
       "  width: 10em;\n",
       "  background: linear-gradient(90deg, #d65f5f 86.9%, transparent 86.9%);\n",
       "}\n",
       "#T_0e5bd_row15_col7, #T_0e5bd_row19_col6 {\n",
       "  width: 10em;\n",
       "  background: linear-gradient(90deg, #d65f5f 86.5%, transparent 86.5%);\n",
       "}\n",
       "#T_0e5bd_row16_col1 {\n",
       "  width: 10em;\n",
       "  background: linear-gradient(90deg, #d65f5f 98.4%, transparent 98.4%);\n",
       "}\n",
       "#T_0e5bd_row16_col4 {\n",
       "  width: 10em;\n",
       "  background: linear-gradient(90deg, #d65f5f 85.1%, transparent 85.1%);\n",
       "}\n",
       "#T_0e5bd_row16_col6 {\n",
       "  width: 10em;\n",
       "  background: linear-gradient(90deg, #d65f5f 92.1%, transparent 92.1%);\n",
       "}\n",
       "#T_0e5bd_row16_col7 {\n",
       "  width: 10em;\n",
       "  background: linear-gradient(90deg, #d65f5f 87.0%, transparent 87.0%);\n",
       "}\n",
       "#T_0e5bd_row17_col2 {\n",
       "  width: 10em;\n",
       "  background: linear-gradient(90deg, #d65f5f 96.7%, transparent 96.7%);\n",
       "}\n",
       "#T_0e5bd_row17_col4 {\n",
       "  width: 10em;\n",
       "  background: linear-gradient(90deg, #d65f5f 83.5%, transparent 83.5%);\n",
       "}\n",
       "#T_0e5bd_row17_col6 {\n",
       "  width: 10em;\n",
       "  background: linear-gradient(90deg, #d65f5f 91.2%, transparent 91.2%);\n",
       "}\n",
       "#T_0e5bd_row17_col7 {\n",
       "  width: 10em;\n",
       "  background: linear-gradient(90deg, #d65f5f 88.4%, transparent 88.4%);\n",
       "}\n",
       "#T_0e5bd_row18_col2 {\n",
       "  width: 10em;\n",
       "  background: linear-gradient(90deg, #d65f5f 96.8%, transparent 96.8%);\n",
       "}\n",
       "#T_0e5bd_row18_col6 {\n",
       "  width: 10em;\n",
       "  background: linear-gradient(90deg, #d65f5f 26.3%, transparent 26.3%);\n",
       "}\n",
       "#T_0e5bd_row18_col7 {\n",
       "  width: 10em;\n",
       "  background: linear-gradient(90deg, #d65f5f 85.2%, transparent 85.2%);\n",
       "}\n",
       "#T_0e5bd_row19_col4 {\n",
       "  width: 10em;\n",
       "  background: linear-gradient(90deg, #d65f5f 77.9%, transparent 77.9%);\n",
       "}\n",
       "#T_0e5bd_row20_col2 {\n",
       "  width: 10em;\n",
       "  background: linear-gradient(90deg, #d65f5f 95.9%, transparent 95.9%);\n",
       "}\n",
       "#T_0e5bd_row20_col6 {\n",
       "  width: 10em;\n",
       "  background: linear-gradient(90deg, #d65f5f 87.8%, transparent 87.8%);\n",
       "}\n",
       "#T_0e5bd_row20_col7 {\n",
       "  width: 10em;\n",
       "  background: linear-gradient(90deg, #d65f5f 79.9%, transparent 79.9%);\n",
       "}\n",
       "#T_0e5bd_row21_col2 {\n",
       "  width: 10em;\n",
       "  background: linear-gradient(90deg, #d65f5f 97.8%, transparent 97.8%);\n",
       "}\n",
       "#T_0e5bd_row21_col4 {\n",
       "  width: 10em;\n",
       "  background: linear-gradient(90deg, #d65f5f 85.9%, transparent 85.9%);\n",
       "}\n",
       "#T_0e5bd_row21_col6 {\n",
       "  width: 10em;\n",
       "  background: linear-gradient(90deg, #d65f5f 88.2%, transparent 88.2%);\n",
       "}\n",
       "#T_0e5bd_row21_col7 {\n",
       "  width: 10em;\n",
       "  background: linear-gradient(90deg, #d65f5f 76.7%, transparent 76.7%);\n",
       "}\n",
       "</style>\n",
       "<table id=\"T_0e5bd\">\n",
       "  <thead>\n",
       "    <tr>\n",
       "      <th class=\"blank level0\" >&nbsp;</th>\n",
       "      <th id=\"T_0e5bd_level0_col0\" class=\"col_heading level0 col0\" >Season</th>\n",
       "      <th id=\"T_0e5bd_level0_col1\" class=\"col_heading level0 col1\" >ScoreAvg</th>\n",
       "      <th id=\"T_0e5bd_level0_col2\" class=\"col_heading level0 col2\" >3paAvg</th>\n",
       "      <th id=\"T_0e5bd_level0_col3\" class=\"col_heading level0 col3\" >3pmAvg</th>\n",
       "      <th id=\"T_0e5bd_level0_col4\" class=\"col_heading level0 col4\" >FTAAvg</th>\n",
       "      <th id=\"T_0e5bd_level0_col5\" class=\"col_heading level0 col5\" >BlkAvg</th>\n",
       "      <th id=\"T_0e5bd_level0_col6\" class=\"col_heading level0 col6\" >PFAvg</th>\n",
       "      <th id=\"T_0e5bd_level0_col7\" class=\"col_heading level0 col7\" >TOAvg</th>\n",
       "    </tr>\n",
       "  </thead>\n",
       "  <tbody>\n",
       "    <tr>\n",
       "      <th id=\"T_0e5bd_level0_row0\" class=\"row_heading level0 row0\" >0</th>\n",
       "      <td id=\"T_0e5bd_row0_col0\" class=\"data row0 col0\" >2003</td>\n",
       "      <td id=\"T_0e5bd_row0_col1\" class=\"data row0 col1\" >69.775997</td>\n",
       "      <td id=\"T_0e5bd_row0_col2\" class=\"data row0 col2\" >18.049068</td>\n",
       "      <td id=\"T_0e5bd_row0_col3\" class=\"data row0 col3\" >6.259857</td>\n",
       "      <td id=\"T_0e5bd_row0_col4\" class=\"data row0 col4\" >20.652730</td>\n",
       "      <td id=\"T_0e5bd_row0_col5\" class=\"data row0 col5\" >3.262240</td>\n",
       "      <td id=\"T_0e5bd_row0_col6\" class=\"data row0 col6\" >19.146880</td>\n",
       "      <td id=\"T_0e5bd_row0_col7\" class=\"data row0 col7\" >14.907387</td>\n",
       "    </tr>\n",
       "    <tr>\n",
       "      <th id=\"T_0e5bd_level0_row1\" class=\"row_heading level0 row1\" >1</th>\n",
       "      <td id=\"T_0e5bd_row1_col0\" class=\"data row1 col0\" >2004</td>\n",
       "      <td id=\"T_0e5bd_row1_col1\" class=\"data row1 col1\" >68.980639</td>\n",
       "      <td id=\"T_0e5bd_row1_col2\" class=\"data row1 col2\" >18.197769</td>\n",
       "      <td id=\"T_0e5bd_row1_col3\" class=\"data row1 col3\" >6.267338</td>\n",
       "      <td id=\"T_0e5bd_row1_col4\" class=\"data row1 col4\" >20.672063</td>\n",
       "      <td id=\"T_0e5bd_row1_col5\" class=\"data row1 col5\" >3.190221</td>\n",
       "      <td id=\"T_0e5bd_row1_col6\" class=\"data row1 col6\" >19.060271</td>\n",
       "      <td id=\"T_0e5bd_row1_col7\" class=\"data row1 col7\" >14.852439</td>\n",
       "    </tr>\n",
       "    <tr>\n",
       "      <th id=\"T_0e5bd_level0_row2\" class=\"row_heading level0 row2\" >2</th>\n",
       "      <td id=\"T_0e5bd_row2_col0\" class=\"data row2 col0\" >2005</td>\n",
       "      <td id=\"T_0e5bd_row2_col1\" class=\"data row2 col1\" >68.664492</td>\n",
       "      <td id=\"T_0e5bd_row2_col2\" class=\"data row2 col2\" >18.300321</td>\n",
       "      <td id=\"T_0e5bd_row2_col3\" class=\"data row2 col3\" >6.337112</td>\n",
       "      <td id=\"T_0e5bd_row2_col4\" class=\"data row2 col4\" >20.277326</td>\n",
       "      <td id=\"T_0e5bd_row2_col5\" class=\"data row2 col5\" >3.268128</td>\n",
       "      <td id=\"T_0e5bd_row2_col6\" class=\"data row2 col6\" >18.644171</td>\n",
       "      <td id=\"T_0e5bd_row2_col7\" class=\"data row2 col7\" >14.698930</td>\n",
       "    </tr>\n",
       "    <tr>\n",
       "      <th id=\"T_0e5bd_level0_row3\" class=\"row_heading level0 row3\" >3</th>\n",
       "      <td id=\"T_0e5bd_row3_col0\" class=\"data row3 col0\" >2006</td>\n",
       "      <td id=\"T_0e5bd_row3_col1\" class=\"data row3 col1\" >68.627076</td>\n",
       "      <td id=\"T_0e5bd_row3_col2\" class=\"data row3 col2\" >18.351902</td>\n",
       "      <td id=\"T_0e5bd_row3_col3\" class=\"data row3 col3\" >6.395207</td>\n",
       "      <td id=\"T_0e5bd_row3_col4\" class=\"data row3 col4\" >20.023649</td>\n",
       "      <td id=\"T_0e5bd_row3_col5\" class=\"data row3 col5\" >3.272651</td>\n",
       "      <td id=\"T_0e5bd_row3_col6\" class=\"data row3 col6\" >18.466470</td>\n",
       "      <td id=\"T_0e5bd_row3_col7\" class=\"data row3 col7\" >14.707063</td>\n",
       "    </tr>\n",
       "    <tr>\n",
       "      <th id=\"T_0e5bd_level0_row4\" class=\"row_heading level0 row4\" >4</th>\n",
       "      <td id=\"T_0e5bd_row4_col0\" class=\"data row4 col0\" >2007</td>\n",
       "      <td id=\"T_0e5bd_row4_col1\" class=\"data row4 col1\" >68.795558</td>\n",
       "      <td id=\"T_0e5bd_row4_col2\" class=\"data row4 col2\" >18.796054</td>\n",
       "      <td id=\"T_0e5bd_row4_col3\" class=\"data row4 col3\" >6.551160</td>\n",
       "      <td id=\"T_0e5bd_row4_col4\" class=\"data row4 col4\" >20.172120</td>\n",
       "      <td id=\"T_0e5bd_row4_col5\" class=\"data row4 col5\" >3.247967</td>\n",
       "      <td id=\"T_0e5bd_row4_col6\" class=\"data row4 col6\" >18.714654</td>\n",
       "      <td id=\"T_0e5bd_row4_col7\" class=\"data row4 col7\" >14.564446</td>\n",
       "    </tr>\n",
       "    <tr>\n",
       "      <th id=\"T_0e5bd_level0_row5\" class=\"row_heading level0 row5\" >5</th>\n",
       "      <td id=\"T_0e5bd_row5_col0\" class=\"data row5 col0\" >2008</td>\n",
       "      <td id=\"T_0e5bd_row5_col1\" class=\"data row5 col1\" >68.858900</td>\n",
       "      <td id=\"T_0e5bd_row5_col2\" class=\"data row5 col2\" >19.004455</td>\n",
       "      <td id=\"T_0e5bd_row5_col3\" class=\"data row5 col3\" >6.663858</td>\n",
       "      <td id=\"T_0e5bd_row5_col4\" class=\"data row5 col4\" >20.071567</td>\n",
       "      <td id=\"T_0e5bd_row5_col5\" class=\"data row5 col5\" >3.306992</td>\n",
       "      <td id=\"T_0e5bd_row5_col6\" class=\"data row5 col6\" >18.626574</td>\n",
       "      <td id=\"T_0e5bd_row5_col7\" class=\"data row5 col7\" >14.446930</td>\n",
       "    </tr>\n",
       "    <tr>\n",
       "      <th id=\"T_0e5bd_level0_row6\" class=\"row_heading level0 row6\" >6</th>\n",
       "      <td id=\"T_0e5bd_row6_col0\" class=\"data row6 col0\" >2009</td>\n",
       "      <td id=\"T_0e5bd_row6_col1\" class=\"data row6 col1\" >68.007049</td>\n",
       "      <td id=\"T_0e5bd_row6_col2\" class=\"data row6 col2\" >18.265384</td>\n",
       "      <td id=\"T_0e5bd_row6_col3\" class=\"data row6 col3\" >6.254525</td>\n",
       "      <td id=\"T_0e5bd_row6_col4\" class=\"data row6 col4\" >20.112974</td>\n",
       "      <td id=\"T_0e5bd_row6_col5\" class=\"data row6 col5\" >3.250619</td>\n",
       "      <td id=\"T_0e5bd_row6_col6\" class=\"data row6 col6\" >18.436083</td>\n",
       "      <td id=\"T_0e5bd_row6_col7\" class=\"data row6 col7\" >13.960373</td>\n",
       "    </tr>\n",
       "    <tr>\n",
       "      <th id=\"T_0e5bd_level0_row7\" class=\"row_heading level0 row7\" >7</th>\n",
       "      <td id=\"T_0e5bd_row7_col0\" class=\"data row7 col0\" >2010</td>\n",
       "      <td id=\"T_0e5bd_row7_col1\" class=\"data row7 col1\" >68.568402</td>\n",
       "      <td id=\"T_0e5bd_row7_col2\" class=\"data row7 col2\" >18.069637</td>\n",
       "      <td id=\"T_0e5bd_row7_col3\" class=\"data row7 col3\" >6.172810</td>\n",
       "      <td id=\"T_0e5bd_row7_col4\" class=\"data row7 col4\" >20.934733</td>\n",
       "      <td id=\"T_0e5bd_row7_col5\" class=\"data row7 col5\" >3.438818</td>\n",
       "      <td id=\"T_0e5bd_row7_col6\" class=\"data row7 col6\" >18.678320</td>\n",
       "      <td id=\"T_0e5bd_row7_col7\" class=\"data row7 col7\" >13.774463</td>\n",
       "    </tr>\n",
       "    <tr>\n",
       "      <th id=\"T_0e5bd_level0_row8\" class=\"row_heading level0 row8\" >8</th>\n",
       "      <td id=\"T_0e5bd_row8_col0\" class=\"data row8 col0\" >2011</td>\n",
       "      <td id=\"T_0e5bd_row8_col1\" class=\"data row8 col1\" >68.422417</td>\n",
       "      <td id=\"T_0e5bd_row8_col2\" class=\"data row8 col2\" >18.113610</td>\n",
       "      <td id=\"T_0e5bd_row8_col3\" class=\"data row8 col3\" >6.234941</td>\n",
       "      <td id=\"T_0e5bd_row8_col4\" class=\"data row8 col4\" >20.846931</td>\n",
       "      <td id=\"T_0e5bd_row8_col5\" class=\"data row8 col5\" >3.395825</td>\n",
       "      <td id=\"T_0e5bd_row8_col6\" class=\"data row8 col6\" >18.831395</td>\n",
       "      <td id=\"T_0e5bd_row8_col7\" class=\"data row8 col7\" >13.518014</td>\n",
       "    </tr>\n",
       "    <tr>\n",
       "      <th id=\"T_0e5bd_level0_row9\" class=\"row_heading level0 row9\" >9</th>\n",
       "      <td id=\"T_0e5bd_row9_col0\" class=\"data row9 col0\" >2012</td>\n",
       "      <td id=\"T_0e5bd_row9_col1\" class=\"data row9 col1\" >67.397963</td>\n",
       "      <td id=\"T_0e5bd_row9_col2\" class=\"data row9 col2\" >18.019227</td>\n",
       "      <td id=\"T_0e5bd_row9_col3\" class=\"data row9 col3\" >6.186179</td>\n",
       "      <td id=\"T_0e5bd_row9_col4\" class=\"data row9 col4\" >19.935180</td>\n",
       "      <td id=\"T_0e5bd_row9_col5\" class=\"data row9 col5\" >3.376356</td>\n",
       "      <td id=\"T_0e5bd_row9_col6\" class=\"data row9 col6\" >18.157719</td>\n",
       "      <td id=\"T_0e5bd_row9_col7\" class=\"data row9 col7\" >13.493147</td>\n",
       "    </tr>\n",
       "    <tr>\n",
       "      <th id=\"T_0e5bd_level0_row10\" class=\"row_heading level0 row10\" >10</th>\n",
       "      <td id=\"T_0e5bd_row10_col0\" class=\"data row10 col0\" >2013</td>\n",
       "      <td id=\"T_0e5bd_row10_col1\" class=\"data row10 col1\" >66.874436</td>\n",
       "      <td id=\"T_0e5bd_row10_col2\" class=\"data row10 col2\" >18.059117</td>\n",
       "      <td id=\"T_0e5bd_row10_col3\" class=\"data row10 col3\" >6.124248</td>\n",
       "      <td id=\"T_0e5bd_row10_col4\" class=\"data row10 col4\" >19.686372</td>\n",
       "      <td id=\"T_0e5bd_row10_col5\" class=\"data row10 col5\" >3.434680</td>\n",
       "      <td id=\"T_0e5bd_row10_col6\" class=\"data row10 col6\" >17.753008</td>\n",
       "      <td id=\"T_0e5bd_row10_col7\" class=\"data row10 col7\" >13.309023</td>\n",
       "    </tr>\n",
       "    <tr>\n",
       "      <th id=\"T_0e5bd_level0_row11\" class=\"row_heading level0 row11\" >11</th>\n",
       "      <td id=\"T_0e5bd_row11_col0\" class=\"data row11 col0\" >2014</td>\n",
       "      <td id=\"T_0e5bd_row11_col1\" class=\"data row11 col1\" >70.276669</td>\n",
       "      <td id=\"T_0e5bd_row11_col2\" class=\"data row11 col2\" >18.148545</td>\n",
       "      <td id=\"T_0e5bd_row11_col3\" class=\"data row11 col3\" >6.249907</td>\n",
       "      <td id=\"T_0e5bd_row11_col4\" class=\"data row11 col4\" >22.396401</td>\n",
       "      <td id=\"T_0e5bd_row11_col5\" class=\"data row11 col5\" >3.595953</td>\n",
       "      <td id=\"T_0e5bd_row11_col6\" class=\"data row11 col6\" >19.249814</td>\n",
       "      <td id=\"T_0e5bd_row11_col7\" class=\"data row11 col7\" >12.341384</td>\n",
       "    </tr>\n",
       "    <tr>\n",
       "      <th id=\"T_0e5bd_level0_row12\" class=\"row_heading level0 row12\" >12</th>\n",
       "      <td id=\"T_0e5bd_row12_col0\" class=\"data row12 col0\" >2015</td>\n",
       "      <td id=\"T_0e5bd_row12_col1\" class=\"data row12 col1\" >66.844322</td>\n",
       "      <td id=\"T_0e5bd_row12_col2\" class=\"data row12 col2\" >18.477307</td>\n",
       "      <td id=\"T_0e5bd_row12_col3\" class=\"data row12 col3\" >6.340680</td>\n",
       "      <td id=\"T_0e5bd_row12_col4\" class=\"data row12 col4\" >20.049496</td>\n",
       "      <td id=\"T_0e5bd_row12_col5\" class=\"data row12 col5\" >3.431080</td>\n",
       "      <td id=\"T_0e5bd_row12_col6\" class=\"data row12 col6\" >18.313784</td>\n",
       "      <td id=\"T_0e5bd_row12_col7\" class=\"data row12 col7\" >12.537635</td>\n",
       "    </tr>\n",
       "    <tr>\n",
       "      <th id=\"T_0e5bd_level0_row13\" class=\"row_heading level0 row13\" >13</th>\n",
       "      <td id=\"T_0e5bd_row13_col0\" class=\"data row13 col0\" >2016</td>\n",
       "      <td id=\"T_0e5bd_row13_col1\" class=\"data row13 col1\" >72.311511</td>\n",
       "      <td id=\"T_0e5bd_row13_col2\" class=\"data row13 col2\" >20.397560</td>\n",
       "      <td id=\"T_0e5bd_row13_col3\" class=\"data row13 col3\" >7.070870</td>\n",
       "      <td id=\"T_0e5bd_row13_col4\" class=\"data row13 col4\" >21.180201</td>\n",
       "      <td id=\"T_0e5bd_row13_col5\" class=\"data row13 col5\" >3.418700</td>\n",
       "      <td id=\"T_0e5bd_row13_col6\" class=\"data row13 col6\" >19.411902</td>\n",
       "      <td id=\"T_0e5bd_row13_col7\" class=\"data row13 col7\" >12.668001</td>\n",
       "    </tr>\n",
       "    <tr>\n",
       "      <th id=\"T_0e5bd_level0_row14\" class=\"row_heading level0 row14\" >14</th>\n",
       "      <td id=\"T_0e5bd_row14_col0\" class=\"data row14 col0\" >2017</td>\n",
       "      <td id=\"T_0e5bd_row14_col1\" class=\"data row14 col1\" >72.630491</td>\n",
       "      <td id=\"T_0e5bd_row14_col2\" class=\"data row14 col2\" >20.987952</td>\n",
       "      <td id=\"T_0e5bd_row14_col3\" class=\"data row14 col3\" >7.349768</td>\n",
       "      <td id=\"T_0e5bd_row14_col4\" class=\"data row14 col4\" >20.456812</td>\n",
       "      <td id=\"T_0e5bd_row14_col5\" class=\"data row14 col5\" >3.368304</td>\n",
       "      <td id=\"T_0e5bd_row14_col6\" class=\"data row14 col6\" >18.923818</td>\n",
       "      <td id=\"T_0e5bd_row14_col7\" class=\"data row14 col7\" >13.022892</td>\n",
       "    </tr>\n",
       "    <tr>\n",
       "      <th id=\"T_0e5bd_level0_row15\" class=\"row_heading level0 row15\" >15</th>\n",
       "      <td id=\"T_0e5bd_row15_col0\" class=\"data row15 col0\" >2018</td>\n",
       "      <td id=\"T_0e5bd_row15_col1\" class=\"data row15 col1\" >72.999722</td>\n",
       "      <td id=\"T_0e5bd_row15_col2\" class=\"data row15 col2\" >21.716744</td>\n",
       "      <td id=\"T_0e5bd_row15_col3\" class=\"data row15 col3\" >7.628585</td>\n",
       "      <td id=\"T_0e5bd_row15_col4\" class=\"data row15 col4\" >19.465310</td>\n",
       "      <td id=\"T_0e5bd_row15_col5\" class=\"data row15 col5\" >3.357909</td>\n",
       "      <td id=\"T_0e5bd_row15_col6\" class=\"data row15 col6\" >18.190564</td>\n",
       "      <td id=\"T_0e5bd_row15_col7\" class=\"data row15 col7\" >12.900833</td>\n",
       "    </tr>\n",
       "    <tr>\n",
       "      <th id=\"T_0e5bd_level0_row16\" class=\"row_heading level0 row16\" >16</th>\n",
       "      <td id=\"T_0e5bd_row16_col0\" class=\"data row16 col0\" >2019</td>\n",
       "      <td id=\"T_0e5bd_row16_col1\" class=\"data row16 col1\" >71.839008</td>\n",
       "      <td id=\"T_0e5bd_row16_col2\" class=\"data row16 col2\" >22.289218</td>\n",
       "      <td id=\"T_0e5bd_row16_col3\" class=\"data row16 col3\" >7.667216</td>\n",
       "      <td id=\"T_0e5bd_row16_col4\" class=\"data row16 col4\" >19.057478</td>\n",
       "      <td id=\"T_0e5bd_row16_col5\" class=\"data row16 col5\" >3.287113</td>\n",
       "      <td id=\"T_0e5bd_row16_col6\" class=\"data row16 col6\" >17.886784</td>\n",
       "      <td id=\"T_0e5bd_row16_col7\" class=\"data row16 col7\" >12.971993</td>\n",
       "    </tr>\n",
       "    <tr>\n",
       "      <th id=\"T_0e5bd_level0_row17\" class=\"row_heading level0 row17\" >17</th>\n",
       "      <td id=\"T_0e5bd_row17_col0\" class=\"data row17 col0\" >2020</td>\n",
       "      <td id=\"T_0e5bd_row17_col1\" class=\"data row17 col1\" >70.204017</td>\n",
       "      <td id=\"T_0e5bd_row17_col2\" class=\"data row17 col2\" >21.551520</td>\n",
       "      <td id=\"T_0e5bd_row17_col3\" class=\"data row17 col3\" >7.169857</td>\n",
       "      <td id=\"T_0e5bd_row17_col4\" class=\"data row17 col4\" >18.703735</td>\n",
       "      <td id=\"T_0e5bd_row17_col5\" class=\"data row17 col5\" >3.189846</td>\n",
       "      <td id=\"T_0e5bd_row17_col6\" class=\"data row17 col6\" >17.705049</td>\n",
       "      <td id=\"T_0e5bd_row17_col7\" class=\"data row17 col7\" >13.179242</td>\n",
       "    </tr>\n",
       "    <tr>\n",
       "      <th id=\"T_0e5bd_level0_row18\" class=\"row_heading level0 row18\" >18</th>\n",
       "      <td id=\"T_0e5bd_row18_col0\" class=\"data row18 col0\" >2021</td>\n",
       "      <td id=\"T_0e5bd_row18_col1\" class=\"data row18 col1\" >70.807652</td>\n",
       "      <td id=\"T_0e5bd_row18_col2\" class=\"data row18 col2\" >21.587030</td>\n",
       "      <td id=\"T_0e5bd_row18_col3\" class=\"data row18 col3\" >7.297406</td>\n",
       "      <td id=\"T_0e5bd_row18_col4\" class=\"data row18 col4\" >18.201167</td>\n",
       "      <td id=\"T_0e5bd_row18_col5\" class=\"data row18 col5\" >3.171855</td>\n",
       "      <td id=\"T_0e5bd_row18_col6\" class=\"data row18 col6\" >5.109728</td>\n",
       "      <td id=\"T_0e5bd_row18_col7\" class=\"data row18 col7\" >12.708042</td>\n",
       "    </tr>\n",
       "    <tr>\n",
       "      <th id=\"T_0e5bd_level0_row19\" class=\"row_heading level0 row19\" >19</th>\n",
       "      <td id=\"T_0e5bd_row19_col0\" class=\"data row19 col0\" >2022</td>\n",
       "      <td id=\"T_0e5bd_row19_col1\" class=\"data row19 col1\" >70.045370</td>\n",
       "      <td id=\"T_0e5bd_row19_col2\" class=\"data row19 col2\" >21.703648</td>\n",
       "      <td id=\"T_0e5bd_row19_col3\" class=\"data row19 col3\" >7.305239</td>\n",
       "      <td id=\"T_0e5bd_row19_col4\" class=\"data row19 col4\" >17.450047</td>\n",
       "      <td id=\"T_0e5bd_row19_col5\" class=\"data row19 col5\" >3.225351</td>\n",
       "      <td id=\"T_0e5bd_row19_col6\" class=\"data row19 col6\" >16.793358</td>\n",
       "      <td id=\"T_0e5bd_row19_col7\" class=\"data row19 col7\" >12.075585</td>\n",
       "    </tr>\n",
       "    <tr>\n",
       "      <th id=\"T_0e5bd_level0_row20\" class=\"row_heading level0 row20\" >20</th>\n",
       "      <td id=\"T_0e5bd_row20_col0\" class=\"data row20 col0\" >2023</td>\n",
       "      <td id=\"T_0e5bd_row20_col1\" class=\"data row20 col1\" >70.745359</td>\n",
       "      <td id=\"T_0e5bd_row20_col2\" class=\"data row20 col2\" >21.371474</td>\n",
       "      <td id=\"T_0e5bd_row20_col3\" class=\"data row20 col3\" >7.274188</td>\n",
       "      <td id=\"T_0e5bd_row20_col4\" class=\"data row20 col4\" >18.105587</td>\n",
       "      <td id=\"T_0e5bd_row20_col5\" class=\"data row20 col5\" >3.169225</td>\n",
       "      <td id=\"T_0e5bd_row20_col6\" class=\"data row20 col6\" >17.052213</td>\n",
       "      <td id=\"T_0e5bd_row20_col7\" class=\"data row20 col7\" >11.906998</td>\n",
       "    </tr>\n",
       "    <tr>\n",
       "      <th id=\"T_0e5bd_level0_row21\" class=\"row_heading level0 row21\" >21</th>\n",
       "      <td id=\"T_0e5bd_row21_col0\" class=\"data row21 col0\" >2024</td>\n",
       "      <td id=\"T_0e5bd_row21_col1\" class=\"data row21 col1\" >72.669735</td>\n",
       "      <td id=\"T_0e5bd_row21_col2\" class=\"data row21 col2\" >21.792613</td>\n",
       "      <td id=\"T_0e5bd_row21_col3\" class=\"data row21 col3\" >7.348195</td>\n",
       "      <td id=\"T_0e5bd_row21_col4\" class=\"data row21 col4\" >19.242768</td>\n",
       "      <td id=\"T_0e5bd_row21_col5\" class=\"data row21 col5\" >3.406526</td>\n",
       "      <td id=\"T_0e5bd_row21_col6\" class=\"data row21 col6\" >17.128735</td>\n",
       "      <td id=\"T_0e5bd_row21_col7\" class=\"data row21 col7\" >11.434616</td>\n",
       "    </tr>\n",
       "  </tbody>\n",
       "</table>\n"
      ],
      "text/plain": [
       "<pandas.io.formats.style.Styler at 0x28ce65ae190>"
      ]
     },
     "execution_count": 81,
     "metadata": {},
     "output_type": "execute_result"
    }
   ],
   "source": [
    "seasonal_averages = seasonal_averages.style.bar(subset=['3paAvg','TOAvg','FTAAvg','ScoreAvg','PFAvg'], color='#d65f5f')\n",
    "seasonal_averages"
   ]
  },
  {
   "cell_type": "code",
   "execution_count": 82,
   "id": "85fd57cb",
   "metadata": {},
   "outputs": [
    {
     "ename": "SyntaxError",
     "evalue": "invalid decimal literal (90799395.py, line 1)",
     "output_type": "error",
     "traceback": [
      "\u001b[1;36m  Cell \u001b[1;32mIn[82], line 1\u001b[1;36m\u001b[0m\n\u001b[1;33m    Two 3pt line changes - initally it drops attempts and makes, but after several years attempts and makes regress back to initial amounts\u001b[0m\n\u001b[1;37m        ^\u001b[0m\n\u001b[1;31mSyntaxError\u001b[0m\u001b[1;31m:\u001b[0m invalid decimal literal\n"
     ]
    }
   ],
   "source": [
    "Two 3pt line changes - initally it drops attempts and makes, but after several years attempts and makes regress back to initial amounts\n",
    "For 2023 charge rule - More free throws, more blocks, also less turnovers (https://kenpom.substack.com/p/the-charge-is-dead-and-the-game-is#:~:text=But%20non%2Dsteal%20turnovers%20are,steal%20can%27t%20be%20awarded.\n",
    "\n",
    "Going to proceed with only using 2020-2025 except for 2021 (issue with foul data)\n",
    "\n",
    "2005-2006\t\n",
    "Kicked balls will no longer reset the shot clock. If the violation occurs with less than 15 seconds, the clock will be reset to 15 seconds.\n",
    "2006-2007\t\n",
    "A timeout will not be recognized by an airborne player falling out of bounds.\n",
    "2008-2009\tThree point arc extended to 20' 9\"\n",
    "2008-2009\tEliminated first space nearest basket in the lane in the free throw shooting alignment (i.e. now only six players could stand next to the lane during a free throw instead of eight).\n",
    "2008-2009\tReferees may use instant replay to determine if a flagrant foul has been committed and who started the incident.\n",
    "2015-2016\tShot clock changed to 30 seconds.\n",
    "2015-2016\tDunks are permitted during warm ups\n",
    "2019-2020\tThree point arc extended to 22' 1 3/4\"\n",
    "2021-2022\tPlayers are warned about flopping and accessed a technical for second warning.\n",
    "2022-2023\tPlayers are issued technical for flopping with no warning.\n",
    "\n",
    "--http://www.orangehoops.org/NCAA/NCAA%20Rule%20Changes.htm\n",
    "    \n",
    "    \n",
    "    \n",
    "    \n",
    "    \n",
    "    2-11.6.b and 2\n",
    "11.6.c \n",
    "(Shot clock reset) \n",
    "To establish that anytime the ball hits the rim (a pass, deflection or a shot) and the offense retains \n",
    "possession in its frontcourt, the shot clock will reset to 20 seconds. Anytime the ball hits the rim and \n",
    "the offense retains possession in its backcourt, the shot clock will reset to 30 seconds.   \n",
    " \n",
    "Rationale: This change makes it easier for officials on the floor because they will no longer need to \n",
    "determine if the action is a legal try for goal or a pass (e.g., alley-oop plays).  \n",
    "4-17.4.d \n",
    "(Legal guarding \n",
    "position) \n",
    "To establish legal guarding position on an airborne player with the ball, the defender must establish \n",
    "legal guarding position before the opponent places the last foot on the floor (i.e., plant foot) prior to \n",
    "becoming airborne.  \n",
    " \n",
    "Rationale: The goal of this rules change is to reduce the number of charges and collisions that occur\n",
    "    "
   ]
  },
  {
   "cell_type": "code",
   "execution_count": null,
   "id": "0118a6aa",
   "metadata": {},
   "outputs": [
    {
     "name": "stdout",
     "output_type": "stream",
     "text": [
      "Average WScore and LScore by Season:\n",
      "    Season     WFGM3     LFGM3      WFGA3      LFGA3       WFTA       LFTA  \\\n",
      "0     2003  6.695624  5.824090  17.377166  18.720971  23.250217  18.055243   \n",
      "1     2004  6.708160  5.826515  17.570335  18.825202  23.286371  18.057755   \n",
      "2     2005  6.769840  5.904385  17.678503  18.922139  22.787594  17.767059   \n",
      "3     2006  6.845281  5.945133  17.821526  18.882279  22.458272  17.589027   \n",
      "4     2007  7.043228  6.059092  18.138608  19.453500  22.698989  17.645251   \n",
      "5     2008  7.162309  6.165408  18.386791  19.622119  22.575828  17.567306   \n",
      "6     2009  6.749095  5.759954  17.743189  18.787579  22.485616  17.740331   \n",
      "7     2010  6.655330  5.690291  17.520616  18.618659  23.306289  18.563177   \n",
      "8     2011  6.733321  5.736561  17.675562  18.551658  23.221883  18.471979   \n",
      "9     2012  6.744146  5.628212  17.602513  18.435941  22.369503  17.500857   \n",
      "10    2013  6.644925  5.603571  17.671992  18.446241  21.878759  17.493985   \n",
      "11    2014  6.729019  5.770794  17.582059  18.715032  24.775643  20.017158   \n",
      "12    2015  6.855809  5.825551  18.008405  18.946208  22.288756  17.810235   \n",
      "13    2016  7.624697  6.517042  19.955858  20.839262  23.231142  19.129261   \n",
      "14    2017  8.011307  6.688230  20.687488  21.288415  22.509361  18.404263   \n",
      "15    2018  8.339685  6.917484  21.439593  21.993895  21.397965  17.532655   \n",
      "16    2019  8.366282  6.968149  22.053450  22.524986  20.901885  17.213070   \n",
      "17    2020  7.846096  6.493619  21.275150  21.827890  20.510698  16.896772   \n",
      "18    2021  7.933852  6.660960  21.255253  21.918807  19.655253  16.747082   \n",
      "19    2022  7.933209  6.677268  21.351918  22.055379  19.078952  15.821141   \n",
      "20    2023  7.992146  6.556230  21.283649  21.459300  19.697072  16.514102   \n",
      "21    2024  8.065503  6.630887  21.619890  21.965336  20.982787  17.502749   \n",
      "\n",
      "        WBlk      LBlk        WPF        LPF        WOR        LOR     NumOT  \\\n",
      "0   3.756282  2.768198  17.880633  20.413128  11.580589  11.913345  0.061308   \n",
      "1   3.639029  2.741413  17.798075  20.322468  11.608182  11.844235  0.071319   \n",
      "2   3.730053  2.806203  17.403850  19.884492  11.565775  11.733690  0.066524   \n",
      "3   3.708430  2.836872  17.253731  19.679210  11.591760  11.762035  0.073996   \n",
      "4   3.735277  2.760658  17.443783  19.985524  11.222487  11.534404  0.067618   \n",
      "5   3.777455  2.836529  17.450126  19.803021  11.133256  11.340306  0.072439   \n",
      "6   3.723757  2.777481  17.297390  19.574776  11.178129  11.440846  0.071633   \n",
      "7   3.989550  2.888087  17.484515  19.872126  11.247767  11.568687  0.063272   \n",
      "8   3.829966  2.961685  17.581395  20.081395  11.132863  11.168319  0.077964   \n",
      "9   3.864268  2.888445  16.918523  19.396916  10.839520  11.118409  0.070055   \n",
      "10  3.947932  2.921429  16.616165  18.889850  10.746053  11.039662  0.072744   \n",
      "11  4.113577  3.078329  18.050541  20.449086  10.808094  10.897240  0.082991   \n",
      "12  3.935562  2.926597  17.180239  19.447329  10.354688  10.720583  0.079380   \n",
      "13  3.919724  2.917676  18.365245  20.458558  10.684485  10.639598  0.078413   \n",
      "14  3.868582  2.868026  17.891381  19.956256  10.232437  10.497683  0.075626   \n",
      "15  3.812396  2.903423  17.218686  19.162442   9.959297  10.173173  0.077891   \n",
      "16  3.704924  2.869303  16.913234  18.860333   9.855391  10.023430  0.002563   \n",
      "17  3.576014  2.803679  16.757132  18.652965   9.819632   9.833709  0.067192   \n",
      "18  3.496498  2.847211   4.919066   5.300389   8.578470   8.111803  0.067445   \n",
      "19  3.610664  2.840037  15.957905  17.628812   8.444902   8.177549  0.070533   \n",
      "20  3.564977  2.773474  16.230632  17.873795   8.441628   8.198679  0.072296   \n",
      "21  3.815443  2.997609  16.268946  17.988525   8.765001   8.510877  0.070763   \n",
      "\n",
      "          WTO        LTO      WStl      LStl  \n",
      "0   14.211872  15.602903  7.622184  6.507582  \n",
      "1   14.049880  15.654999  7.742070  6.493984  \n",
      "2   13.907380  15.490481  7.699251  6.509733  \n",
      "3   13.893000  15.521127  7.616985  6.368089  \n",
      "4   13.909974  15.218917  7.179853  6.225858  \n",
      "5   13.720705  15.173155  7.300213  6.171025  \n",
      "6   13.223852  14.696895  7.161174  6.093161  \n",
      "7   13.117234  14.431693  7.100513  6.137374  \n",
      "8   12.904117  14.131910  6.787266  5.933283  \n",
      "9   12.857986  14.128308  6.932610  5.935656  \n",
      "10  12.653947  13.964098  7.134774  6.076316  \n",
      "11  11.749534  12.933234  6.534129  5.599217  \n",
      "12  11.877848  13.197422  6.630370  5.684535  \n",
      "13  12.116595  13.219408  6.418327  5.630657  \n",
      "14  12.433920  13.611863  6.565153  5.628360  \n",
      "15  12.314154  13.487512  6.454209  5.684921  \n",
      "16  12.299835  13.644152  6.655318  5.739887  \n",
      "17  12.594782  13.763701  6.705893  5.888514  \n",
      "18  12.105577  13.310506  6.847471  5.909468  \n",
      "19  11.501403  12.649766  6.817399  6.025819  \n",
      "20  11.288468  12.525527  6.793288  5.920921  \n",
      "21  10.780779  12.088453  7.009563  6.064308  \n"
     ]
    }
   ],
   "source": [
    "# Convert Season to integer if it's not already, for consistency\n",
    "df['Season'] = df['Season'].astype(int)\n",
    "\n",
    "# Group by the 'Season' and calculate the mean for 'WScore' and 'LScore'\n",
    "seasonal_averages = df.groupby('Season')[['WFGM3', 'LFGM3','WFGA3', 'LFGA3','WFTA', 'LFTA','WBlk', 'LBlk','WPF', 'LPF','WOR','LOR','NumOT','WTO','LTO','WStl','LStl']].mean()\n",
    "\n",
    "# Reset index to make 'Season' a column again for easier access\n",
    "seasonal_averages.reset_index(inplace=True)\n",
    "\n",
    "# Print out the results\n",
    "print(\"Average WScore and LScore by Season:\")\n",
    "print(seasonal_averages)"
   ]
  },
  {
   "cell_type": "markdown",
   "id": "0876b954",
   "metadata": {},
   "source": []
  },
  {
   "cell_type": "markdown",
   "id": "4865de53",
   "metadata": {},
   "source": [
    "Trying to recreate kenpom metrics for this"
   ]
  },
  {
   "cell_type": "code",
   "execution_count": 8,
   "id": "ec56ef99",
   "metadata": {},
   "outputs": [
    {
     "ename": "AttributeError",
     "evalue": "'DataFrameGroupBy' object has no attribute 'AdjT'",
     "output_type": "error",
     "traceback": [
      "\u001b[1;31m---------------------------------------------------------------------------\u001b[0m",
      "\u001b[1;31mAttributeError\u001b[0m                            Traceback (most recent call last)",
      "Cell \u001b[1;32mIn[8], line 19\u001b[0m\n\u001b[0;32m     16\u001b[0m all_games_df \u001b[38;5;241m=\u001b[39m pd\u001b[38;5;241m.\u001b[39mconcat([winning_df, losing_df])\n\u001b[0;32m     18\u001b[0m \u001b[38;5;66;03m# Group by TeamID and Season to calculate the mean Adjusted Tempo (AdjT) for each team\u001b[39;00m\n\u001b[1;32m---> 19\u001b[0m team_adjt \u001b[38;5;241m=\u001b[39m all_games_df\u001b[38;5;241m.\u001b[39mgroupby([\u001b[38;5;124m'\u001b[39m\u001b[38;5;124mSeason\u001b[39m\u001b[38;5;124m'\u001b[39m, \u001b[38;5;124m'\u001b[39m\u001b[38;5;124mTeamID\u001b[39m\u001b[38;5;124m'\u001b[39m])\u001b[38;5;241m.\u001b[39mAdjT\u001b[38;5;241m.\u001b[39mmean()\u001b[38;5;241m.\u001b[39mreset_index()\n\u001b[0;32m     21\u001b[0m \u001b[38;5;66;03m# The result is 'team_adjt' DataFrame containing the average Adjusted Tempo for each team by season\u001b[39;00m\n\u001b[0;32m     22\u001b[0m \u001b[38;5;28mprint\u001b[39m(team_adjt)\n",
      "File \u001b[1;32m~\\anaconda3\\Lib\\site-packages\\pandas\\core\\groupby\\groupby.py:952\u001b[0m, in \u001b[0;36mGroupBy.__getattr__\u001b[1;34m(self, attr)\u001b[0m\n\u001b[0;32m    949\u001b[0m \u001b[38;5;28;01mif\u001b[39;00m attr \u001b[38;5;129;01min\u001b[39;00m \u001b[38;5;28mself\u001b[39m\u001b[38;5;241m.\u001b[39mobj:\n\u001b[0;32m    950\u001b[0m     \u001b[38;5;28;01mreturn\u001b[39;00m \u001b[38;5;28mself\u001b[39m[attr]\n\u001b[1;32m--> 952\u001b[0m \u001b[38;5;28;01mraise\u001b[39;00m \u001b[38;5;167;01mAttributeError\u001b[39;00m(\n\u001b[0;32m    953\u001b[0m     \u001b[38;5;124mf\u001b[39m\u001b[38;5;124m\"\u001b[39m\u001b[38;5;124m'\u001b[39m\u001b[38;5;132;01m{\u001b[39;00m\u001b[38;5;28mtype\u001b[39m(\u001b[38;5;28mself\u001b[39m)\u001b[38;5;241m.\u001b[39m\u001b[38;5;18m__name__\u001b[39m\u001b[38;5;132;01m}\u001b[39;00m\u001b[38;5;124m'\u001b[39m\u001b[38;5;124m object has no attribute \u001b[39m\u001b[38;5;124m'\u001b[39m\u001b[38;5;132;01m{\u001b[39;00mattr\u001b[38;5;132;01m}\u001b[39;00m\u001b[38;5;124m'\u001b[39m\u001b[38;5;124m\"\u001b[39m\n\u001b[0;32m    954\u001b[0m )\n",
      "\u001b[1;31mAttributeError\u001b[0m: 'DataFrameGroupBy' object has no attribute 'AdjT'"
     ]
    }
   ],
   "source": [
    "import pandas as pd\n",
    "\n",
    "# Assuming 'df' is your DataFrame after reading from the CSV\n",
    "df = pd.read_csv('MRegularSeasonDetailedResults.csv')\n",
    "\n",
    "# Calculate Adjusted Tempo (AdjT) for both winning and losing teams in each game\n",
    "df['WPoss'] = df['WFGA'] - df['WOR'] + df['WTO'] + 0.475 * df['WFTA']\n",
    "df['LPoss'] = df['LFGA'] - df['LOR'] + df['LTO'] + 0.475 * df['LFTA']\n",
    "\n",
    "# Now we need to aggregate these values for each team across all games\n",
    "# First, let's prepare a DataFrame for winning and losing scenarios\n",
    "winning_df = df[['Season', 'WTeamID', 'WPoss']].rename(columns={'WTeamID': 'TeamID', 'WPoss': 'Poss'})\n",
    "losing_df = df[['Season', 'LTeamID', 'LPoss']].rename(columns={'LTeamID': 'TeamID', 'LPoss': 'Poss'})\n",
    "\n",
    "# Concatenate winning and losing DataFrames to have a unified view\n",
    "all_games_df = pd.concat([winning_df, losing_df])\n",
    "\n",
    "# Group by TeamID and Season to calculate the mean Adjusted Tempo (AdjT) for each team\n",
    "team_adjt = all_games_df.groupby(['Season', 'TeamID']).Poss.mean().reset_index()\n",
    "\n",
    "# The result is 'team_adjt' DataFrame containing the average Adjusted Tempo for each team by season\n",
    "print(team_adjt)\n"
   ]
  },
  {
   "cell_type": "code",
   "execution_count": 85,
   "id": "70e9aa83",
   "metadata": {},
   "outputs": [
    {
     "name": "stdout",
     "output_type": "stream",
     "text": [
      "      Season  TeamID       AdjT          TeamName  FirstD1Season  LastD1Season\n",
      "0       2003    1102  55.161607         Air Force           1985          2024\n",
      "1       2003    1103  70.983333             Akron           1985          2024\n",
      "2       2003    1104  66.833929           Alabama           1985          2024\n",
      "3       2003    1105  77.146154       Alabama A&M           2000          2024\n",
      "4       2003    1106  67.856250        Alabama St           1985          2024\n",
      "...      ...     ...        ...               ...            ...           ...\n",
      "7612    2024    1474  75.556000         Queens NC           2023          2024\n",
      "7613    2024    1475  70.913636  Southern Indiana           2023          2024\n",
      "7614    2024    1476  70.870000         Stonehill           2023          2024\n",
      "7615    2024    1477  71.473864   TX A&M Commerce           2023          2024\n",
      "7616    2024    1478  69.461905          Le Moyne           2024          2024\n",
      "\n",
      "[7617 rows x 6 columns]\n"
     ]
    }
   ],
   "source": [
    "team_adjt_names = pd.merge(team_adjt, teamnamedf, on=['TeamID'], how='left').fillna(0)\n",
    "print(team_adjt_names)"
   ]
  },
  {
   "cell_type": "code",
   "execution_count": null,
   "id": "9b673b11",
   "metadata": {},
   "outputs": [],
   "source": []
  }
 ],
 "metadata": {
  "kernelspec": {
   "display_name": "Python 3 (ipykernel)",
   "language": "python",
   "name": "python3"
  },
  "language_info": {
   "codemirror_mode": {
    "name": "ipython",
    "version": 3
   },
   "file_extension": ".py",
   "mimetype": "text/x-python",
   "name": "python",
   "nbconvert_exporter": "python",
   "pygments_lexer": "ipython3",
   "version": "3.11.5"
  }
 },
 "nbformat": 4,
 "nbformat_minor": 5
}
