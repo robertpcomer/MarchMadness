{
 "cells": [
  {
   "cell_type": "markdown",
   "id": "7d3efef5",
   "metadata": {},
   "source": [
    "Starting this with a lookback of the teams that have won the whole thing "
   ]
  },
  {
   "cell_type": "code",
   "execution_count": 137,
   "id": "131e546b",
   "metadata": {},
   "outputs": [
    {
     "data": {
      "text/html": [
       "<div>\n",
       "<style scoped>\n",
       "    .dataframe tbody tr th:only-of-type {\n",
       "        vertical-align: middle;\n",
       "    }\n",
       "\n",
       "    .dataframe tbody tr th {\n",
       "        vertical-align: top;\n",
       "    }\n",
       "\n",
       "    .dataframe thead th {\n",
       "        text-align: right;\n",
       "    }\n",
       "</style>\n",
       "<table border=\"1\" class=\"dataframe\">\n",
       "  <thead>\n",
       "    <tr style=\"text-align: right;\">\n",
       "      <th></th>\n",
       "      <th>Season</th>\n",
       "      <th>DayNum</th>\n",
       "      <th>WTeamID</th>\n",
       "    </tr>\n",
       "  </thead>\n",
       "  <tbody>\n",
       "    <tr>\n",
       "      <th>127</th>\n",
       "      <td>2004</td>\n",
       "      <td>154</td>\n",
       "      <td>1163</td>\n",
       "    </tr>\n",
       "    <tr>\n",
       "      <th>191</th>\n",
       "      <td>2005</td>\n",
       "      <td>154</td>\n",
       "      <td>1314</td>\n",
       "    </tr>\n",
       "    <tr>\n",
       "      <th>255</th>\n",
       "      <td>2006</td>\n",
       "      <td>154</td>\n",
       "      <td>1196</td>\n",
       "    </tr>\n",
       "    <tr>\n",
       "      <th>319</th>\n",
       "      <td>2007</td>\n",
       "      <td>154</td>\n",
       "      <td>1196</td>\n",
       "    </tr>\n",
       "    <tr>\n",
       "      <th>383</th>\n",
       "      <td>2008</td>\n",
       "      <td>154</td>\n",
       "      <td>1242</td>\n",
       "    </tr>\n",
       "    <tr>\n",
       "      <th>447</th>\n",
       "      <td>2009</td>\n",
       "      <td>154</td>\n",
       "      <td>1314</td>\n",
       "    </tr>\n",
       "    <tr>\n",
       "      <th>511</th>\n",
       "      <td>2010</td>\n",
       "      <td>154</td>\n",
       "      <td>1181</td>\n",
       "    </tr>\n",
       "    <tr>\n",
       "      <th>578</th>\n",
       "      <td>2011</td>\n",
       "      <td>154</td>\n",
       "      <td>1163</td>\n",
       "    </tr>\n",
       "    <tr>\n",
       "      <th>645</th>\n",
       "      <td>2012</td>\n",
       "      <td>154</td>\n",
       "      <td>1246</td>\n",
       "    </tr>\n",
       "    <tr>\n",
       "      <th>712</th>\n",
       "      <td>2013</td>\n",
       "      <td>154</td>\n",
       "      <td>1257</td>\n",
       "    </tr>\n",
       "    <tr>\n",
       "      <th>779</th>\n",
       "      <td>2014</td>\n",
       "      <td>154</td>\n",
       "      <td>1163</td>\n",
       "    </tr>\n",
       "    <tr>\n",
       "      <th>846</th>\n",
       "      <td>2015</td>\n",
       "      <td>154</td>\n",
       "      <td>1181</td>\n",
       "    </tr>\n",
       "    <tr>\n",
       "      <th>913</th>\n",
       "      <td>2016</td>\n",
       "      <td>154</td>\n",
       "      <td>1437</td>\n",
       "    </tr>\n",
       "    <tr>\n",
       "      <th>980</th>\n",
       "      <td>2017</td>\n",
       "      <td>154</td>\n",
       "      <td>1314</td>\n",
       "    </tr>\n",
       "    <tr>\n",
       "      <th>1047</th>\n",
       "      <td>2018</td>\n",
       "      <td>154</td>\n",
       "      <td>1437</td>\n",
       "    </tr>\n",
       "    <tr>\n",
       "      <th>1114</th>\n",
       "      <td>2019</td>\n",
       "      <td>154</td>\n",
       "      <td>1438</td>\n",
       "    </tr>\n",
       "    <tr>\n",
       "      <th>1180</th>\n",
       "      <td>2021</td>\n",
       "      <td>154</td>\n",
       "      <td>1124</td>\n",
       "    </tr>\n",
       "    <tr>\n",
       "      <th>1247</th>\n",
       "      <td>2022</td>\n",
       "      <td>154</td>\n",
       "      <td>1242</td>\n",
       "    </tr>\n",
       "    <tr>\n",
       "      <th>1314</th>\n",
       "      <td>2023</td>\n",
       "      <td>154</td>\n",
       "      <td>1163</td>\n",
       "    </tr>\n",
       "  </tbody>\n",
       "</table>\n",
       "</div>"
      ],
      "text/plain": [
       "      Season  DayNum  WTeamID\n",
       "127     2004     154     1163\n",
       "191     2005     154     1314\n",
       "255     2006     154     1196\n",
       "319     2007     154     1196\n",
       "383     2008     154     1242\n",
       "447     2009     154     1314\n",
       "511     2010     154     1181\n",
       "578     2011     154     1163\n",
       "645     2012     154     1246\n",
       "712     2013     154     1257\n",
       "779     2014     154     1163\n",
       "846     2015     154     1181\n",
       "913     2016     154     1437\n",
       "980     2017     154     1314\n",
       "1047    2018     154     1437\n",
       "1114    2019     154     1438\n",
       "1180    2021     154     1124\n",
       "1247    2022     154     1242\n",
       "1314    2023     154     1163"
      ]
     },
     "execution_count": 137,
     "metadata": {},
     "output_type": "execute_result"
    }
   ],
   "source": [
    "import pandas as pd\n",
    "import numpy as np\n",
    "\n",
    "# Sample data creation for demonstration.\n",
    "# Assuming the real CSV file is named 'basketball_games.csv' and contains the mentioned columns.\n",
    "data = pd.read_csv('MNCAATourneyDetailedResults.csv')\n",
    "# Creating a DataFrame from the sample data\n",
    "df = pd.DataFrame(data)\n",
    "\n",
    "# Filtering for seasons greater than 2010\n",
    "filtered_df = df[df['Season'] > 2003]\n",
    "\n",
    "# Finding the WTeamID with the maximum DayNum for each distinct Season\n",
    "result_df = filtered_df.loc[filtered_df.groupby('Season')['DayNum'].idxmax(), ['Season', 'DayNum', 'WTeamID']]\n",
    "\n",
    "result_df\n"
   ]
  },
  {
   "cell_type": "code",
   "execution_count": 138,
   "id": "2c181882",
   "metadata": {},
   "outputs": [
    {
     "data": {
      "text/html": [
       "<div>\n",
       "<style scoped>\n",
       "    .dataframe tbody tr th:only-of-type {\n",
       "        vertical-align: middle;\n",
       "    }\n",
       "\n",
       "    .dataframe tbody tr th {\n",
       "        vertical-align: top;\n",
       "    }\n",
       "\n",
       "    .dataframe thead th {\n",
       "        text-align: right;\n",
       "    }\n",
       "</style>\n",
       "<table border=\"1\" class=\"dataframe\">\n",
       "  <thead>\n",
       "    <tr style=\"text-align: right;\">\n",
       "      <th></th>\n",
       "      <th>Season</th>\n",
       "      <th>DayNum</th>\n",
       "      <th>WTeamID</th>\n",
       "      <th>ConfAbbrev</th>\n",
       "      <th>Champion</th>\n",
       "      <th>RunnerUp</th>\n",
       "      <th>Semifinalists</th>\n",
       "      <th>Quarterfinalists</th>\n",
       "    </tr>\n",
       "  </thead>\n",
       "  <tbody>\n",
       "    <tr>\n",
       "      <th>0</th>\n",
       "      <td>2004</td>\n",
       "      <td>154</td>\n",
       "      <td>1163</td>\n",
       "      <td>a_sun</td>\n",
       "      <td>1416</td>\n",
       "      <td>1407</td>\n",
       "      <td>[1209, 1125]</td>\n",
       "      <td>[1273, 1391, 1194, 1239]</td>\n",
       "    </tr>\n",
       "    <tr>\n",
       "      <th>1</th>\n",
       "      <td>2004</td>\n",
       "      <td>154</td>\n",
       "      <td>1163</td>\n",
       "      <td>a_ten</td>\n",
       "      <td>1462</td>\n",
       "      <td>1173</td>\n",
       "      <td>[1350, 1203]</td>\n",
       "      <td>[1182, 1348, 1396, 1386]</td>\n",
       "    </tr>\n",
       "    <tr>\n",
       "      <th>2</th>\n",
       "      <td>2004</td>\n",
       "      <td>154</td>\n",
       "      <td>1163</td>\n",
       "      <td>acc</td>\n",
       "      <td>1268</td>\n",
       "      <td>1181</td>\n",
       "      <td>[1210, 1301]</td>\n",
       "      <td>[1438, 1314, 1448, 1199]</td>\n",
       "    </tr>\n",
       "    <tr>\n",
       "      <th>3</th>\n",
       "      <td>2004</td>\n",
       "      <td>154</td>\n",
       "      <td>1163</td>\n",
       "      <td>aec</td>\n",
       "      <td>1436</td>\n",
       "      <td>1263</td>\n",
       "      <td>[]</td>\n",
       "      <td>[]</td>\n",
       "    </tr>\n",
       "    <tr>\n",
       "      <th>4</th>\n",
       "      <td>2004</td>\n",
       "      <td>154</td>\n",
       "      <td>1163</td>\n",
       "      <td>big_east</td>\n",
       "      <td>1163</td>\n",
       "      <td>1338</td>\n",
       "      <td>[1437, 1130]</td>\n",
       "      <td>[1393, 1323, 1439, 1344]</td>\n",
       "    </tr>\n",
       "    <tr>\n",
       "      <th>...</th>\n",
       "      <td>...</td>\n",
       "      <td>...</td>\n",
       "      <td>...</td>\n",
       "      <td>...</td>\n",
       "      <td>...</td>\n",
       "      <td>...</td>\n",
       "      <td>...</td>\n",
       "      <td>...</td>\n",
       "    </tr>\n",
       "    <tr>\n",
       "      <th>583</th>\n",
       "      <td>2023</td>\n",
       "      <td>154</td>\n",
       "      <td>1163</td>\n",
       "      <td>summit</td>\n",
       "      <td>1331</td>\n",
       "      <td>1295</td>\n",
       "      <td>[1355, 1472]</td>\n",
       "      <td>[1377, 1442]</td>\n",
       "    </tr>\n",
       "    <tr>\n",
       "      <th>584</th>\n",
       "      <td>2023</td>\n",
       "      <td>154</td>\n",
       "      <td>1163</td>\n",
       "      <td>sun_belt</td>\n",
       "      <td>1418</td>\n",
       "      <td>1375</td>\n",
       "      <td>[1241, 1402]</td>\n",
       "      <td>[1407, 1379, 1267, 1204]</td>\n",
       "    </tr>\n",
       "    <tr>\n",
       "      <th>585</th>\n",
       "      <td>2023</td>\n",
       "      <td>154</td>\n",
       "      <td>1163</td>\n",
       "      <td>swac</td>\n",
       "      <td>1411</td>\n",
       "      <td>1212</td>\n",
       "      <td>[1238, 1105]</td>\n",
       "      <td>[1380, 1341]</td>\n",
       "    </tr>\n",
       "    <tr>\n",
       "      <th>586</th>\n",
       "      <td>2023</td>\n",
       "      <td>154</td>\n",
       "      <td>1163</td>\n",
       "      <td>wac</td>\n",
       "      <td>1213</td>\n",
       "      <td>1381</td>\n",
       "      <td>[1358, 1430]</td>\n",
       "      <td>[1370, 1465, 1469, 1470]</td>\n",
       "    </tr>\n",
       "    <tr>\n",
       "      <th>587</th>\n",
       "      <td>2023</td>\n",
       "      <td>154</td>\n",
       "      <td>1163</td>\n",
       "      <td>wcc</td>\n",
       "      <td>1211</td>\n",
       "      <td>1388</td>\n",
       "      <td>[1362, 1140]</td>\n",
       "      <td>[]</td>\n",
       "    </tr>\n",
       "  </tbody>\n",
       "</table>\n",
       "<p>588 rows × 8 columns</p>\n",
       "</div>"
      ],
      "text/plain": [
       "     Season  DayNum  WTeamID ConfAbbrev  Champion  RunnerUp Semifinalists  \\\n",
       "0      2004     154     1163      a_sun      1416      1407  [1209, 1125]   \n",
       "1      2004     154     1163      a_ten      1462      1173  [1350, 1203]   \n",
       "2      2004     154     1163        acc      1268      1181  [1210, 1301]   \n",
       "3      2004     154     1163        aec      1436      1263            []   \n",
       "4      2004     154     1163   big_east      1163      1338  [1437, 1130]   \n",
       "..      ...     ...      ...        ...       ...       ...           ...   \n",
       "583    2023     154     1163     summit      1331      1295  [1355, 1472]   \n",
       "584    2023     154     1163   sun_belt      1418      1375  [1241, 1402]   \n",
       "585    2023     154     1163       swac      1411      1212  [1238, 1105]   \n",
       "586    2023     154     1163        wac      1213      1381  [1358, 1430]   \n",
       "587    2023     154     1163        wcc      1211      1388  [1362, 1140]   \n",
       "\n",
       "             Quarterfinalists  \n",
       "0    [1273, 1391, 1194, 1239]  \n",
       "1    [1182, 1348, 1396, 1386]  \n",
       "2    [1438, 1314, 1448, 1199]  \n",
       "3                          []  \n",
       "4    [1393, 1323, 1439, 1344]  \n",
       "..                        ...  \n",
       "583              [1377, 1442]  \n",
       "584  [1407, 1379, 1267, 1204]  \n",
       "585              [1380, 1341]  \n",
       "586  [1370, 1465, 1469, 1470]  \n",
       "587                        []  \n",
       "\n",
       "[588 rows x 8 columns]"
      ]
     },
     "execution_count": 138,
     "metadata": {},
     "output_type": "execute_result"
    }
   ],
   "source": [
    "conf_df = pd.read_csv('MconferenceTourneyGames.csv')\n",
    "# conf_df =  conf_df[conf_df['ConfAbbrev'] == \"big_east\"]\n",
    "conf_df_filtered = conf_df[conf_df['Season'] > 2003]\n",
    "\n",
    "\n",
    "unique_confs = conf_df_filtered[['Season', 'ConfAbbrev']].drop_duplicates()\n",
    "\n",
    "# For each unique season and conference pair, find the champion, runner-up, semifinalists, and quarterfinalists.\n",
    "def tournament_details(row, df):\n",
    "    season = row['Season']\n",
    "    conf = row['ConfAbbrev']\n",
    "    conf_games = df[(df['Season'] == season) & (df['ConfAbbrev'] == conf)]\n",
    "    max_day = conf_games['DayNum'].max()\n",
    "    champ_game = conf_games[conf_games['DayNum'] == max_day]\n",
    "    champion = champ_game['WTeamID'].values[0]\n",
    "    runner_up = champ_game['LTeamID'].values[0]\n",
    "    semifinal_day = max_day - 1\n",
    "    quarterfinal_day = max_day - 2\n",
    "    semifinalists = conf_games[conf_games['DayNum'] == semifinal_day]['LTeamID'].tolist()\n",
    "    quarterfinalists = conf_games[conf_games['DayNum'] == quarterfinal_day]['LTeamID'].tolist()\n",
    "    return pd.Series([champion, runner_up, semifinalists, quarterfinalists])\n",
    "\n",
    "# Apply the function to each unique conference-season pair\n",
    "unique_confs[['Champion', 'RunnerUp', 'Semifinalists', 'Quarterfinalists']] = unique_confs.apply(lambda row: tournament_details(row, conf_df_filtered), axis=1)\n",
    "\n",
    "# Merge this tournament detail with the main result DataFrame on Season\n",
    "final_df_enhanced = pd.merge(result_df, unique_confs, on=['Season'], how='left')\n",
    "\n",
    "final_df_enhanced\n"
   ]
  },
  {
   "cell_type": "code",
   "execution_count": 139,
   "id": "0219b61a",
   "metadata": {},
   "outputs": [
    {
     "data": {
      "text/html": [
       "<div>\n",
       "<style scoped>\n",
       "    .dataframe tbody tr th:only-of-type {\n",
       "        vertical-align: middle;\n",
       "    }\n",
       "\n",
       "    .dataframe tbody tr th {\n",
       "        vertical-align: top;\n",
       "    }\n",
       "\n",
       "    .dataframe thead th {\n",
       "        text-align: right;\n",
       "    }\n",
       "</style>\n",
       "<table border=\"1\" class=\"dataframe\">\n",
       "  <thead>\n",
       "    <tr style=\"text-align: right;\">\n",
       "      <th></th>\n",
       "      <th>Season</th>\n",
       "      <th>DayNum</th>\n",
       "      <th>WTeamID</th>\n",
       "      <th>ConfAbbrev</th>\n",
       "      <th>TournamentResult</th>\n",
       "    </tr>\n",
       "  </thead>\n",
       "  <tbody>\n",
       "    <tr>\n",
       "      <th>127</th>\n",
       "      <td>2004</td>\n",
       "      <td>154</td>\n",
       "      <td>1163</td>\n",
       "      <td>big_east</td>\n",
       "      <td>Champion</td>\n",
       "    </tr>\n",
       "    <tr>\n",
       "      <th>191</th>\n",
       "      <td>2005</td>\n",
       "      <td>154</td>\n",
       "      <td>1314</td>\n",
       "      <td>acc</td>\n",
       "      <td>Semifinalist</td>\n",
       "    </tr>\n",
       "    <tr>\n",
       "      <th>255</th>\n",
       "      <td>2006</td>\n",
       "      <td>154</td>\n",
       "      <td>1196</td>\n",
       "      <td>sec</td>\n",
       "      <td>Champion</td>\n",
       "    </tr>\n",
       "    <tr>\n",
       "      <th>319</th>\n",
       "      <td>2007</td>\n",
       "      <td>154</td>\n",
       "      <td>1196</td>\n",
       "      <td>sec</td>\n",
       "      <td>Champion</td>\n",
       "    </tr>\n",
       "    <tr>\n",
       "      <th>383</th>\n",
       "      <td>2008</td>\n",
       "      <td>154</td>\n",
       "      <td>1242</td>\n",
       "      <td>big_twelve</td>\n",
       "      <td>Champion</td>\n",
       "    </tr>\n",
       "    <tr>\n",
       "      <th>447</th>\n",
       "      <td>2009</td>\n",
       "      <td>154</td>\n",
       "      <td>1314</td>\n",
       "      <td>acc</td>\n",
       "      <td>Semifinalist</td>\n",
       "    </tr>\n",
       "    <tr>\n",
       "      <th>511</th>\n",
       "      <td>2010</td>\n",
       "      <td>154</td>\n",
       "      <td>1181</td>\n",
       "      <td>acc</td>\n",
       "      <td>Champion</td>\n",
       "    </tr>\n",
       "    <tr>\n",
       "      <th>578</th>\n",
       "      <td>2011</td>\n",
       "      <td>154</td>\n",
       "      <td>1163</td>\n",
       "      <td>big_east</td>\n",
       "      <td>Champion</td>\n",
       "    </tr>\n",
       "    <tr>\n",
       "      <th>645</th>\n",
       "      <td>2012</td>\n",
       "      <td>154</td>\n",
       "      <td>1246</td>\n",
       "      <td>sec</td>\n",
       "      <td>RunnerUp</td>\n",
       "    </tr>\n",
       "    <tr>\n",
       "      <th>712</th>\n",
       "      <td>2013</td>\n",
       "      <td>154</td>\n",
       "      <td>1257</td>\n",
       "      <td>big_east</td>\n",
       "      <td>Champion</td>\n",
       "    </tr>\n",
       "    <tr>\n",
       "      <th>779</th>\n",
       "      <td>2014</td>\n",
       "      <td>154</td>\n",
       "      <td>1163</td>\n",
       "      <td>aac</td>\n",
       "      <td>RunnerUp</td>\n",
       "    </tr>\n",
       "    <tr>\n",
       "      <th>846</th>\n",
       "      <td>2015</td>\n",
       "      <td>154</td>\n",
       "      <td>1181</td>\n",
       "      <td>acc</td>\n",
       "      <td>Semifinalist</td>\n",
       "    </tr>\n",
       "    <tr>\n",
       "      <th>913</th>\n",
       "      <td>2016</td>\n",
       "      <td>154</td>\n",
       "      <td>1437</td>\n",
       "      <td>big_east</td>\n",
       "      <td>RunnerUp</td>\n",
       "    </tr>\n",
       "    <tr>\n",
       "      <th>980</th>\n",
       "      <td>2017</td>\n",
       "      <td>154</td>\n",
       "      <td>1314</td>\n",
       "      <td>acc</td>\n",
       "      <td>Semifinalist</td>\n",
       "    </tr>\n",
       "    <tr>\n",
       "      <th>1047</th>\n",
       "      <td>2018</td>\n",
       "      <td>154</td>\n",
       "      <td>1437</td>\n",
       "      <td>big_east</td>\n",
       "      <td>Champion</td>\n",
       "    </tr>\n",
       "    <tr>\n",
       "      <th>1114</th>\n",
       "      <td>2019</td>\n",
       "      <td>154</td>\n",
       "      <td>1438</td>\n",
       "      <td>acc</td>\n",
       "      <td>Semifinalist</td>\n",
       "    </tr>\n",
       "    <tr>\n",
       "      <th>1180</th>\n",
       "      <td>2021</td>\n",
       "      <td>154</td>\n",
       "      <td>1124</td>\n",
       "      <td>big_twelve</td>\n",
       "      <td>Semifinalist</td>\n",
       "    </tr>\n",
       "    <tr>\n",
       "      <th>1247</th>\n",
       "      <td>2022</td>\n",
       "      <td>154</td>\n",
       "      <td>1242</td>\n",
       "      <td>big_twelve</td>\n",
       "      <td>Champion</td>\n",
       "    </tr>\n",
       "    <tr>\n",
       "      <th>1314</th>\n",
       "      <td>2023</td>\n",
       "      <td>154</td>\n",
       "      <td>1163</td>\n",
       "      <td>big_east</td>\n",
       "      <td>Semifinalist</td>\n",
       "    </tr>\n",
       "  </tbody>\n",
       "</table>\n",
       "</div>"
      ],
      "text/plain": [
       "      Season  DayNum  WTeamID  ConfAbbrev TournamentResult\n",
       "127     2004     154     1163    big_east         Champion\n",
       "191     2005     154     1314         acc     Semifinalist\n",
       "255     2006     154     1196         sec         Champion\n",
       "319     2007     154     1196         sec         Champion\n",
       "383     2008     154     1242  big_twelve         Champion\n",
       "447     2009     154     1314         acc     Semifinalist\n",
       "511     2010     154     1181         acc         Champion\n",
       "578     2011     154     1163    big_east         Champion\n",
       "645     2012     154     1246         sec         RunnerUp\n",
       "712     2013     154     1257    big_east         Champion\n",
       "779     2014     154     1163         aac         RunnerUp\n",
       "846     2015     154     1181         acc     Semifinalist\n",
       "913     2016     154     1437    big_east         RunnerUp\n",
       "980     2017     154     1314         acc     Semifinalist\n",
       "1047    2018     154     1437    big_east         Champion\n",
       "1114    2019     154     1438         acc     Semifinalist\n",
       "1180    2021     154     1124  big_twelve     Semifinalist\n",
       "1247    2022     154     1242  big_twelve         Champion\n",
       "1314    2023     154     1163    big_east     Semifinalist"
      ]
     },
     "execution_count": 139,
     "metadata": {},
     "output_type": "execute_result"
    }
   ],
   "source": [
    "tournament_results_df = unique_confs[['Season', 'ConfAbbrev', 'Champion', 'RunnerUp', 'Semifinalists', 'Quarterfinalists']].copy()\n",
    "\n",
    "def determine_tournament_position_v2(row):\n",
    "    season = row['Season']\n",
    "    team_id = row['WTeamID']\n",
    "    tournament_info = tournament_results_df[tournament_results_df['Season'] == season]\n",
    "\n",
    "    # Initialize variables\n",
    "    conf = None\n",
    "    position = None\n",
    "\n",
    "    # Check for champion, runner-up, semifinalist, quarterfinalist by iterating through the rows\n",
    "    for _, t_row in tournament_info.iterrows():\n",
    "        # Direct match for Champion and RunnerUp\n",
    "        if team_id == t_row['Champion']:\n",
    "            conf = t_row['ConfAbbrev']\n",
    "            position = 'Champion'\n",
    "            break\n",
    "        elif team_id == t_row['RunnerUp']:\n",
    "            conf = t_row['ConfAbbrev']\n",
    "            position = 'RunnerUp'\n",
    "            break\n",
    "        # Check within lists for Semifinalists and Quarterfinalists\n",
    "        elif any(team_id == semi_id for semi_id in t_row['Semifinalists']):\n",
    "            conf = t_row['ConfAbbrev']\n",
    "            position = 'Semifinalist'\n",
    "            break\n",
    "        elif any(team_id == quarter_id for quarter_id in t_row['Quarterfinalists']):\n",
    "            conf = t_row['ConfAbbrev']\n",
    "            position = 'Quarterfinalist'\n",
    "            break\n",
    "\n",
    "    return pd.Series([conf, position])\n",
    "\n",
    "# Re-apply the corrected function to the results dataframe\n",
    "result_df[['ConfAbbrev', 'TournamentResult']] = result_df.apply(determine_tournament_position_v2, axis=1)\n",
    "\n",
    "result_df"
   ]
  },
  {
   "cell_type": "code",
   "execution_count": 140,
   "id": "2e4c8caf",
   "metadata": {},
   "outputs": [
    {
     "data": {
      "text/html": [
       "<div>\n",
       "<style scoped>\n",
       "    .dataframe tbody tr th:only-of-type {\n",
       "        vertical-align: middle;\n",
       "    }\n",
       "\n",
       "    .dataframe tbody tr th {\n",
       "        vertical-align: top;\n",
       "    }\n",
       "\n",
       "    .dataframe thead th {\n",
       "        text-align: right;\n",
       "    }\n",
       "</style>\n",
       "<table border=\"1\" class=\"dataframe\">\n",
       "  <thead>\n",
       "    <tr style=\"text-align: right;\">\n",
       "      <th></th>\n",
       "      <th>Season</th>\n",
       "      <th>ConfAbbrev</th>\n",
       "      <th>ConfTournamentPlace</th>\n",
       "      <th>TeamID</th>\n",
       "    </tr>\n",
       "  </thead>\n",
       "  <tbody>\n",
       "    <tr>\n",
       "      <th>0</th>\n",
       "      <td>2004</td>\n",
       "      <td>a_sun</td>\n",
       "      <td>Champion</td>\n",
       "      <td>1416</td>\n",
       "    </tr>\n",
       "    <tr>\n",
       "      <th>1</th>\n",
       "      <td>2004</td>\n",
       "      <td>a_sun</td>\n",
       "      <td>RunnerUp</td>\n",
       "      <td>1407</td>\n",
       "    </tr>\n",
       "    <tr>\n",
       "      <th>2</th>\n",
       "      <td>2004</td>\n",
       "      <td>a_sun</td>\n",
       "      <td>Semifinalist</td>\n",
       "      <td>1209</td>\n",
       "    </tr>\n",
       "    <tr>\n",
       "      <th>3</th>\n",
       "      <td>2004</td>\n",
       "      <td>a_sun</td>\n",
       "      <td>Semifinalist</td>\n",
       "      <td>1125</td>\n",
       "    </tr>\n",
       "    <tr>\n",
       "      <th>4</th>\n",
       "      <td>2004</td>\n",
       "      <td>a_sun</td>\n",
       "      <td>Quarterfinalist</td>\n",
       "      <td>1273</td>\n",
       "    </tr>\n",
       "    <tr>\n",
       "      <th>...</th>\n",
       "      <td>...</td>\n",
       "      <td>...</td>\n",
       "      <td>...</td>\n",
       "      <td>...</td>\n",
       "    </tr>\n",
       "    <tr>\n",
       "      <th>195</th>\n",
       "      <td>2005</td>\n",
       "      <td>a_sun</td>\n",
       "      <td>Quarterfinalist</td>\n",
       "      <td>1209</td>\n",
       "    </tr>\n",
       "    <tr>\n",
       "      <th>196</th>\n",
       "      <td>2005</td>\n",
       "      <td>a_sun</td>\n",
       "      <td>Quarterfinalist</td>\n",
       "      <td>1407</td>\n",
       "    </tr>\n",
       "    <tr>\n",
       "      <th>197</th>\n",
       "      <td>2005</td>\n",
       "      <td>a_sun</td>\n",
       "      <td>Quarterfinalist</td>\n",
       "      <td>1252</td>\n",
       "    </tr>\n",
       "    <tr>\n",
       "      <th>198</th>\n",
       "      <td>2005</td>\n",
       "      <td>a_sun</td>\n",
       "      <td>Quarterfinalist</td>\n",
       "      <td>1273</td>\n",
       "    </tr>\n",
       "    <tr>\n",
       "      <th>199</th>\n",
       "      <td>2005</td>\n",
       "      <td>a_ten</td>\n",
       "      <td>Champion</td>\n",
       "      <td>1203</td>\n",
       "    </tr>\n",
       "  </tbody>\n",
       "</table>\n",
       "<p>200 rows × 4 columns</p>\n",
       "</div>"
      ],
      "text/plain": [
       "     Season ConfAbbrev ConfTournamentPlace  TeamID\n",
       "0      2004      a_sun            Champion    1416\n",
       "1      2004      a_sun            RunnerUp    1407\n",
       "2      2004      a_sun        Semifinalist    1209\n",
       "3      2004      a_sun        Semifinalist    1125\n",
       "4      2004      a_sun     Quarterfinalist    1273\n",
       "..      ...        ...                 ...     ...\n",
       "195    2005      a_sun     Quarterfinalist    1209\n",
       "196    2005      a_sun     Quarterfinalist    1407\n",
       "197    2005      a_sun     Quarterfinalist    1252\n",
       "198    2005      a_sun     Quarterfinalist    1273\n",
       "199    2005      a_ten            Champion    1203\n",
       "\n",
       "[200 rows x 4 columns]"
      ]
     },
     "execution_count": 140,
     "metadata": {},
     "output_type": "execute_result"
    }
   ],
   "source": [
    "df = final_df_enhanced\n",
    "\n",
    "# Remove the 'WTeamID' and 'DayNum' columns\n",
    "df.drop(columns=['WTeamID', 'DayNum'], inplace=True)\n",
    "\n",
    "# Initialize a list to hold the new row-wise data\n",
    "rows = []\n",
    "\n",
    "# Iterate over each row in the dataframe to transform and accumulate the data\n",
    "for _, row in df.iterrows():\n",
    "    season, conf = row['Season'], row['ConfAbbrev']\n",
    "    # Champion\n",
    "    rows.append([season, conf, 'Champion', row['Champion']])\n",
    "    # RunnerUp\n",
    "    rows.append([season, conf, 'RunnerUp', row['RunnerUp']])\n",
    "    # Semifinalists\n",
    "    for team in row['Semifinalists']:\n",
    "        rows.append([season, conf, 'Semifinalist', team])\n",
    "    # Quarterfinalists\n",
    "    for team in row['Quarterfinalists']:\n",
    "        rows.append([season, conf, 'Quarterfinalist', team])\n",
    "\n",
    "# Create a new DataFrame from the rows list\n",
    "df_transformed = pd.DataFrame(rows, columns=['Season', 'ConfAbbrev', 'ConfTournamentPlace', 'TeamID'])\n",
    "\n",
    "df_transformed.head(200)"
   ]
  },
  {
   "cell_type": "code",
   "execution_count": 141,
   "id": "3c2e9dc7",
   "metadata": {},
   "outputs": [
    {
     "data": {
      "text/html": [
       "<div>\n",
       "<style scoped>\n",
       "    .dataframe tbody tr th:only-of-type {\n",
       "        vertical-align: middle;\n",
       "    }\n",
       "\n",
       "    .dataframe tbody tr th {\n",
       "        vertical-align: top;\n",
       "    }\n",
       "\n",
       "    .dataframe thead th {\n",
       "        text-align: right;\n",
       "    }\n",
       "</style>\n",
       "<table border=\"1\" class=\"dataframe\">\n",
       "  <thead>\n",
       "    <tr style=\"text-align: right;\">\n",
       "      <th></th>\n",
       "      <th>Season</th>\n",
       "      <th>TeamID</th>\n",
       "      <th>GamesPlayed</th>\n",
       "    </tr>\n",
       "  </thead>\n",
       "  <tbody>\n",
       "    <tr>\n",
       "      <th>0</th>\n",
       "      <td>2003</td>\n",
       "      <td>1112</td>\n",
       "      <td>4.0</td>\n",
       "    </tr>\n",
       "    <tr>\n",
       "      <th>1</th>\n",
       "      <td>2003</td>\n",
       "      <td>1113</td>\n",
       "      <td>2.0</td>\n",
       "    </tr>\n",
       "    <tr>\n",
       "      <th>2</th>\n",
       "      <td>2003</td>\n",
       "      <td>1120</td>\n",
       "      <td>3.0</td>\n",
       "    </tr>\n",
       "    <tr>\n",
       "      <th>3</th>\n",
       "      <td>2003</td>\n",
       "      <td>1139</td>\n",
       "      <td>3.0</td>\n",
       "    </tr>\n",
       "    <tr>\n",
       "      <th>4</th>\n",
       "      <td>2003</td>\n",
       "      <td>1141</td>\n",
       "      <td>2.0</td>\n",
       "    </tr>\n",
       "    <tr>\n",
       "      <th>...</th>\n",
       "      <td>...</td>\n",
       "      <td>...</td>\n",
       "      <td>...</td>\n",
       "    </tr>\n",
       "    <tr>\n",
       "      <th>1330</th>\n",
       "      <td>2023</td>\n",
       "      <td>1429</td>\n",
       "      <td>1.0</td>\n",
       "    </tr>\n",
       "    <tr>\n",
       "      <th>1331</th>\n",
       "      <td>2023</td>\n",
       "      <td>1433</td>\n",
       "      <td>1.0</td>\n",
       "    </tr>\n",
       "    <tr>\n",
       "      <th>1332</th>\n",
       "      <td>2023</td>\n",
       "      <td>1436</td>\n",
       "      <td>1.0</td>\n",
       "    </tr>\n",
       "    <tr>\n",
       "      <th>1333</th>\n",
       "      <td>2023</td>\n",
       "      <td>1438</td>\n",
       "      <td>1.0</td>\n",
       "    </tr>\n",
       "    <tr>\n",
       "      <th>1334</th>\n",
       "      <td>2023</td>\n",
       "      <td>1452</td>\n",
       "      <td>1.0</td>\n",
       "    </tr>\n",
       "  </tbody>\n",
       "</table>\n",
       "<p>1335 rows × 3 columns</p>\n",
       "</div>"
      ],
      "text/plain": [
       "      Season  TeamID  GamesPlayed\n",
       "0       2003    1112          4.0\n",
       "1       2003    1113          2.0\n",
       "2       2003    1120          3.0\n",
       "3       2003    1139          3.0\n",
       "4       2003    1141          2.0\n",
       "...      ...     ...          ...\n",
       "1330    2023    1429          1.0\n",
       "1331    2023    1433          1.0\n",
       "1332    2023    1436          1.0\n",
       "1333    2023    1438          1.0\n",
       "1334    2023    1452          1.0\n",
       "\n",
       "[1335 rows x 3 columns]"
      ]
     },
     "execution_count": 141,
     "metadata": {},
     "output_type": "execute_result"
    }
   ],
   "source": [
    "games_df = data\n",
    "\n",
    "team_season_games = games_df.groupby(['Season', 'WTeamID']).size().reset_index(name='Wins').rename(columns={'WTeamID': 'TeamID'})\n",
    "team_season_losses = games_df.groupby(['Season', 'LTeamID']).size().reset_index(name='Losses').rename(columns={'LTeamID': 'TeamID'})\n",
    "\n",
    "# Merge the win and loss counts on Season and TeamID, filling missing values with 0\n",
    "team_games_combined = pd.merge(team_season_games, team_season_losses, on=['Season', 'TeamID'], how='outer').fillna(0)\n",
    "\n",
    "# Calculate total games played\n",
    "team_games_combined['GamesPlayed'] = team_games_combined['Wins'] + team_games_combined['Losses']\n",
    "\n",
    "# Drop the Wins and Losses columns as they are not required for the final output\n",
    "team_games_combined.drop(columns=['Wins', 'Losses'], inplace=True)\n",
    "\n",
    "team_games_combined"
   ]
  },
  {
   "cell_type": "code",
   "execution_count": 142,
   "id": "1e5f33d4",
   "metadata": {},
   "outputs": [
    {
     "name": "stdout",
     "output_type": "stream",
     "text": [
      "      Season ConfAbbrev ConfTournamentPlace  TeamID  GamesPlayed\n",
      "0       2004      a_sun            Champion    1416          1.0\n",
      "1       2004      a_ten            Champion    1462          4.0\n",
      "2       2004      a_ten            RunnerUp    1173          1.0\n",
      "3       2004      a_ten        Semifinalist    1350          1.0\n",
      "4       2004      a_ten     Quarterfinalist    1386          4.0\n",
      "...      ...        ...                 ...     ...          ...\n",
      "1201    2023   sun_belt            Champion    1418          1.0\n",
      "1202    2023       swac            Champion    1411          1.0\n",
      "1203    2023        wac            Champion    1213          1.0\n",
      "1204    2023        wcc            Champion    1211          4.0\n",
      "1205    2023        wcc            RunnerUp    1388          2.0\n",
      "\n",
      "[1206 rows x 5 columns]\n"
     ]
    }
   ],
   "source": [
    "conf_tourney_competitors_ncaa_tourney_results = pd.merge(df_transformed,team_games_combined, on=['Season', 'TeamID'], how='inner')\n",
    "print(conf_tourney_competitors_ncaa_tourney_results )"
   ]
  },
  {
   "cell_type": "code",
   "execution_count": 143,
   "id": "7c41e75b",
   "metadata": {
    "scrolled": true
   },
   "outputs": [
    {
     "data": {
      "image/png": "[encoded data removed]",
      "text/plain": [
       "<Figure size 1000x600 with 1 Axes>"
      ]
     },
     "metadata": {},
     "output_type": "display_data"
    }
   ],
   "source": [
    "\n",
    "import matplotlib.pyplot as plt\n",
    "import seaborn as sns\n",
    "\n",
    "plt.figure(figsize=(10, 6))\n",
    "sns.boxplot(data=conf_tourney_competitors_ncaa_tourney_results, x='ConfTournamentPlace', y='GamesPlayed')\n",
    "plt.title('Games Played by Conference Tournament Place')\n",
    "plt.xlabel('Conference Tournament Place')\n",
    "plt.ylabel('Games Played')\n",
    "plt.xticks(rotation=45)\n",
    "plt.show()"
   ]
  },
  {
   "cell_type": "code",
   "execution_count": 144,
   "id": "bf45a1a5",
   "metadata": {},
   "outputs": [
    {
     "name": "stdout",
     "output_type": "stream",
     "text": [
      "      Season Seed  TeamID  SeedNum\n",
      "0       1985  W01    1207        1\n",
      "1       1985  W02    1210        2\n",
      "2       1985  W03    1228        3\n",
      "3       1985  W04    1260        4\n",
      "4       1985  W05    1374        5\n",
      "...      ...  ...     ...      ...\n",
      "2485    2023  Z12    1433       12\n",
      "2486    2023  Z13    1233       13\n",
      "2487    2023  Z14    1213       14\n",
      "2488    2023  Z15    1421       15\n",
      "2489    2023  Z16    1224       16\n",
      "\n",
      "[2490 rows x 4 columns]\n"
     ]
    }
   ],
   "source": [
    "teamSeeds_df = pd.read_csv('MNCAATourneySeeds.csv')\n",
    "teamSeeds_df['SeedNum'] = teamSeeds_df['Seed'].str.extract('(\\d+)').astype(int)\n",
    "\n",
    "# Filter the DataFrame for rows where the seed number is less than 8\n",
    "teamSeeds_df = teamSeeds_df[teamSeeds_df['SeedNum'] < 17]\n",
    "\n",
    "# Drop the temporary SeedNum column if no longer needed\n",
    "# teamSeeds_df = filtered_df.drop(columns=['SeedNum'])\n",
    "\n",
    "filtered_df\n",
    "print(teamSeeds_df)\n",
    "\n"
   ]
  },
  {
   "cell_type": "code",
   "execution_count": 145,
   "id": "7fe44009",
   "metadata": {},
   "outputs": [
    {
     "name": "stdout",
     "output_type": "stream",
     "text": [
      "      Season ConfAbbrev ConfTournamentPlace  TeamID  GamesPlayed  Seed  \\\n",
      "0       2004      a_sun            Champion    1416          1.0   Y14   \n",
      "1       2004      a_ten            Champion    1462          4.0   W07   \n",
      "2       2004      a_ten            RunnerUp    1173          1.0   X10   \n",
      "3       2004      a_ten        Semifinalist    1350          1.0   Y11   \n",
      "4       2004      a_ten     Quarterfinalist    1386          4.0   Y01   \n",
      "...      ...        ...                 ...     ...          ...   ...   \n",
      "1201    2023   sun_belt            Champion    1418          1.0   W13   \n",
      "1202    2023       swac            Champion    1411          1.0  W16b   \n",
      "1203    2023        wac            Champion    1213          1.0   Z14   \n",
      "1204    2023        wcc            Champion    1211          4.0   Z03   \n",
      "1205    2023        wcc            RunnerUp    1388          2.0   Z05   \n",
      "\n",
      "      SeedNum  \n",
      "0          14  \n",
      "1           7  \n",
      "2          10  \n",
      "3          11  \n",
      "4           1  \n",
      "...       ...  \n",
      "1201       13  \n",
      "1202       16  \n",
      "1203       14  \n",
      "1204        3  \n",
      "1205        5  \n",
      "\n",
      "[1206 rows x 7 columns]\n"
     ]
    }
   ],
   "source": [
    "top8conftourneyResults = pd.merge(conf_tourney_competitors_ncaa_tourney_results,teamSeeds_df, on=['Season', 'TeamID'], how='inner')\n",
    "print(top8conftourneyResults)"
   ]
  },
  {
   "cell_type": "code",
   "execution_count": 146,
   "id": "16c81710",
   "metadata": {},
   "outputs": [
    {
     "data": {
      "image/png": "[encoded data removed]",
      "text/plain": [
       "<Figure size 1000x600 with 1 Axes>"
      ]
     },
     "metadata": {},
     "output_type": "display_data"
    }
   ],
   "source": [
    "import matplotlib.pyplot as plt\n",
    "import seaborn as sns\n",
    "\n",
    "plt.figure(figsize=(10, 6))\n",
    "sns.boxplot(data=top8conftourneyResults, x='ConfTournamentPlace', y='GamesPlayed')\n",
    "plt.title('Games Played by Conference Tournament Place')\n",
    "plt.xlabel('Conference Tournament Place')\n",
    "plt.ylabel('Games Played')\n",
    "plt.xticks(rotation=45)\n",
    "plt.show()"
   ]
  },
  {
   "cell_type": "code",
   "execution_count": 147,
   "id": "608b7b56",
   "metadata": {},
   "outputs": [
    {
     "data": {
      "image/png": "[encoded data removed]",
      "text/plain": [
       "<Figure size 1000x600 with 1 Axes>"
      ]
     },
     "metadata": {},
     "output_type": "display_data"
    }
   ],
   "source": [
    "avg_games_played = top8conftourneyResults.groupby('ConfTournamentPlace')['GamesPlayed'].mean().reset_index()\n",
    "\n",
    "# Plotting the average games played\n",
    "plt.figure(figsize=(10, 6))\n",
    "sns.barplot(data=avg_games_played, x='ConfTournamentPlace', y='GamesPlayed', palette=\"Set2\")\n",
    "plt.title('Average Games Played by Conference Tournament Place')\n",
    "plt.xlabel('Conference Tournament Place')\n",
    "plt.ylabel('Average Games Played')\n",
    "plt.xticks(rotation=45)\n",
    "plt.show()"
   ]
  },
  {
   "cell_type": "code",
   "execution_count": 148,
   "id": "093d150a",
   "metadata": {},
   "outputs": [
    {
     "data": {
      "image/png": "[encoded data removed]",
      "text/plain": [
       "<Figure size 1200x800 with 1 Axes>"
      ]
     },
     "metadata": {},
     "output_type": "display_data"
    }
   ],
   "source": [
    "plt.figure(figsize=(12, 8))\n",
    "sns.barplot(data=top8conftourneyResults, x='ConfTournamentPlace', y='GamesPlayed', hue='SeedNum', palette=\"viridis\")\n",
    "plt.title('Average Games Played by Conference Tournament Place and Seed')\n",
    "plt.xlabel('Conference Tournament Place')\n",
    "plt.ylabel('Average Games Played')\n",
    "plt.legend(title='Seed Number', bbox_to_anchor=(1.05, 1), loc='upper left')\n",
    "plt.xticks(rotation=45)\n",
    "plt.show()"
   ]
  },
  {
   "cell_type": "code",
   "execution_count": 149,
   "id": "8e9e0196",
   "metadata": {},
   "outputs": [
    {
     "name": "stderr",
     "output_type": "stream",
     "text": [
      "No artists with labels found to put in legend.  Note that artists whose label start with an underscore are ignored when legend() is called with no argument.\n"
     ]
    },
    {
     "data": {
      "image/png": "[encoded data removed]",
      "text/plain": [
       "<Figure size 1200x800 with 1 Axes>"
      ]
     },
     "metadata": {},
     "output_type": "display_data"
    }
   ],
   "source": [
    "plt.figure(figsize=(12, 8))\n",
    "sns.barplot(data=top8conftourneyResults,  y='GamesPlayed', x='SeedNum', palette=\"viridis\")\n",
    "plt.title('Average Games Played by Conference Tournament Place and Seed')\n",
    "plt.xlabel('Conference Tournament Place')\n",
    "plt.ylabel('Average Games Played')\n",
    "plt.legend(title='Seed Number', bbox_to_anchor=(1.05, 1), loc='upper left')\n",
    "plt.xticks(rotation=45)\n",
    "plt.show()"
   ]
  },
  {
   "cell_type": "code",
   "execution_count": 152,
   "id": "03ab9b12",
   "metadata": {},
   "outputs": [
    {
     "data": {
      "application/vnd.plotly.v1+json": {
       "config": {
        "plotlyServerURL": "https://plot.ly"
       },
       "data": [
        {
         "connector": {
          "line": {
           "color": "rgb(63, 63, 63)"
          }
         },
         "measure": [
          "absolute",
          "relative",
          "relative",
          "relative",
          "relative",
          "relative",
          "relative",
          "relative",
          "relative",
          "relative",
          "relative",
          "relative",
          "relative",
          "relative",
          "relative",
          "relative"
         ],
         "name": "Average Games Played",
         "orientation": "v",
         "text": [
          "4.03",
          "-0.80",
          "-0.29",
          "-0.34",
          "-0.43",
          "-0.31",
          "0.14",
          "-0.16",
          "-0.21",
          "-0.09",
          "0.32",
          "-0.33",
          "-0.24",
          "-0.15",
          "0.04",
          "0.15"
         ],
         "textposition": "outside",
         "type": "waterfall",
         "x": [
          "1",
          "2",
          "3",
          "4",
          "5",
          "6",
          "7",
          "8",
          "9",
          "10",
          "11",
          "12",
          "13",
          "14",
          "15",
          "16"
         ],
         "y": [
          0,
          -0.8026315789473681,
          -0.2903508771929828,
          -0.3387387387387384,
          -0.43243243243243246,
          -0.31493993993993996,
          0.13807189542483655,
          -0.15920716112531985,
          -0.21414665801427635,
          -0.09020116807267997,
          0.32349896480331264,
          -0.3320802005012533,
          -0.23918529199711602,
          -0.148972602739726,
          0.03716216216216206,
          0.1462490527911089
         ]
        }
       ],
       "layout": {
        "showlegend": true,
        "template": {
         "data": {
          "bar": [
           {
            "error_x": {
             "color": "#2a3f5f"
            },
            "error_y": {
             "color": "#2a3f5f"
            },
            "marker": {
             "line": {
              "color": "#E5ECF6",
              "width": 0.5
             },
             "pattern": {
              "fillmode": "overlay",
              "size": 10,
              "solidity": 0.2
             }
            },
            "type": "bar"
           }
          ],
          "barpolar": [
           {
            "marker": {
             "line": {
              "color": "#E5ECF6",
              "width": 0.5
             },
             "pattern": {
              "fillmode": "overlay",
              "size": 10,
              "solidity": 0.2
             }
            },
            "type": "barpolar"
           }
          ],
          "carpet": [
           {
            "aaxis": {
             "endlinecolor": "#2a3f5f",
             "gridcolor": "white",
             "linecolor": "white",
             "minorgridcolor": "white",
             "startlinecolor": "#2a3f5f"
            },
            "baxis": {
             "endlinecolor": "#2a3f5f",
             "gridcolor": "white",
             "linecolor": "white",
             "minorgridcolor": "white",
             "startlinecolor": "#2a3f5f"
            },
            "type": "carpet"
           }
          ],
          "choropleth": [
           {
            "colorbar": {
             "outlinewidth": 0,
             "ticks": ""
            },
            "type": "choropleth"
           }
          ],
          "contour": [
           {
            "colorbar": {
             "outlinewidth": 0,
             "ticks": ""
            },
            "colorscale": [
             [
              0,
              "#0d0887"
             ],
             [
              0.1111111111111111,
              "#46039f"
             ],
             [
              0.2222222222222222,
              "#7201a8"
             ],
             [
              0.3333333333333333,
              "#9c179e"
             ],
             [
              0.4444444444444444,
              "#bd3786"
             ],
             [
              0.5555555555555556,
              "#d8576b"
             ],
             [
              0.6666666666666666,
              "#ed7953"
             ],
             [
              0.7777777777777778,
              "#fb9f3a"
             ],
             [
              0.8888888888888888,
              "#fdca26"
             ],
             [
              1,
              "#f0f921"
             ]
            ],
            "type": "contour"
           }
          ],
          "contourcarpet": [
           {
            "colorbar": {
             "outlinewidth": 0,
             "ticks": ""
            },
            "type": "contourcarpet"
           }
          ],
          "heatmap": [
           {
            "colorbar": {
             "outlinewidth": 0,
             "ticks": ""
            },
            "colorscale": [
             [
              0,
              "#0d0887"
             ],
             [
              0.1111111111111111,
              "#46039f"
             ],
             [
              0.2222222222222222,
              "#7201a8"
             ],
             [
              0.3333333333333333,
              "#9c179e"
             ],
             [
              0.4444444444444444,
              "#bd3786"
             ],
             [
              0.5555555555555556,
              "#d8576b"
             ],
             [
              0.6666666666666666,
              "#ed7953"
             ],
             [
              0.7777777777777778,
              "#fb9f3a"
             ],
             [
              0.8888888888888888,
              "#fdca26"
             ],
             [
              1,
              "#f0f921"
             ]
            ],
            "type": "heatmap"
           }
          ],
          "heatmapgl": [
           {
            "colorbar": {
             "outlinewidth": 0,
             "ticks": ""
            },
            "colorscale": [
             [
              0,
              "#0d0887"
             ],
             [
              0.1111111111111111,
              "#46039f"
             ],
             [
              0.2222222222222222,
              "#7201a8"
             ],
             [
              0.3333333333333333,
              "#9c179e"
             ],
             [
              0.4444444444444444,
              "#bd3786"
             ],
             [
              0.5555555555555556,
              "#d8576b"
             ],
             [
              0.6666666666666666,
              "#ed7953"
             ],
             [
              0.7777777777777778,
              "#fb9f3a"
             ],
             [
              0.8888888888888888,
              "#fdca26"
             ],
             [
              1,
              "#f0f921"
             ]
            ],
            "type": "heatmapgl"
           }
          ],
          "histogram": [
           {
            "marker": {
             "pattern": {
              "fillmode": "overlay",
              "size": 10,
              "solidity": 0.2
             }
            },
            "type": "histogram"
           }
          ],
          "histogram2d": [
           {
            "colorbar": {
             "outlinewidth": 0,
             "ticks": ""
            },
            "colorscale": [
             [
              0,
              "#0d0887"
             ],
             [
              0.1111111111111111,
              "#46039f"
             ],
             [
              0.2222222222222222,
              "#7201a8"
             ],
             [
              0.3333333333333333,
              "#9c179e"
             ],
             [
              0.4444444444444444,
              "#bd3786"
             ],
             [
              0.5555555555555556,
              "#d8576b"
             ],
             [
              0.6666666666666666,
              "#ed7953"
             ],
             [
              0.7777777777777778,
              "#fb9f3a"
             ],
             [
              0.8888888888888888,
              "#fdca26"
             ],
             [
              1,
              "#f0f921"
             ]
            ],
            "type": "histogram2d"
           }
          ],
          "histogram2dcontour": [
           {
            "colorbar": {
             "outlinewidth": 0,
             "ticks": ""
            },
            "colorscale": [
             [
              0,
              "#0d0887"
             ],
             [
              0.1111111111111111,
              "#46039f"
             ],
             [
              0.2222222222222222,
              "#7201a8"
             ],
             [
              0.3333333333333333,
              "#9c179e"
             ],
             [
              0.4444444444444444,
              "#bd3786"
             ],
             [
              0.5555555555555556,
              "#d8576b"
             ],
             [
              0.6666666666666666,
              "#ed7953"
             ],
             [
              0.7777777777777778,
              "#fb9f3a"
             ],
             [
              0.8888888888888888,
              "#fdca26"
             ],
             [
              1,
              "#f0f921"
             ]
            ],
            "type": "histogram2dcontour"
           }
          ],
          "mesh3d": [
           {
            "colorbar": {
             "outlinewidth": 0,
             "ticks": ""
            },
            "type": "mesh3d"
           }
          ],
          "parcoords": [
           {
            "line": {
             "colorbar": {
              "outlinewidth": 0,
              "ticks": ""
             }
            },
            "type": "parcoords"
           }
          ],
          "pie": [
           {
            "automargin": true,
            "type": "pie"
           }
          ],
          "scatter": [
           {
            "fillpattern": {
             "fillmode": "overlay",
             "size": 10,
             "solidity": 0.2
            },
            "type": "scatter"
           }
          ],
          "scatter3d": [
           {
            "line": {
             "colorbar": {
              "outlinewidth": 0,
              "ticks": ""
             }
            },
            "marker": {
             "colorbar": {
              "outlinewidth": 0,
              "ticks": ""
             }
            },
            "type": "scatter3d"
           }
          ],
          "scattercarpet": [
           {
            "marker": {
             "colorbar": {
              "outlinewidth": 0,
              "ticks": ""
             }
            },
            "type": "scattercarpet"
           }
          ],
          "scattergeo": [
           {
            "marker": {
             "colorbar": {
              "outlinewidth": 0,
              "ticks": ""
             }
            },
            "type": "scattergeo"
           }
          ],
          "scattergl": [
           {
            "marker": {
             "colorbar": {
              "outlinewidth": 0,
              "ticks": ""
             }
            },
            "type": "scattergl"
           }
          ],
          "scattermapbox": [
           {
            "marker": {
             "colorbar": {
              "outlinewidth": 0,
              "ticks": ""
             }
            },
            "type": "scattermapbox"
           }
          ],
          "scatterpolar": [
           {
            "marker": {
             "colorbar": {
              "outlinewidth": 0,
              "ticks": ""
             }
            },
            "type": "scatterpolar"
           }
          ],
          "scatterpolargl": [
           {
            "marker": {
             "colorbar": {
              "outlinewidth": 0,
              "ticks": ""
             }
            },
            "type": "scatterpolargl"
           }
          ],
          "scatterternary": [
           {
            "marker": {
             "colorbar": {
              "outlinewidth": 0,
              "ticks": ""
             }
            },
            "type": "scatterternary"
           }
          ],
          "surface": [
           {
            "colorbar": {
             "outlinewidth": 0,
             "ticks": ""
            },
            "colorscale": [
             [
              0,
              "#0d0887"
             ],
             [
              0.1111111111111111,
              "#46039f"
             ],
             [
              0.2222222222222222,
              "#7201a8"
             ],
             [
              0.3333333333333333,
              "#9c179e"
             ],
             [
              0.4444444444444444,
              "#bd3786"
             ],
             [
              0.5555555555555556,
              "#d8576b"
             ],
             [
              0.6666666666666666,
              "#ed7953"
             ],
             [
              0.7777777777777778,
              "#fb9f3a"
             ],
             [
              0.8888888888888888,
              "#fdca26"
             ],
             [
              1,
              "#f0f921"
             ]
            ],
            "type": "surface"
           }
          ],
          "table": [
           {
            "cells": {
             "fill": {
              "color": "#EBF0F8"
             },
             "line": {
              "color": "white"
             }
            },
            "header": {
             "fill": {
              "color": "#C8D4E3"
             },
             "line": {
              "color": "white"
             }
            },
            "type": "table"
           }
          ]
         },
         "layout": {
          "annotationdefaults": {
           "arrowcolor": "#2a3f5f",
           "arrowhead": 0,
           "arrowwidth": 1
          },
          "autotypenumbers": "strict",
          "coloraxis": {
           "colorbar": {
            "outlinewidth": 0,
            "ticks": ""
           }
          },
          "colorscale": {
           "diverging": [
            [
             0,
             "#8e0152"
            ],
            [
             0.1,
             "#c51b7d"
            ],
            [
             0.2,
             "#de77ae"
            ],
            [
             0.3,
             "#f1b6da"
            ],
            [
             0.4,
             "#fde0ef"
            ],
            [
             0.5,
             "#f7f7f7"
            ],
            [
             0.6,
             "#e6f5d0"
            ],
            [
             0.7,
             "#b8e186"
            ],
            [
             0.8,
             "#7fbc41"
            ],
            [
             0.9,
             "#4d9221"
            ],
            [
             1,
             "#276419"
            ]
           ],
           "sequential": [
            [
             0,
             "#0d0887"
            ],
            [
             0.1111111111111111,
             "#46039f"
            ],
            [
             0.2222222222222222,
             "#7201a8"
            ],
            [
             0.3333333333333333,
             "#9c179e"
            ],
            [
             0.4444444444444444,
             "#bd3786"
            ],
            [
             0.5555555555555556,
             "#d8576b"
            ],
            [
             0.6666666666666666,
             "#ed7953"
            ],
            [
             0.7777777777777778,
             "#fb9f3a"
            ],
            [
             0.8888888888888888,
             "#fdca26"
            ],
            [
             1,
             "#f0f921"
            ]
           ],
           "sequentialminus": [
            [
             0,
             "#0d0887"
            ],
            [
             0.1111111111111111,
             "#46039f"
            ],
            [
             0.2222222222222222,
             "#7201a8"
            ],
            [
             0.3333333333333333,
             "#9c179e"
            ],
            [
             0.4444444444444444,
             "#bd3786"
            ],
            [
             0.5555555555555556,
             "#d8576b"
            ],
            [
             0.6666666666666666,
             "#ed7953"
            ],
            [
             0.7777777777777778,
             "#fb9f3a"
            ],
            [
             0.8888888888888888,
             "#fdca26"
            ],
            [
             1,
             "#f0f921"
            ]
           ]
          },
          "colorway": [
           "#636efa",
           "#EF553B",
           "#00cc96",
           "#ab63fa",
           "#FFA15A",
           "#19d3f3",
           "#FF6692",
           "#B6E880",
           "#FF97FF",
           "#FECB52"
          ],
          "font": {
           "color": "#2a3f5f"
          },
          "geo": {
           "bgcolor": "white",
           "lakecolor": "white",
           "landcolor": "#E5ECF6",
           "showlakes": true,
           "showland": true,
           "subunitcolor": "white"
          },
          "hoverlabel": {
           "align": "left"
          },
          "hovermode": "closest",
          "mapbox": {
           "style": "light"
          },
          "paper_bgcolor": "white",
          "plot_bgcolor": "#E5ECF6",
          "polar": {
           "angularaxis": {
            "gridcolor": "white",
            "linecolor": "white",
            "ticks": ""
           },
           "bgcolor": "#E5ECF6",
           "radialaxis": {
            "gridcolor": "white",
            "linecolor": "white",
            "ticks": ""
           }
          },
          "scene": {
           "xaxis": {
            "backgroundcolor": "#E5ECF6",
            "gridcolor": "white",
            "gridwidth": 2,
            "linecolor": "white",
            "showbackground": true,
            "ticks": "",
            "zerolinecolor": "white"
           },
           "yaxis": {
            "backgroundcolor": "#E5ECF6",
            "gridcolor": "white",
            "gridwidth": 2,
            "linecolor": "white",
            "showbackground": true,
            "ticks": "",
            "zerolinecolor": "white"
           },
           "zaxis": {
            "backgroundcolor": "#E5ECF6",
            "gridcolor": "white",
            "gridwidth": 2,
            "linecolor": "white",
            "showbackground": true,
            "ticks": "",
            "zerolinecolor": "white"
           }
          },
          "shapedefaults": {
           "line": {
            "color": "#2a3f5f"
           }
          },
          "ternary": {
           "aaxis": {
            "gridcolor": "white",
            "linecolor": "white",
            "ticks": ""
           },
           "baxis": {
            "gridcolor": "white",
            "linecolor": "white",
            "ticks": ""
           },
           "bgcolor": "#E5ECF6",
           "caxis": {
            "gridcolor": "white",
            "linecolor": "white",
            "ticks": ""
           }
          },
          "title": {
           "x": 0.05
          },
          "xaxis": {
           "automargin": true,
           "gridcolor": "white",
           "linecolor": "white",
           "ticks": "",
           "title": {
            "standoff": 15
           },
           "zerolinecolor": "white",
           "zerolinewidth": 2
          },
          "yaxis": {
           "automargin": true,
           "gridcolor": "white",
           "linecolor": "white",
           "ticks": "",
           "title": {
            "standoff": 15
           },
           "zerolinecolor": "white",
           "zerolinewidth": 2
          }
         }
        },
        "title": {
         "text": "Delta of Average Games Played by Seed Number <br>Team needed to finish 4th or better in conf tourney<br>Last 20 Years"
        },
        "xaxis": {
         "title": {
          "text": "Seed Number"
         }
        },
        "yaxis": {
         "title": {
          "text": "Delta in Average Games Played"
         }
        }
       }
      },
      "text/html": [
       "<div>                            <div id=\"98a9150b-032b-4a6e-b107-ffa9c4649729\" class=\"plotly-graph-div\" style=\"height:525px; width:100%;\"></div>            <script type=\"text/javascript\">                require([\"plotly\"], function(Plotly) {                    window.PLOTLYENV=window.PLOTLYENV || {};                                    if (document.getElementById(\"98a9150b-032b-4a6e-b107-ffa9c4649729\")) {                    Plotly.newPlot(                        \"98a9150b-032b-4a6e-b107-ffa9c4649729\",                        [{\"connector\":{\"line\":{\"color\":\"rgb(63, 63, 63)\"}},\"measure\":[\"absolute\",\"relative\",\"relative\",\"relative\",\"relative\",\"relative\",\"relative\",\"relative\",\"relative\",\"relative\",\"relative\",\"relative\",\"relative\",\"relative\",\"relative\",\"relative\"],\"name\":\"Average Games Played\",\"orientation\":\"v\",\"text\":[\"4.03\",\"-0.80\",\"-0.29\",\"-0.34\",\"-0.43\",\"-0.31\",\"0.14\",\"-0.16\",\"-0.21\",\"-0.09\",\"0.32\",\"-0.33\",\"-0.24\",\"-0.15\",\"0.04\",\"0.15\"],\"textposition\":\"outside\",\"x\":[\"1\",\"2\",\"3\",\"4\",\"5\",\"6\",\"7\",\"8\",\"9\",\"10\",\"11\",\"12\",\"13\",\"14\",\"15\",\"16\"],\"y\":[0.0,-0.8026315789473681,-0.2903508771929828,-0.3387387387387384,-0.43243243243243246,-0.31493993993993996,0.13807189542483655,-0.15920716112531985,-0.21414665801427635,-0.09020116807267997,0.32349896480331264,-0.3320802005012533,-0.23918529199711602,-0.148972602739726,0.03716216216216206,0.1462490527911089],\"type\":\"waterfall\"}],                        {\"template\":{\"data\":{\"histogram2dcontour\":[{\"type\":\"histogram2dcontour\",\"colorbar\":{\"outlinewidth\":0,\"ticks\":\"\"},\"colorscale\":[[0.0,\"#0d0887\"],[0.1111111111111111,\"#46039f\"],[0.2222222222222222,\"#7201a8\"],[0.3333333333333333,\"#9c179e\"],[0.4444444444444444,\"#bd3786\"],[0.5555555555555556,\"#d8576b\"],[0.6666666666666666,\"#ed7953\"],[0.7777777777777778,\"#fb9f3a\"],[0.8888888888888888,\"#fdca26\"],[1.0,\"#f0f921\"]]}],\"choropleth\":[{\"type\":\"choropleth\",\"colorbar\":{\"outlinewidth\":0,\"ticks\":\"\"}}],\"histogram2d\":[{\"type\":\"histogram2d\",\"colorbar\":{\"outlinewidth\":0,\"ticks\":\"\"},\"colorscale\":[[0.0,\"#0d0887\"],[0.1111111111111111,\"#46039f\"],[0.2222222222222222,\"#7201a8\"],[0.3333333333333333,\"#9c179e\"],[0.4444444444444444,\"#bd3786\"],[0.5555555555555556,\"#d8576b\"],[0.6666666666666666,\"#ed7953\"],[0.7777777777777778,\"#fb9f3a\"],[0.8888888888888888,\"#fdca26\"],[1.0,\"#f0f921\"]]}],\"heatmap\":[{\"type\":\"heatmap\",\"colorbar\":{\"outlinewidth\":0,\"ticks\":\"\"},\"colorscale\":[[0.0,\"#0d0887\"],[0.1111111111111111,\"#46039f\"],[0.2222222222222222,\"#7201a8\"],[0.3333333333333333,\"#9c179e\"],[0.4444444444444444,\"#bd3786\"],[0.5555555555555556,\"#d8576b\"],[0.6666666666666666,\"#ed7953\"],[0.7777777777777778,\"#fb9f3a\"],[0.8888888888888888,\"#fdca26\"],[1.0,\"#f0f921\"]]}],\"heatmapgl\":[{\"type\":\"heatmapgl\",\"colorbar\":{\"outlinewidth\":0,\"ticks\":\"\"},\"colorscale\":[[0.0,\"#0d0887\"],[0.1111111111111111,\"#46039f\"],[0.2222222222222222,\"#7201a8\"],[0.3333333333333333,\"#9c179e\"],[0.4444444444444444,\"#bd3786\"],[0.5555555555555556,\"#d8576b\"],[0.6666666666666666,\"#ed7953\"],[0.7777777777777778,\"#fb9f3a\"],[0.8888888888888888,\"#fdca26\"],[1.0,\"#f0f921\"]]}],\"contourcarpet\":[{\"type\":\"contourcarpet\",\"colorbar\":{\"outlinewidth\":0,\"ticks\":\"\"}}],\"contour\":[{\"type\":\"contour\",\"colorbar\":{\"outlinewidth\":0,\"ticks\":\"\"},\"colorscale\":[[0.0,\"#0d0887\"],[0.1111111111111111,\"#46039f\"],[0.2222222222222222,\"#7201a8\"],[0.3333333333333333,\"#9c179e\"],[0.4444444444444444,\"#bd3786\"],[0.5555555555555556,\"#d8576b\"],[0.6666666666666666,\"#ed7953\"],[0.7777777777777778,\"#fb9f3a\"],[0.8888888888888888,\"#fdca26\"],[1.0,\"#f0f921\"]]}],\"surface\":[{\"type\":\"surface\",\"colorbar\":{\"outlinewidth\":0,\"ticks\":\"\"},\"colorscale\":[[0.0,\"#0d0887\"],[0.1111111111111111,\"#46039f\"],[0.2222222222222222,\"#7201a8\"],[0.3333333333333333,\"#9c179e\"],[0.4444444444444444,\"#bd3786\"],[0.5555555555555556,\"#d8576b\"],[0.6666666666666666,\"#ed7953\"],[0.7777777777777778,\"#fb9f3a\"],[0.8888888888888888,\"#fdca26\"],[1.0,\"#f0f921\"]]}],\"mesh3d\":[{\"type\":\"mesh3d\",\"colorbar\":{\"outlinewidth\":0,\"ticks\":\"\"}}],\"scatter\":[{\"fillpattern\":{\"fillmode\":\"overlay\",\"size\":10,\"solidity\":0.2},\"type\":\"scatter\"}],\"parcoords\":[{\"type\":\"parcoords\",\"line\":{\"colorbar\":{\"outlinewidth\":0,\"ticks\":\"\"}}}],\"scatterpolargl\":[{\"type\":\"scatterpolargl\",\"marker\":{\"colorbar\":{\"outlinewidth\":0,\"ticks\":\"\"}}}],\"bar\":[{\"error_x\":{\"color\":\"#2a3f5f\"},\"error_y\":{\"color\":\"#2a3f5f\"},\"marker\":{\"line\":{\"color\":\"#E5ECF6\",\"width\":0.5},\"pattern\":{\"fillmode\":\"overlay\",\"size\":10,\"solidity\":0.2}},\"type\":\"bar\"}],\"scattergeo\":[{\"type\":\"scattergeo\",\"marker\":{\"colorbar\":{\"outlinewidth\":0,\"ticks\":\"\"}}}],\"scatterpolar\":[{\"type\":\"scatterpolar\",\"marker\":{\"colorbar\":{\"outlinewidth\":0,\"ticks\":\"\"}}}],\"histogram\":[{\"marker\":{\"pattern\":{\"fillmode\":\"overlay\",\"size\":10,\"solidity\":0.2}},\"type\":\"histogram\"}],\"scattergl\":[{\"type\":\"scattergl\",\"marker\":{\"colorbar\":{\"outlinewidth\":0,\"ticks\":\"\"}}}],\"scatter3d\":[{\"type\":\"scatter3d\",\"line\":{\"colorbar\":{\"outlinewidth\":0,\"ticks\":\"\"}},\"marker\":{\"colorbar\":{\"outlinewidth\":0,\"ticks\":\"\"}}}],\"scattermapbox\":[{\"type\":\"scattermapbox\",\"marker\":{\"colorbar\":{\"outlinewidth\":0,\"ticks\":\"\"}}}],\"scatterternary\":[{\"type\":\"scatterternary\",\"marker\":{\"colorbar\":{\"outlinewidth\":0,\"ticks\":\"\"}}}],\"scattercarpet\":[{\"type\":\"scattercarpet\",\"marker\":{\"colorbar\":{\"outlinewidth\":0,\"ticks\":\"\"}}}],\"carpet\":[{\"aaxis\":{\"endlinecolor\":\"#2a3f5f\",\"gridcolor\":\"white\",\"linecolor\":\"white\",\"minorgridcolor\":\"white\",\"startlinecolor\":\"#2a3f5f\"},\"baxis\":{\"endlinecolor\":\"#2a3f5f\",\"gridcolor\":\"white\",\"linecolor\":\"white\",\"minorgridcolor\":\"white\",\"startlinecolor\":\"#2a3f5f\"},\"type\":\"carpet\"}],\"table\":[{\"cells\":{\"fill\":{\"color\":\"#EBF0F8\"},\"line\":{\"color\":\"white\"}},\"header\":{\"fill\":{\"color\":\"#C8D4E3\"},\"line\":{\"color\":\"white\"}},\"type\":\"table\"}],\"barpolar\":[{\"marker\":{\"line\":{\"color\":\"#E5ECF6\",\"width\":0.5},\"pattern\":{\"fillmode\":\"overlay\",\"size\":10,\"solidity\":0.2}},\"type\":\"barpolar\"}],\"pie\":[{\"automargin\":true,\"type\":\"pie\"}]},\"layout\":{\"autotypenumbers\":\"strict\",\"colorway\":[\"#636efa\",\"#EF553B\",\"#00cc96\",\"#ab63fa\",\"#FFA15A\",\"#19d3f3\",\"#FF6692\",\"#B6E880\",\"#FF97FF\",\"#FECB52\"],\"font\":{\"color\":\"#2a3f5f\"},\"hovermode\":\"closest\",\"hoverlabel\":{\"align\":\"left\"},\"paper_bgcolor\":\"white\",\"plot_bgcolor\":\"#E5ECF6\",\"polar\":{\"bgcolor\":\"#E5ECF6\",\"angularaxis\":{\"gridcolor\":\"white\",\"linecolor\":\"white\",\"ticks\":\"\"},\"radialaxis\":{\"gridcolor\":\"white\",\"linecolor\":\"white\",\"ticks\":\"\"}},\"ternary\":{\"bgcolor\":\"#E5ECF6\",\"aaxis\":{\"gridcolor\":\"white\",\"linecolor\":\"white\",\"ticks\":\"\"},\"baxis\":{\"gridcolor\":\"white\",\"linecolor\":\"white\",\"ticks\":\"\"},\"caxis\":{\"gridcolor\":\"white\",\"linecolor\":\"white\",\"ticks\":\"\"}},\"coloraxis\":{\"colorbar\":{\"outlinewidth\":0,\"ticks\":\"\"}},\"colorscale\":{\"sequential\":[[0.0,\"#0d0887\"],[0.1111111111111111,\"#46039f\"],[0.2222222222222222,\"#7201a8\"],[0.3333333333333333,\"#9c179e\"],[0.4444444444444444,\"#bd3786\"],[0.5555555555555556,\"#d8576b\"],[0.6666666666666666,\"#ed7953\"],[0.7777777777777778,\"#fb9f3a\"],[0.8888888888888888,\"#fdca26\"],[1.0,\"#f0f921\"]],\"sequentialminus\":[[0.0,\"#0d0887\"],[0.1111111111111111,\"#46039f\"],[0.2222222222222222,\"#7201a8\"],[0.3333333333333333,\"#9c179e\"],[0.4444444444444444,\"#bd3786\"],[0.5555555555555556,\"#d8576b\"],[0.6666666666666666,\"#ed7953\"],[0.7777777777777778,\"#fb9f3a\"],[0.8888888888888888,\"#fdca26\"],[1.0,\"#f0f921\"]],\"diverging\":[[0,\"#8e0152\"],[0.1,\"#c51b7d\"],[0.2,\"#de77ae\"],[0.3,\"#f1b6da\"],[0.4,\"#fde0ef\"],[0.5,\"#f7f7f7\"],[0.6,\"#e6f5d0\"],[0.7,\"#b8e186\"],[0.8,\"#7fbc41\"],[0.9,\"#4d9221\"],[1,\"#276419\"]]},\"xaxis\":{\"gridcolor\":\"white\",\"linecolor\":\"white\",\"ticks\":\"\",\"title\":{\"standoff\":15},\"zerolinecolor\":\"white\",\"automargin\":true,\"zerolinewidth\":2},\"yaxis\":{\"gridcolor\":\"white\",\"linecolor\":\"white\",\"ticks\":\"\",\"title\":{\"standoff\":15},\"zerolinecolor\":\"white\",\"automargin\":true,\"zerolinewidth\":2},\"scene\":{\"xaxis\":{\"backgroundcolor\":\"#E5ECF6\",\"gridcolor\":\"white\",\"linecolor\":\"white\",\"showbackground\":true,\"ticks\":\"\",\"zerolinecolor\":\"white\",\"gridwidth\":2},\"yaxis\":{\"backgroundcolor\":\"#E5ECF6\",\"gridcolor\":\"white\",\"linecolor\":\"white\",\"showbackground\":true,\"ticks\":\"\",\"zerolinecolor\":\"white\",\"gridwidth\":2},\"zaxis\":{\"backgroundcolor\":\"#E5ECF6\",\"gridcolor\":\"white\",\"linecolor\":\"white\",\"showbackground\":true,\"ticks\":\"\",\"zerolinecolor\":\"white\",\"gridwidth\":2}},\"shapedefaults\":{\"line\":{\"color\":\"#2a3f5f\"}},\"annotationdefaults\":{\"arrowcolor\":\"#2a3f5f\",\"arrowhead\":0,\"arrowwidth\":1},\"geo\":{\"bgcolor\":\"white\",\"landcolor\":\"#E5ECF6\",\"subunitcolor\":\"white\",\"showland\":true,\"showlakes\":true,\"lakecolor\":\"white\"},\"title\":{\"x\":0.05},\"mapbox\":{\"style\":\"light\"}}},\"title\":{\"text\":\"Delta of Average Games Played by Seed Number <br>Team needed to finish 4th or better in conf tourney<br>Last 20 Years\"},\"xaxis\":{\"title\":{\"text\":\"Seed Number\"}},\"yaxis\":{\"title\":{\"text\":\"Delta in Average Games Played\"}},\"showlegend\":true},                        {\"responsive\": true}                    ).then(function(){\n",
       "                            \n",
       "var gd = document.getElementById('98a9150b-032b-4a6e-b107-ffa9c4649729');\n",
       "var x = new MutationObserver(function (mutations, observer) {{\n",
       "        var display = window.getComputedStyle(gd).display;\n",
       "        if (!display || display === 'none') {{\n",
       "            console.log([gd, 'removed!']);\n",
       "            Plotly.purge(gd);\n",
       "            observer.disconnect();\n",
       "        }}\n",
       "}});\n",
       "\n",
       "// Listen for the removal of the full notebook cells\n",
       "var notebookContainer = gd.closest('#notebook-container');\n",
       "if (notebookContainer) {{\n",
       "    x.observe(notebookContainer, {childList: true});\n",
       "}}\n",
       "\n",
       "// Listen for the clearing of the current output cell\n",
       "var outputEl = gd.closest('.output');\n",
       "if (outputEl) {{\n",
       "    x.observe(outputEl, {childList: true});\n",
       "}}\n",
       "\n",
       "                        })                };                });            </script>        </div>"
      ]
     },
     "metadata": {},
     "output_type": "display_data"
    },
    {
     "name": "stdout",
     "output_type": "stream",
     "text": [
      "    SeedNum  GamesPlayed\n",
      "0         1     4.026316\n",
      "1         2     3.223684\n",
      "2         3     2.933333\n",
      "3         4     2.594595\n",
      "4         5     2.162162\n",
      "5         6     1.847222\n",
      "6         7     1.985294\n",
      "7         8     1.826087\n",
      "8         9     1.611940\n",
      "9        10     1.521739\n",
      "10       11     1.845238\n",
      "11       12     1.513158\n",
      "12       13     1.273973\n",
      "13       14     1.125000\n",
      "14       15     1.162162\n",
      "15       16     1.308411\n"
     ]
    }
   ],
   "source": [
    "import plotly.graph_objects as go\n",
    "import numpy as np\n",
    "df = top8conftourneyResults\n",
    "\n",
    "# Assuming 'df' is your DataFrame with detailed game records, including SeedNum\n",
    "# Calculate the average games played for each SeedNum\n",
    "avg_games_played_by_seed = df.groupby('SeedNum')['GamesPlayed'].mean().reset_index()\n",
    "\n",
    "# Sort the DataFrame by SeedNum to ensure the order is correct\n",
    "avg_games_played_by_seed = avg_games_played_by_seed.sort_values(by='SeedNum')\n",
    "\n",
    "# Calculate the deltas for the waterfall chart\n",
    "# For the waterfall chart, the first delta is the average games played by the 1 seed\n",
    "# Subsequent deltas are the changes from one seed to the next\n",
    "deltas = np.diff(avg_games_played_by_seed['GamesPlayed'], prepend=avg_games_played_by_seed['GamesPlayed'].iloc[0])\n",
    "\n",
    "# Adjust the measures array for the waterfall chart\n",
    "measures = ['relative'] * len(deltas)\n",
    "measures[0] = 'absolute'  # The first value is the starting point (absolute)\n",
    "\n",
    "# Text for the annotations\n",
    "text_values = [f\"{delta:.2f}\" if i != 0 else f\"{avg_games_played_by_seed['GamesPlayed'].iloc[0]:.2f}\" for i, delta in enumerate(deltas)]\n",
    "\n",
    "# Create the waterfall chart\n",
    "fig = go.Figure(go.Waterfall(\n",
    "    name=\"Average Games Played\",\n",
    "    orientation=\"v\",\n",
    "    measure=measures,\n",
    "    x=avg_games_played_by_seed['SeedNum'].astype(str).tolist(),\n",
    "    textposition=\"outside\",\n",
    "    text=text_values,\n",
    "    y=deltas,\n",
    "    connector={\"line\":{\"color\":\"rgb(63, 63, 63)\"}},\n",
    "))\n",
    "\n",
    "fig.update_layout(\n",
    "    title=\"Delta of Average Games Played by Seed Number <br>Team needed to finish 4th or better in conf tourney<br>Last 20 Years\",\n",
    "    xaxis_title=\"Seed Number\",\n",
    "    yaxis_title=\"Delta in Average Games Played\",\n",
    "    showlegend=True\n",
    ")\n",
    "\n",
    "fig.show()\n",
    "print(avg_games_played_by_seed)"
   ]
  },
  {
   "cell_type": "markdown",
   "id": "bcdbfd53",
   "metadata": {},
   "source": [
    "#1s and #2s - not the same degree of elite \n",
    "#6,#7,#8,#11 - similar durations for tourney runs\n",
    "#9,#10, #12 - not dead last, but pretty close\n",
    "\n"
   ]
  },
  {
   "cell_type": "code",
   "execution_count": null,
   "id": "ff25704b",
   "metadata": {},
   "outputs": [],
   "source": []
  }
 ],
 "metadata": {
  "kernelspec": {
   "display_name": "Python 3 (ipykernel)",
   "language": "python",
   "name": "python3"
  },
  "language_info": {
   "codemirror_mode": {
    "name": "ipython",
    "version": 3
   },
   "file_extension": ".py",
   "mimetype": "text/x-python",
   "name": "python",
   "nbconvert_exporter": "python",
   "pygments_lexer": "ipython3",
   "version": "3.11.5"
  }
 },
 "nbformat": 4,
 "nbformat_minor": 5
}
